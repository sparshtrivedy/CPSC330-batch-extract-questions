{
 "cells": [
  {
   "cell_type": "markdown",
   "id": "3eafc995",
   "metadata": {},
   "source": [
    "<div class=\"alert alert-warning\">\n",
    "\n",
    "hw7_sol (6).ipynb\n",
    "    \n",
    "</div>"
   ]
  },
  {
   "cell_type": "code",
   "execution_count": null,
   "id": "e542855f",
   "metadata": {},
   "outputs": [
    {
     "name": "stdout",
     "output_type": "stream",
     "text": [
      "Document 0:\n",
      "Assigned Topic: 3\n",
      "Text: You know, I was reading 18 U.S.C. 922 and something just did not make \n",
      "sence and I was wondering if someone could help me out.\n",
      "\n",
      "Say U.S.C. 922 :\n",
      "\n",
      "(1) Except as provided in paragraph (2), it shall be unlawful for\n",
      "any person to transfer or possess a machinegun.\n",
      "\n",
      " Well I got to looking in my law dictionary and I found that a \"person\" \n",
      "might also be an artificial entity that is created by government \n",
      "and has no rights under the federal constitution. So, what I \n",
      "don't understand is how a statute like 922 can be enforced on \n",
      "an individual. So someone tell me how my government can tell\n",
      "me what I can or cannot possess. Just passing a law \n",
      "does not make it LAW. Everyone knows that laws are constitional\n",
      "until it goes to court. So, has it ever gone to court, not\n",
      "just your run of the mill \"Ok I had it I am guilty, put me in jail\"\n",
      "\n",
      "Has anyone ever claimed that they had a right to possess and was told\n",
      "by the Supreme Court that they didn't have that right?\n",
      "\n",
      "\n",
      "\n",
      "\n",
      "Document 1:\n",
      "Assigned Topic: 1\n",
      "Text: \n",
      "\n",
      "\n",
      "It's not a bad question: I don't have any refs that list this algorithm\n",
      "either. But thinking about it a bit, it shouldn't be too hard.\n",
      "\n",
      "1) Take three of the points and find the plane they define as well as\n",
      "the circle that they lie on (you say you have this algorithm already)\n",
      "\n",
      "2) Find the center  of this circle. The line passing through this center\n",
      "perpendicular to the plane of the three points passes through the center of\n",
      "the sphere.\n",
      "\n",
      "3) Repeat with the unused point and two of the original points. This\n",
      "gives you two different lines that both pass through the sphere's\n",
      "origin. Their interection is the center of the sphere.\n",
      "\n",
      "4) the radius is easy to compute, it's just the distance from the center to\n",
      "any of the original points.\n",
      "\n",
      "I'll leave the math to you, but this is a workable algorithm. :-)\n",
      "\n",
      "\n",
      "An alternate method would be to take pairs of points: the plane formed\n",
      "by the perpendicular bisector of each line segment pair also contains the\n",
      "center of the sphere. Three pairs will form three planes, intersecting\n",
      "at a point. This might be easier to implement.\n",
      "\n",
      "Document 2:\n",
      "Assigned Topic: 4\n",
      "Text: \n",
      "Actuallay I don't, but on the other hand I don't support the idea of having\n",
      "one newsgroup for every aspect of graphics programming as proposed by Brian,\n",
      "in his reply to my original posting.\n",
      "I would suggest a looser structure more like a comp.graphics.programmer,\n",
      "comp.graphics.hw_and_sw\n",
      "The reason for making as few groups as possible is for the same reason you\n",
      "say we shouldn't spilt up, not to get to few postings every day.\n",
      "I takes to much time to browse through all postings just to find two or \n",
      "three I'm interested in.\n",
      "\n",
      "I understand and agree when you say you want all aspects of graphics in one\n",
      "meeting. I agree to some extension. I see news as a forum to exchange ideas,\n",
      "help others or to be helped. I think this is difficult to achive if there\n",
      "are so many different things in one meeting.\n",
      "\n",
      "Good evening netters|-)\n",
      "\n",
      "Document 3:\n",
      "Assigned Topic: 1\n",
      "Text: The following problem is really bugging me,\n",
      "and I would appreciate any help.\n",
      "\n",
      "I create two windows:\n",
      "\n",
      "w1 (child to root) with event_mask = ButtonPressMask|KeyPressMask;\n",
      "w2 (child to w1) with do_not_propagate_mask = ButtonPressMask|KeyPressMask;\n",
      "\n",
      "\n",
      "Keypress events in w2 are discarded, but ButtonPress events fall through\n",
      "to w1, with subwindow set to w2.\n",
      "\n",
      "FYI, I'm using xnews/olvwm.\n",
      "\n",
      "Am I doing something fundamentally wrong here?\n",
      "\n",
      "Document 4:\n",
      "Assigned Topic: 3\n",
      "Text: \n",
      "\n",
      "  This is the latest from UPI \n",
      "\n",
      "     Foreign Ministry spokesman Ferhat Ataman told journalists Turkey was\n",
      "     closing its air space to all flights to and from Armenia and would\n",
      "     prevent humanitarian aid from reaching the republic overland across\n",
      "     Turkish territory.\n",
      "\n",
      "  \n",
      "   Historically even the most uncivilized of peoples have exhibited \n",
      "   signs of compassion by allowing humanitarian aid to reach civilian\n",
      "   populations. Even the Nazis did this much.\n",
      "\n",
      "   It seems as though from now on Turkey will publicly pronounce \n",
      "   themselves 'hypocrites' should they choose to continue their\n",
      "   condemnation of the Serbians.\n",
      "\n",
      "\n",
      "\n",
      "--\n",
      "\n"
     ]
    }
   ],
   "source": [
    "top_topics = document_topics[:5].argmax(axis=1)\n",
    "\n",
    "for i, topic_num in enumerate(top_topics):\n",
    "    print(f\"Document {i}:\")\n",
    "    print(f\"Assigned Topic: {topic_num}\")\n",
    "    print(f\"Text: {df['text'].iloc[i]}\")\n",
    "    print()"
   ]
  },
  {
   "cell_type": "markdown",
   "id": "9ba9417e",
   "metadata": {},
   "source": [
    "<!-- END QUESTION -->\n",
    "\n",
    "<br><br><br><br>"
   ]
  },
  {
   "cell_type": "markdown",
   "id": "724a060a",
   "metadata": {},
   "source": [
    "<div class=\"alert alert-warning\">\n",
    "\n",
    "hw7_sol (32).ipynb\n",
    "    \n",
    "</div>"
   ]
  },
  {
   "cell_type": "code",
   "execution_count": null,
   "id": "f3b8998a",
   "metadata": {},
   "outputs": [
    {
     "data": {
      "text/plain": [
       "array([[0.00250191, 0.00250412, 0.6736669 , 0.00250174, 0.31131755,\n",
       "        0.00250205, 0.00250384, 0.00250188],\n",
       "       [0.00176209, 0.00176258, 0.0017624 , 0.00176226, 0.00176247,\n",
       "        0.45947738, 0.52994825, 0.00176256],\n",
       "       [0.00255298, 0.00255495, 0.76823895, 0.00255543, 0.00255548,\n",
       "        0.00255355, 0.21643463, 0.00255402],\n",
       "       [0.00625411, 0.00625596, 0.00626404, 0.00625444, 0.1224402 ,\n",
       "        0.00625883, 0.8400108 , 0.00626162],\n",
       "       [0.13922576, 0.00368272, 0.00368269, 0.00367976, 0.83869089,\n",
       "        0.00368051, 0.00367886, 0.00367881]])"
      ]
     },
     "execution_count": 41,
     "metadata": {},
     "output_type": "execute_result"
    }
   ],
   "source": [
    "doc_topic_dist = lda.transform(transformed[:5])\n",
    "doc_topic_dist"
   ]
  },
  {
   "cell_type": "code",
   "execution_count": null,
   "id": "65aeb3ec",
   "metadata": {},
   "outputs": [
    {
     "name": "stdout",
     "output_type": "stream",
     "text": [
      "comp.windows.x\n",
      "talk.politics.guns\n",
      "comp.windows.x\n",
      "talk.politics.guns\n",
      "rec.sport.hockey\n"
     ]
    }
   ],
   "source": [
    "most_likely_topics = np.argmax(doc_topic_dist, axis=1)\n",
    "for topic_id in most_likely_topics:\n",
    "    print(newsgroups_train.target_names[topic_id])"
   ]
  },
  {
   "cell_type": "markdown",
   "id": "7ce481d6",
   "metadata": {},
   "source": [
    "The model is relatively confident in identifying the label for the first, third, fourth, and fifth document and deciding between two similar labels for the second document. This suggests that the model is efficient for topic modeling and the probability distribution returned gives an informative measure."
   ]
  },
  {
   "cell_type": "markdown",
   "id": "df9158b6",
   "metadata": {},
   "source": [
    "<!-- END QUESTION -->\n",
    "\n",
    "<br><br><br><br>"
   ]
  },
  {
   "cell_type": "markdown",
   "id": "750d8953",
   "metadata": {},
   "source": [
    "<div class=\"alert alert-warning\">\n",
    "\n",
    "hw7_sol (51).ipynb\n",
    "    \n",
    "</div>"
   ]
  },
  {
   "cell_type": "code",
   "execution_count": null,
   "id": "f48de443",
   "metadata": {},
   "outputs": [
    {
     "name": "stdout",
     "output_type": "stream",
     "text": [
      "\n",
      "document 0\n",
      "Mideast/Atheism: 0.0031686932703374644\n",
      "Christianity:    0.0031698744747841387\n",
      "Gun Politics:    0.9550627906753731\n",
      "Sports:          0.003162485058950938\n",
      "Computer:        0.0031678042136514175\n",
      "Mideast:         0.03226835230690306\n",
      "\n",
      "document 1\n",
      "Mideast/Atheism: 0.002193174040462732\n",
      "Christianity:    0.002187786856752882\n",
      "Gun Politics:    0.12549203118658822\n",
      "Sports:          0.0021899164260827334\n",
      "Computer:        0.8657503965157255\n",
      "Mideast:         0.002186694974388028\n",
      "\n",
      "document 2\n",
      "Mideast/Atheism: 0.0026796269976136432\n",
      "Christianity:    0.002679355217030096\n",
      "Gun Politics:    0.6466538852782806\n",
      "Sports:          0.002666605874347156\n",
      "Computer:        0.3426573067132607\n",
      "Mideast:         0.0026632199194677\n",
      "\n",
      "document 3\n",
      "Mideast/Atheism: 0.09300991760694904\n",
      "Christianity:    0.005626249579629453\n",
      "Gun Politics:    0.005604175385136674\n",
      "Sports:          0.005572524972849371\n",
      "Computer:        0.8846093533824493\n",
      "Mideast:         0.005577779072986216\n",
      "\n",
      "document 4\n",
      "Mideast/Atheism: 0.7586639804434232\n",
      "Christianity:    0.22573448484440073\n",
      "Gun Politics:    0.003913399304259523\n",
      "Sports:          0.003890408851487939\n",
      "Computer:        0.003895671501668009\n",
      "Mideast:         0.003902055054760436\n"
     ]
    }
   ],
   "source": [
    "document_topics[0]\n",
    "first5 = document_topics[:5]\n",
    "i = 0\n",
    "for document in first5:\n",
    "    print('\\ndocument ' + str(i))\n",
    "    print('Mideast/Atheism: ' + str(document[0]))\n",
    "    print('Christianity:    ' + str(document[1]))\n",
    "    print('Gun Politics:    ' + str(document[2]))\n",
    "    print('Sports:          ' + str(document[3]))\n",
    "    print('Computer:        ' + str(document[4]))\n",
    "    print('Mideast:         ' + str(document[5]))\n",
    "    i += 1"
   ]
  },
  {
   "cell_type": "code",
   "execution_count": null,
   "id": "0e14852e",
   "metadata": {},
   "outputs": [
    {
     "data": {
      "text/plain": [
       "\"\\nActuallay I don't, but on the other hand I don't support the idea of having\\none newsgroup for every aspect of graphics programming as proposed by Brian,\\nin his reply to my original posting.\\nI would suggest a looser structure more like a comp.graphics.programmer,\\ncomp.graphics.hw_and_sw\\nThe reason for making as few groups as possible is for the same reason you\\nsay we shouldn't spilt up, not to get to few postings every day.\\nI takes to much time to browse through all postings just to find two or \\nthree I'm interested in.\\n\\nI understand and agree when you say you want all aspects of graphics in one\\nmeeting. I agree to some extension. I see news as a forum to exchange ideas,\\nhelp others or to be helped. I think this is difficult to achive if there\\nare so many different things in one meeting.\\n\\nGood evening netters|-)\""
      ]
     },
     "execution_count": 37,
     "metadata": {},
     "output_type": "execute_result"
    }
   ],
   "source": [
    "df.iloc[2]['text']"
   ]
  },
  {
   "cell_type": "markdown",
   "id": "1f414dd0",
   "metadata": {},
   "source": [
    "Document 0: Gun Politics 95%\n",
    "\n",
    "Document 1: Computer 86.6% and Gun politics 12.5%. This combination does not make much sense. The text is mainly talking about computers.\n",
    "\n",
    "Document 2: Gun Politics 64.6% and Computer 34.3%. This combination does not make much sense. The text is mainly talking about computer graphics.\n",
    "\n",
    "Document 3: Computer 88.4%\n",
    "\n",
    "Document 4: Mideast 75% and Christianity 22.5%. The text is mainly talking about Mideast politics.\n",
    "\n",
    "Most of the documents ended matching the correct topics other that Document 2. This is probably because the top 10 words for topic 2 was not present in the text but words that were in topic 2 appeared more often and were more generic."
   ]
  },
  {
   "cell_type": "markdown",
   "id": "a8da40bc",
   "metadata": {},
   "source": [
    "<!-- END QUESTION -->\n",
    "\n",
    "<br><br><br><br>"
   ]
  },
  {
   "cell_type": "markdown",
   "id": "120a64d6",
   "metadata": {},
   "source": [
    "<div class=\"alert alert-warning\">\n",
    "\n",
    "hw7_sol (20).ipynb\n",
    "    \n",
    "</div>"
   ]
  },
  {
   "cell_type": "code",
   "execution_count": null,
   "id": "77d76c8e",
   "metadata": {},
   "outputs": [
    {
     "name": "stdout",
     "output_type": "stream",
     "text": [
      "1.\n",
      "Document 0\n",
      "[0.00142858 0.00142904 0.80861338 0.00142879 0.00142878 0.00142894\n",
      " 0.00142862 0.13898052 0.04240466 0.00142869]\n",
      "Document 1\n",
      "[0.00129883 0.00129897 0.00129896 0.00129886 0.40728571 0.09504461\n",
      " 0.00129873 0.45956497 0.00129905 0.03031132]\n",
      "Document 2\n",
      "[0.00149261 0.00149279 0.00149299 0.10696258 0.00149284 0.57651203\n",
      " 0.00149258 0.30607611 0.00149289 0.0014926 ]\n",
      "Document 3\n",
      "[0.00256489 0.00256475 0.00256471 0.00256436 0.50032042 0.00256543\n",
      " 0.00256415 0.47916228 0.00256483 0.00256419]\n",
      "Document 4\n",
      "[0.00217394 0.15033274 0.00217418 0.00217434 0.00217409 0.00217431\n",
      " 0.00217394 0.00217424 0.51956726 0.31488095]\n",
      "Document 5\n",
      "[0.00344857 0.00344921 0.00344913 0.00344874 0.00344918 0.00344915\n",
      " 0.00344847 0.59464443 0.37776473 0.00344839]\n",
      "Document 6\n",
      "[1.79541067e-04 1.79577835e-04 1.79584129e-04 1.79569127e-04\n",
      " 1.79579410e-04 1.79589121e-04 1.79548352e-04 3.44806878e-01\n",
      " 6.53756576e-01 1.79557177e-04]\n",
      "Document 7\n",
      "[0.01111114 0.0111145  0.01111785 0.01111476 0.56119148 0.01111379\n",
      " 0.34989643 0.01111249 0.0111146  0.01111296]\n",
      "Document 8\n",
      "[0.00068969 0.66728785 0.00068978 0.00068972 0.06048777 0.14039924\n",
      " 0.00068968 0.00068991 0.12768657 0.00068979]\n",
      "Document 9\n",
      "[0.00476194 0.00476205 0.00476225 0.00476214 0.00476196 0.00476223\n",
      " 0.00476194 0.95714143 0.00476211 0.00476195]\n",
      "2.\n",
      "The document topic assignment for Topic 0, 5-9 was very clear, with one or two majorities over the other. For instnace, Doc 0 had 80.86% topic 2 (starting from index 0), while the next largest contribution was 13.89% for topic 7.\n",
      "The rest of the documents had a mix of topics. In reference to the percentages, they represent the contribution of each topic to the document. By inspecting the text from each model, I would say the classification was appropriate and actually pretty accurate.\n"
     ]
    }
   ],
   "source": [
    "print(\"1.\")\n",
    "for i in range(10):\n",
    "    # print(df.iloc[i]['text'])\n",
    "    print(\"Document \" + str(i))\n",
    "    print(document_topics[i])\n",
    "print(\"2.\")\n",
    "print(\"The document topic assignment for Topic 0, 5-9 was very clear, with one or two majorities over the other. For instnace, Doc 0 had 80.86% topic 2 (starting from index 0), while the next largest contribution was 13.89% for topic 7.\")\n",
    "print(\"The rest of the documents had a mix of topics. In reference to the percentages, they represent the contribution of each topic to the document. By inspecting the text from each model, I would say the classification was appropriate and actually pretty accurate.\")"
   ]
  },
  {
   "cell_type": "markdown",
   "id": "0e55380e",
   "metadata": {},
   "source": [
    "<!-- END QUESTION -->\n",
    "\n",
    "<br><br><br><br>"
   ]
  },
  {
   "cell_type": "markdown",
   "id": "a2d3c8d2",
   "metadata": {},
   "source": [
    "<div class=\"alert alert-warning\">\n",
    "\n",
    "hw7_sol (43).ipynb\n",
    "    \n",
    "</div>"
   ]
  },
  {
   "cell_type": "code",
   "execution_count": null,
   "id": "a6ddcdd3",
   "metadata": {},
   "outputs": [
    {
     "data": {
      "text/html": [
       "<div>\n",
       "<style scoped>\n",
       "    .dataframe tbody tr th:only-of-type {\n",
       "        vertical-align: middle;\n",
       "    }\n",
       "\n",
       "    .dataframe tbody tr th {\n",
       "        vertical-align: top;\n",
       "    }\n",
       "\n",
       "    .dataframe thead th {\n",
       "        text-align: right;\n",
       "    }\n",
       "</style>\n",
       "<table border=\"1\" class=\"dataframe\">\n",
       "  <thead>\n",
       "    <tr style=\"text-align: right;\">\n",
       "      <th></th>\n",
       "      <th>0</th>\n",
       "      <th>1</th>\n",
       "      <th>2</th>\n",
       "      <th>3</th>\n",
       "      <th>4</th>\n",
       "      <th>5</th>\n",
       "      <th>6</th>\n",
       "      <th>7</th>\n",
       "    </tr>\n",
       "  </thead>\n",
       "  <tbody>\n",
       "    <tr>\n",
       "      <th>0</th>\n",
       "      <td>0.063564</td>\n",
       "      <td>0.323205</td>\n",
       "      <td>0.002452</td>\n",
       "      <td>0.002452</td>\n",
       "      <td>0.002454</td>\n",
       "      <td>0.600966</td>\n",
       "      <td>0.002453</td>\n",
       "      <td>0.002454</td>\n",
       "    </tr>\n",
       "    <tr>\n",
       "      <th>1</th>\n",
       "      <td>0.499397</td>\n",
       "      <td>0.001764</td>\n",
       "      <td>0.001763</td>\n",
       "      <td>0.001763</td>\n",
       "      <td>0.383199</td>\n",
       "      <td>0.108587</td>\n",
       "      <td>0.001764</td>\n",
       "      <td>0.001763</td>\n",
       "    </tr>\n",
       "    <tr>\n",
       "      <th>2</th>\n",
       "      <td>0.002404</td>\n",
       "      <td>0.612585</td>\n",
       "      <td>0.002405</td>\n",
       "      <td>0.002405</td>\n",
       "      <td>0.372979</td>\n",
       "      <td>0.002408</td>\n",
       "      <td>0.002408</td>\n",
       "      <td>0.002405</td>\n",
       "    </tr>\n",
       "    <tr>\n",
       "      <th>3</th>\n",
       "      <td>0.004310</td>\n",
       "      <td>0.004317</td>\n",
       "      <td>0.004311</td>\n",
       "      <td>0.004311</td>\n",
       "      <td>0.667809</td>\n",
       "      <td>0.306312</td>\n",
       "      <td>0.004317</td>\n",
       "      <td>0.004313</td>\n",
       "    </tr>\n",
       "    <tr>\n",
       "      <th>4</th>\n",
       "      <td>0.002907</td>\n",
       "      <td>0.002915</td>\n",
       "      <td>0.002908</td>\n",
       "      <td>0.002911</td>\n",
       "      <td>0.002913</td>\n",
       "      <td>0.002911</td>\n",
       "      <td>0.002911</td>\n",
       "      <td>0.979624</td>\n",
       "    </tr>\n",
       "  </tbody>\n",
       "</table>\n",
       "</div>"
      ],
      "text/plain": [
       "          0         1         2         3         4         5         6  \\\n",
       "0  0.063564  0.323205  0.002452  0.002452  0.002454  0.600966  0.002453   \n",
       "1  0.499397  0.001764  0.001763  0.001763  0.383199  0.108587  0.001764   \n",
       "2  0.002404  0.612585  0.002405  0.002405  0.372979  0.002408  0.002408   \n",
       "3  0.004310  0.004317  0.004311  0.004311  0.667809  0.306312  0.004317   \n",
       "4  0.002907  0.002915  0.002908  0.002911  0.002913  0.002911  0.002911   \n",
       "\n",
       "          7  \n",
       "0  0.002454  \n",
       "1  0.001763  \n",
       "2  0.002405  \n",
       "3  0.004313  \n",
       "4  0.979624  "
      ]
     },
     "execution_count": 35,
     "metadata": {},
     "output_type": "execute_result"
    }
   ],
   "source": [
    "pd.DataFrame(document_topics).head()"
   ]
  },
  {
   "cell_type": "code",
   "execution_count": null,
   "id": "bc562a4e",
   "metadata": {},
   "outputs": [
    {
     "data": {
      "text/html": [
       "<div>\n",
       "<style scoped>\n",
       "    .dataframe tbody tr th:only-of-type {\n",
       "        vertical-align: middle;\n",
       "    }\n",
       "\n",
       "    .dataframe tbody tr th {\n",
       "        vertical-align: top;\n",
       "    }\n",
       "\n",
       "    .dataframe thead th {\n",
       "        text-align: right;\n",
       "    }\n",
       "</style>\n",
       "<table border=\"1\" class=\"dataframe\">\n",
       "  <thead>\n",
       "    <tr style=\"text-align: right;\">\n",
       "      <th></th>\n",
       "      <th>text</th>\n",
       "    </tr>\n",
       "  </thead>\n",
       "  <tbody>\n",
       "    <tr>\n",
       "      <th>0</th>\n",
       "      <td>You know, I was reading 18 U.S.C. 922 and something just did not make \\nsence and I was wondering if someone could help me out.\\n\\nSay U.S.C. 922 :\\n\\n(1) Except as provided in paragraph (2), it shall be unlawful for\\nany person to transfer or possess a machinegun.\\n\\n Well I got to looking in my law dictionary and I found that a \"person\" \\nmight also be an artificial entity that is created by government \\nand has no rights under the federal constitution. So, what I \\ndon't understand is how a statute like 922 can be enforced on \\nan individual. So someone tell me how my government can tell\\nme what I can or cannot possess. Just passing a law \\ndoes not make it LAW. Everyone knows that laws are constitional\\nuntil it goes to court. So, has it ever gone to court, not\\njust your run of the mill \"Ok I had it I am guilty, put me in jail\"\\n\\nHas anyone ever claimed that they had a right to possess and was told\\nby the Supreme Court that they didn't have that right?\\n\\n\\n</td>\n",
       "    </tr>\n",
       "    <tr>\n",
       "      <th>1</th>\n",
       "      <td>\\n\\n\\nIt's not a bad question: I don't have any refs that list this algorithm\\neither. But thinking about it a bit, it shouldn't be too hard.\\n\\n1) Take three of the points and find the plane they define as well as\\nthe circle that they lie on (you say you have this algorithm already)\\n\\n2) Find the center  of this circle. The line passing through this center\\nperpendicular to the plane of the three points passes through the center of\\nthe sphere.\\n\\n3) Repeat with the unused point and two of the original points. This\\ngives you two different lines that both pass through the sphere's\\norigin. Their interection is the center of the sphere.\\n\\n4) the radius is easy to compute, it's just the distance from the center to\\nany of the original points.\\n\\nI'll leave the math to you, but this is a workable algorithm. :-)\\n\\n\\nAn alternate method would be to take pairs of points: the plane formed\\nby the perpendicular bisector of each line segment pair also contains the\\ncenter of the sphere. Three pairs will form three planes, intersecting\\nat a point. This might be easier to implement.</td>\n",
       "    </tr>\n",
       "    <tr>\n",
       "      <th>2</th>\n",
       "      <td>\\nActuallay I don't, but on the other hand I don't support the idea of having\\none newsgroup for every aspect of graphics programming as proposed by Brian,\\nin his reply to my original posting.\\nI would suggest a looser structure more like a comp.graphics.programmer,\\ncomp.graphics.hw_and_sw\\nThe reason for making as few groups as possible is for the same reason you\\nsay we shouldn't spilt up, not to get to few postings every day.\\nI takes to much time to browse through all postings just to find two or \\nthree I'm interested in.\\n\\nI understand and agree when you say you want all aspects of graphics in one\\nmeeting. I agree to some extension. I see news as a forum to exchange ideas,\\nhelp others or to be helped. I think this is difficult to achive if there\\nare so many different things in one meeting.\\n\\nGood evening netters|-)</td>\n",
       "    </tr>\n",
       "    <tr>\n",
       "      <th>3</th>\n",
       "      <td>The following problem is really bugging me,\\nand I would appreciate any help.\\n\\nI create two windows:\\n\\nw1 (child to root) with event_mask = ButtonPressMask|KeyPressMask;\\nw2 (child to w1) with do_not_propagate_mask = ButtonPressMask|KeyPressMask;\\n\\n\\nKeypress events in w2 are discarded, but ButtonPress events fall through\\nto w1, with subwindow set to w2.\\n\\nFYI, I'm using xnews/olvwm.\\n\\nAm I doing something fundamentally wrong here?</td>\n",
       "    </tr>\n",
       "    <tr>\n",
       "      <th>4</th>\n",
       "      <td>\\n\\n  This is the latest from UPI \\n\\n     Foreign Ministry spokesman Ferhat Ataman told journalists Turkey was\\n     closing its air space to all flights to and from Armenia and would\\n     prevent humanitarian aid from reaching the republic overland across\\n     Turkish territory.\\n\\n  \\n   Historically even the most uncivilized of peoples have exhibited \\n   signs of compassion by allowing humanitarian aid to reach civilian\\n   populations. Even the Nazis did this much.\\n\\n   It seems as though from now on Turkey will publicly pronounce \\n   themselves 'hypocrites' should they choose to continue their\\n   condemnation of the Serbians.\\n\\n\\n\\n--</td>\n",
       "    </tr>\n",
       "  </tbody>\n",
       "</table>\n",
       "</div>"
      ],
      "text/plain": [
       "                                                                                                                                                                                                                                                                                                                                                                                                                                                                                                                                                                                                                                                                                                                                                                                                                                                                                                                                                                                                                                                                                                                                     text\n",
       "0                                                                                                                    You know, I was reading 18 U.S.C. 922 and something just did not make \\nsence and I was wondering if someone could help me out.\\n\\nSay U.S.C. 922 :\\n\\n(1) Except as provided in paragraph (2), it shall be unlawful for\\nany person to transfer or possess a machinegun.\\n\\n Well I got to looking in my law dictionary and I found that a \"person\" \\nmight also be an artificial entity that is created by government \\nand has no rights under the federal constitution. So, what I \\ndon't understand is how a statute like 922 can be enforced on \\nan individual. So someone tell me how my government can tell\\nme what I can or cannot possess. Just passing a law \\ndoes not make it LAW. Everyone knows that laws are constitional\\nuntil it goes to court. So, has it ever gone to court, not\\njust your run of the mill \"Ok I had it I am guilty, put me in jail\"\\n\\nHas anyone ever claimed that they had a right to possess and was told\\nby the Supreme Court that they didn't have that right?\\n\\n\\n\n",
       "1  \\n\\n\\nIt's not a bad question: I don't have any refs that list this algorithm\\neither. But thinking about it a bit, it shouldn't be too hard.\\n\\n1) Take three of the points and find the plane they define as well as\\nthe circle that they lie on (you say you have this algorithm already)\\n\\n2) Find the center  of this circle. The line passing through this center\\nperpendicular to the plane of the three points passes through the center of\\nthe sphere.\\n\\n3) Repeat with the unused point and two of the original points. This\\ngives you two different lines that both pass through the sphere's\\norigin. Their interection is the center of the sphere.\\n\\n4) the radius is easy to compute, it's just the distance from the center to\\nany of the original points.\\n\\nI'll leave the math to you, but this is a workable algorithm. :-)\\n\\n\\nAn alternate method would be to take pairs of points: the plane formed\\nby the perpendicular bisector of each line segment pair also contains the\\ncenter of the sphere. Three pairs will form three planes, intersecting\\nat a point. This might be easier to implement.\n",
       "2                                                                                                                                                                                                                                                                 \\nActuallay I don't, but on the other hand I don't support the idea of having\\none newsgroup for every aspect of graphics programming as proposed by Brian,\\nin his reply to my original posting.\\nI would suggest a looser structure more like a comp.graphics.programmer,\\ncomp.graphics.hw_and_sw\\nThe reason for making as few groups as possible is for the same reason you\\nsay we shouldn't spilt up, not to get to few postings every day.\\nI takes to much time to browse through all postings just to find two or \\nthree I'm interested in.\\n\\nI understand and agree when you say you want all aspects of graphics in one\\nmeeting. I agree to some extension. I see news as a forum to exchange ideas,\\nhelp others or to be helped. I think this is difficult to achive if there\\nare so many different things in one meeting.\\n\\nGood evening netters|-)\n",
       "3                                                                                                                                                                                                                                                                                                                                                                                                                                                                                                                                                                                                                                                                              The following problem is really bugging me,\\nand I would appreciate any help.\\n\\nI create two windows:\\n\\nw1 (child to root) with event_mask = ButtonPressMask|KeyPressMask;\\nw2 (child to w1) with do_not_propagate_mask = ButtonPressMask|KeyPressMask;\\n\\n\\nKeypress events in w2 are discarded, but ButtonPress events fall through\\nto w1, with subwindow set to w2.\\n\\nFYI, I'm using xnews/olvwm.\\n\\nAm I doing something fundamentally wrong here?\n",
       "4                                                                                                                                                                                                                                                                                                                                                                                                                                                         \\n\\n  This is the latest from UPI \\n\\n     Foreign Ministry spokesman Ferhat Ataman told journalists Turkey was\\n     closing its air space to all flights to and from Armenia and would\\n     prevent humanitarian aid from reaching the republic overland across\\n     Turkish territory.\\n\\n  \\n   Historically even the most uncivilized of peoples have exhibited \\n   signs of compassion by allowing humanitarian aid to reach civilian\\n   populations. Even the Nazis did this much.\\n\\n   It seems as though from now on Turkey will publicly pronounce \\n   themselves 'hypocrites' should they choose to continue their\\n   condemnation of the Serbians.\\n\\n\\n\\n--"
      ]
     },
     "execution_count": 36,
     "metadata": {},
     "output_type": "execute_result"
    }
   ],
   "source": [
    "pd.set_option('display.max_colwidth', None)\n",
    "pd.DataFrame(df[\"text\"]).head()"
   ]
  },
  {
   "cell_type": "markdown",
   "id": "e0754682",
   "metadata": {},
   "source": [
    "Text 0: The most likely topic is topic 5 which I labeled as \"Gun Laws\" which seems pretty fitting.  \n",
    "Text 1: The most likely topic is topic 0 which I labeled as \"Gun Politics\" which does NOT make sense here.  \n",
    "Text 2: The most likely topic is topic 1 which I labeled as \"Religion\" which doesn't quite make sense here.  \n",
    "Text 3: The most likely topic is topic 4 which I labeled as \"Computer program\" which seems quite fitting here.  \n",
    "Text 4: The most liekly topic is topic 7 which I labeled as \"Armenia - Turkey conflict\" which seems fitting as well."
   ]
  },
  {
   "cell_type": "markdown",
   "id": "eebb67d0",
   "metadata": {},
   "source": [
    "Overall it's not amazing, but from the first five examples the document topic is able to get 3/5 correct which is something at least!"
   ]
  },
  {
   "cell_type": "markdown",
   "id": "7948147c",
   "metadata": {},
   "source": [
    "<div class=\"alert alert-warning\">\n",
    "\n",
    "hw7_sol (16).ipynb\n",
    "    \n",
    "</div>"
   ]
  },
  {
   "cell_type": "code",
   "execution_count": null,
   "id": "325de166",
   "metadata": {},
   "outputs": [],
   "source": []
  },
  {
   "cell_type": "markdown",
   "id": "08df4c38",
   "metadata": {},
   "source": [
    "<!-- END QUESTION -->\n",
    "\n",
    "<br><br><br><br>"
   ]
  },
  {
   "cell_type": "markdown",
   "id": "9adffeef",
   "metadata": {},
   "source": [
    "<div class=\"alert alert-warning\">\n",
    "\n",
    "hw7_sol (41).ipynb\n",
    "    \n",
    "</div>"
   ]
  },
  {
   "cell_type": "code",
   "execution_count": null,
   "id": "a01a74a4",
   "metadata": {},
   "outputs": [
    {
     "name": "stdout",
     "output_type": "stream",
     "text": [
      "Document 1:\n",
      "Topic 0: Probability 0.0051\n",
      "Topic 1: Probability 0.3862\n",
      "Topic 2: Probability 0.6037\n",
      "Topic 3: Probability 0.0050\n",
      "\n",
      "Document 2:\n",
      "Topic 0: Probability 0.8761\n",
      "Topic 1: Probability 0.1165\n",
      "Topic 2: Probability 0.0037\n",
      "Topic 3: Probability 0.0037\n",
      "\n",
      "Document 3:\n",
      "Topic 0: Probability 0.2267\n",
      "Topic 1: Probability 0.7631\n",
      "Topic 2: Probability 0.0051\n",
      "Topic 3: Probability 0.0051\n",
      "\n",
      "Document 4:\n",
      "Topic 0: Probability 0.4778\n",
      "Topic 1: Probability 0.4999\n",
      "Topic 2: Probability 0.0114\n",
      "Topic 3: Probability 0.0110\n",
      "\n",
      "Document 5:\n",
      "Topic 0: Probability 0.0060\n",
      "Topic 1: Probability 0.0062\n",
      "Topic 2: Probability 0.9819\n",
      "Topic 3: Probability 0.0059\n",
      "\n"
     ]
    }
   ],
   "source": [
    "document_topic_dist = lda.transform(X[:5])\n",
    "\n",
    "for i, doc_topics in enumerate(document_topic_dist):\n",
    "    print(f\"Document {i + 1}:\")\n",
    "    for topic, prob in enumerate(doc_topics):\n",
    "        print(f\"Topic {topic}: Probability {prob:.4f}\")\n",
    "    print()"
   ]
  },
  {
   "cell_type": "markdown",
   "id": "9bddc942",
   "metadata": {},
   "source": [
    "This means that Document 1 is mostly Topic 2 (Politics) since it is 60% which is correct by the dataset, Document 2 is 87% Topic 0 (Computer), Document 3 is 76% Topic 1 (Religion) but it was supposed to be Computer, Document 4 is between Topic 0 (Computer) and Topic 1 (Religion) but it is supposed to be more Computer, Document 5 is 98% Topic 2 (Politics) as in the dataset."
   ]
  },
  {
   "cell_type": "markdown",
   "id": "4ead77f2",
   "metadata": {},
   "source": [
    "<!-- END QUESTION -->\n",
    "\n",
    "<br><br><br><br>"
   ]
  },
  {
   "cell_type": "markdown",
   "id": "b22abe3d",
   "metadata": {},
   "source": [
    "<div class=\"alert alert-warning\">\n",
    "\n",
    "hw7_sol (22).ipynb\n",
    "    \n",
    "</div>"
   ]
  },
  {
   "cell_type": "code",
   "execution_count": null,
   "id": "31151f1e",
   "metadata": {},
   "outputs": [
    {
     "name": "stdout",
     "output_type": "stream",
     "text": [
      "[0.91792255 0.0048727  0.07251588 0.00468886] [0.00368813 0.98887899 0.00376892 0.00366397] [0.00502992 0.00530702 0.83905815 0.15060491] [0.00928782 0.9717597  0.00996268 0.0089898 ] [0.98160245 0.00609432 0.00623438 0.00606885]\n"
     ]
    }
   ],
   "source": [
    "print(document_topics[0], document_topics[1], document_topics[2], \n",
    "      document_topics[3], document_topics[4])"
   ]
  },
  {
   "cell_type": "markdown",
   "id": "6a8f6a8b",
   "metadata": {},
   "source": [
    "The values indicate the probability of the document belonging to each topic. For example, the first  document has a very high probability of belonging to the first topic, and very low probability for the other topics. "
   ]
  },
  {
   "cell_type": "markdown",
   "id": "596ab5e1",
   "metadata": {},
   "source": [
    "<!-- END QUESTION -->\n",
    "\n",
    "<br><br><br><br>"
   ]
  },
  {
   "cell_type": "markdown",
   "id": "92845ff1",
   "metadata": {},
   "source": [
    "<div class=\"alert alert-warning\">\n",
    "\n",
    "hw7_sol (30).ipynb\n",
    "    \n",
    "</div>"
   ]
  },
  {
   "cell_type": "code",
   "execution_count": null,
   "id": "ef1956fa",
   "metadata": {},
   "outputs": [
    {
     "name": "stdout",
     "output_type": "stream",
     "text": [
      "[[0.00236199 0.19409508 0.32895831 0.46513699 0.00236188 0.00236292\n",
      "  0.00235909 0.00236374]\n",
      " [0.41087621 0.00176359 0.00176283 0.0017627  0.57854635 0.00176326\n",
      "  0.00176258 0.00176248]\n",
      " [0.00240802 0.82127972 0.00240777 0.00240637 0.16427395 0.00240863\n",
      "  0.00240684 0.0024087 ]\n",
      " [0.00521022 0.005213   0.00521923 0.00521202 0.46679663 0.50192308\n",
      "  0.00520896 0.00521686]\n",
      " [0.00277972 0.00277967 0.98054155 0.00277882 0.00278016 0.00277925\n",
      "  0.00277875 0.00278207]]\n",
      "Document 0 has the highest probability to be about topic: 3, Probability: 0.465136994087788\n",
      "Document 1 has the highest probability to be about topic: 4, Probability: 0.5785463490408699\n",
      "Document 2 has the highest probability to be about topic: 1, Probability: 0.8212797238598143\n",
      "Document 3 has the highest probability to be about topic: 5, Probability: 0.5019230828043948\n",
      "Document 4 has the highest probability to be about topic: 2, Probability: 0.9805415490795232\n",
      "\n",
      "\n",
      "Model 0:\n",
      "know read sence wonder help provide paragraph shall unlawful person transfer possess machinegun get look law dictionary find person artificial entity create government right federal constitution understand statute like enforce individual tell government tell possess pass law law know law constitional go court go court run mill ok guilty jail claim right possess tell supreme court right\n",
      "Model 0 topic assignemnt:\n",
      "[0.00236199 0.19409508 0.32895831 0.46513699 0.00236188 0.00236292\n",
      " 0.00235909 0.00236374]\n"
     ]
    }
   ],
   "source": [
    "first_five_topic_dist = document_topics[:5]\n",
    "print(first_five_topic_dist)\n",
    "\n",
    "\n",
    "# for i in range(5):\n",
    "#     print(\"document\", i, \"has the probability of \",  , \" : \",  df.iloc[i]['text_pp'])\n",
    "\n",
    "for i, doc_dist in enumerate(first_five_topic_dist):\n",
    "    print(f\"Document {i} has the highest probability to be about topic: {doc_dist.argmax()}, Probability: {np.max(doc_dist)}\")\n",
    "print(\"\\n\")\n",
    "print(\"Model 0:\")\n",
    "print(df.iloc[0]['text_pp'])\n",
    "print(\"Model 0 topic assignemnt:\")\n",
    "print(first_five_topic_dist[0])\n"
   ]
  },
  {
   "cell_type": "markdown",
   "id": "6c6a2954",
   "metadata": {},
   "source": [
    "The model seems to be fairly confident about some assignments (document 4 and 2) and somewhat uncertain about the rest (with probability ranging from .46 to .57). In all the cases, however, the model is choosing the best topic assignment for the document. For instance, the model is the least certain about model 0 (printed above). It's 47% certain that the topic for this document is topic 3 or Firearms Control, which seems to be accurate."
   ]
  },
  {
   "cell_type": "markdown",
   "id": "fe17c415",
   "metadata": {},
   "source": [
    "<!-- END QUESTION -->\n",
    "\n",
    "<br><br><br><br>"
   ]
  },
  {
   "cell_type": "markdown",
   "id": "84f36fee",
   "metadata": {},
   "source": [
    "<div class=\"alert alert-warning\">\n",
    "\n",
    "hw7_sol (18).ipynb\n",
    "    \n",
    "</div>"
   ]
  },
  {
   "cell_type": "code",
   "execution_count": null,
   "id": "ea8f93e0",
   "metadata": {},
   "outputs": [],
   "source": [
    "doc_topic_matrix = lda_model.transform(X)\n",
    "for i in range(5):\n",
    "    print(f\"Document {i + 1}:\")\n",
    "    print(doc_topic_matrix[i])\n",
    "    print()\n"
   ]
  },
  {
   "cell_type": "markdown",
   "id": "3a145632",
   "metadata": {},
   "source": [
    "- Document 1: The highest probability (0.956) that it belongs to Topic 6, which is about the Israel Crisis.\n",
    "- Document 2: Has the probability (0.721) of belonging to Topic 4, which is about Computer Graphics.\n",
    "- Document 3: The highest probability (0.403) that it belongs to Topic 6, which is about the Israel Crisis. Though this is a bit strange, and the probability is much lower than needed. Hence I think this document is probably NOT related to that.\n",
    "- Document 4: The highest probability that it belongs to Topic 4, which is also about Computer Graphics.\n",
    "- Document 5: The highest probability that it belongs to Topic 10, which is about the country of Turkey.\n"
   ]
  },
  {
   "cell_type": "markdown",
   "id": "f0c10ae7",
   "metadata": {},
   "source": [
    "<!-- END QUESTION -->\n",
    "\n",
    "<br><br><br><br>"
   ]
  },
  {
   "cell_type": "markdown",
   "id": "a0311eb1",
   "metadata": {},
   "source": [
    "<div class=\"alert alert-warning\">\n",
    "\n",
    "hw7_sol (14).ipynb\n",
    "    \n",
    "</div>"
   ]
  },
  {
   "cell_type": "code",
   "execution_count": null,
   "id": "bfd2aa5f",
   "metadata": {},
   "outputs": [
    {
     "name": "stdout",
     "output_type": "stream",
     "text": [
      "Document 0 is made up of the weights: [0.19093249 0.79916813 0.00498515 0.00491423]\n",
      "Document 0 is most likely assigned to topic 1\n",
      "\n",
      "Document 1 is made up of the weights: [0.00370779 0.13720637 0.85535288 0.00373296]\n",
      "Document 1 is most likely assigned to topic 2\n",
      "\n",
      "Document 2 is made up of the weights: [0.00495358 0.67228184 0.31804456 0.00472002]\n",
      "Document 2 is most likely assigned to topic 1\n",
      "\n",
      "Document 3 is made up of the weights: [0.14568616 0.00757973 0.74118767 0.10554645]\n",
      "Document 3 is most likely assigned to topic 2\n",
      "\n",
      "Document 4 is made up of the weights: [0.98208821 0.0060162  0.0059796  0.00591599]\n",
      "Document 4 is most likely assigned to topic 0\n",
      "\n"
     ]
    }
   ],
   "source": [
    "for i in range(5):\n",
    "    print(f'Document {i} is made up of the weights: {document_topics_weights[i]}')\n",
    "    print(f'Document {i} is most likely assigned to topic {np.argmax(document_topics_weights[i])}\\n')"
   ]
  },
  {
   "cell_type": "markdown",
   "id": "75a58103",
   "metadata": {},
   "source": [
    "The document topic assignment of the model seems to be pretty accurate based on the first 5 sentences."
   ]
  },
  {
   "cell_type": "markdown",
   "id": "e7c627cb",
   "metadata": {},
   "source": [
    "<!-- END QUESTION -->\n",
    "\n",
    "<br><br><br><br>"
   ]
  },
  {
   "cell_type": "markdown",
   "id": "52b93f30",
   "metadata": {},
   "source": [
    "<div class=\"alert alert-warning\">\n",
    "\n",
    "hw7_sol (4).ipynb\n",
    "    \n",
    "</div>"
   ]
  },
  {
   "cell_type": "code",
   "execution_count": null,
   "id": "1a33fb43",
   "metadata": {},
   "outputs": [
    {
     "name": "stdout",
     "output_type": "stream",
     "text": [
      "[0.00231614 0.56182299 0.00231675 0.0023184  0.00231566 0.0023181\n",
      " 0.4242764  0.00231556]\n",
      "[0.00176259 0.00176298 0.00176341 0.05465663 0.00176216 0.00176439\n",
      " 0.12865503 0.80787281]\n",
      "[0.00227312 0.00227643 0.00227456 0.9840704  0.0022752  0.00227783\n",
      " 0.0022778  0.00227466]\n",
      "[0.00431086 0.00431894 0.00431333 0.61939602 0.00431239 0.00431645\n",
      " 0.06137983 0.29765217]\n",
      "[0.00291089 0.0029114  0.0029118  0.00291009 0.26750605 0.00291291\n",
      " 0.71502586 0.00291099]\n"
     ]
    }
   ],
   "source": [
    "print(document_topics[0])\n",
    "print(document_topics[1])\n",
    "print(document_topics[2])\n",
    "print(document_topics[3])\n",
    "print(document_topics[4])"
   ]
  },
  {
   "cell_type": "markdown",
   "id": "6510bc44",
   "metadata": {},
   "source": [
    "Doc 1 was classified as guns and politics. Doc 2 was computer images. Doc 3 and doc 4 were computer interface. Doc 5 was christianity. Overall, these 5 documents were matched pretty closely with their original topics."
   ]
  },
  {
   "cell_type": "markdown",
   "id": "9780589d",
   "metadata": {},
   "source": [
    "<div class=\"alert alert-warning\">\n",
    "\n",
    "hw7_sol (8).ipynb\n",
    "    \n",
    "</div>"
   ]
  },
  {
   "cell_type": "code",
   "execution_count": null,
   "id": "9fa2133f",
   "metadata": {},
   "outputs": [
    {
     "data": {
      "text/plain": [
       "(array([[0.00368406, 0.00367576, 0.98530902, 0.00365847, 0.00367268]]),\n",
       " array([[0.03902386, 0.73060634, 0.00290067, 0.22459329, 0.00287583]]),\n",
       " array([[0.00342   , 0.35883096, 0.63088703, 0.00342372, 0.0034383 ]]),\n",
       " array([[0.00675827, 0.00677546, 0.00682016, 0.00669198, 0.97295413]]),\n",
       " array([[0.92053179, 0.00449157, 0.06602349, 0.00448094, 0.0044722 ]]))"
      ]
     },
     "execution_count": 46,
     "metadata": {},
     "output_type": "execute_result"
    }
   ],
   "source": [
    "lda.transform(X[0]),lda.transform(X[1]),lda.transform(X[2]),lda.transform(X[3]),lda.transform(X[4])"
   ]
  },
  {
   "cell_type": "code",
   "execution_count": null,
   "id": "d2367866",
   "metadata": {},
   "outputs": [
    {
     "data": {
      "text/plain": [
       "'You know, I was reading 18 U.S.C. 922 and something just did not make \\nsence and I was wondering if someone could help me out.\\n\\nSay U.S.C. 922 :\\n\\n(1) Except as provided in paragraph (2), it shall be unlawful for\\nany person to transfer or possess a machinegun.\\n\\n Well I got to looking in my law dictionary and I found that a \"person\" \\nmight also be an artificial entity that is created by government \\nand has no rights under the federal constitution. So, what I \\ndon\\'t understand is how a statute like 922 can be enforced on \\nan individual. So someone tell me how my government can tell\\nme what I can or cannot possess. Just passing a law \\ndoes not make it LAW. Everyone knows that laws are constitional\\nuntil it goes to court. So, has it ever gone to court, not\\njust your run of the mill \"Ok I had it I am guilty, put me in jail\"\\n\\nHas anyone ever claimed that they had a right to possess and was told\\nby the Supreme Court that they didn\\'t have that right?\\n\\n\\n'"
      ]
     },
     "execution_count": 47,
     "metadata": {},
     "output_type": "execute_result"
    }
   ],
   "source": [
    "df[\"text\"][0]\n",
    "#For document 1, the model assigns this to 'politics or geopolitics', and this seems fairly accurate. "
   ]
  },
  {
   "cell_type": "code",
   "execution_count": null,
   "id": "b0b1aba9",
   "metadata": {},
   "outputs": [
    {
     "data": {
      "text/plain": [
       "\"\\n\\n\\nIt's not a bad question: I don't have any refs that list this algorithm\\neither. But thinking about it a bit, it shouldn't be too hard.\\n\\n1) Take three of the points and find the plane they define as well as\\nthe circle that they lie on (you say you have this algorithm already)\\n\\n2) Find the center  of this circle. The line passing through this center\\nperpendicular to the plane of the three points passes through the center of\\nthe sphere.\\n\\n3) Repeat with the unused point and two of the original points. This\\ngives you two different lines that both pass through the sphere's\\norigin. Their interection is the center of the sphere.\\n\\n4) the radius is easy to compute, it's just the distance from the center to\\nany of the original points.\\n\\nI'll leave the math to you, but this is a workable algorithm. :-)\\n\\n\\nAn alternate method would be to take pairs of points: the plane formed\\nby the perpendicular bisector of each line segment pair also contains the\\ncenter of the sphere. Three pairs will form three planes, intersecting\\nat a point. This might be easier to implement.\""
      ]
     },
     "execution_count": 48,
     "metadata": {},
     "output_type": "execute_result"
    }
   ],
   "source": [
    "df[\"text\"][1]\n",
    "#For document 2, the model assigns it more to 'Software' than any other topic, with 45%, and it seems to be fairly accurate, even if it isn't exactly software, it is closer to that topic than any other topic.\n"
   ]
  },
  {
   "cell_type": "code",
   "execution_count": null,
   "id": "5c94b76e",
   "metadata": {},
   "outputs": [
    {
     "data": {
      "text/plain": [
       "\"\\nActuallay I don't, but on the other hand I don't support the idea of having\\none newsgroup for every aspect of graphics programming as proposed by Brian,\\nin his reply to my original posting.\\nI would suggest a looser structure more like a comp.graphics.programmer,\\ncomp.graphics.hw_and_sw\\nThe reason for making as few groups as possible is for the same reason you\\nsay we shouldn't spilt up, not to get to few postings every day.\\nI takes to much time to browse through all postings just to find two or \\nthree I'm interested in.\\n\\nI understand and agree when you say you want all aspects of graphics in one\\nmeeting. I agree to some extension. I see news as a forum to exchange ideas,\\nhelp others or to be helped. I think this is difficult to achive if there\\nare so many different things in one meeting.\\n\\nGood evening netters|-)\""
      ]
     },
     "execution_count": 49,
     "metadata": {},
     "output_type": "execute_result"
    }
   ],
   "source": [
    "df[\"text\"][2]\n",
    "#For this, the model is very close between 'Religion' and 'Software'. The model should guess 'Software' as that is what the document is closest to,\n",
    "# but even though it does guess 'software' with 48.6%, it guesses 'religion' with 50%. So the model could do better.\n"
   ]
  },
  {
   "cell_type": "code",
   "execution_count": null,
   "id": "1f2e8133",
   "metadata": {},
   "outputs": [
    {
     "data": {
      "text/plain": [
       "\"The following problem is really bugging me,\\nand I would appreciate any help.\\n\\nI create two windows:\\n\\nw1 (child to root) with event_mask = ButtonPressMask|KeyPressMask;\\nw2 (child to w1) with do_not_propagate_mask = ButtonPressMask|KeyPressMask;\\n\\n\\nKeypress events in w2 are discarded, but ButtonPress events fall through\\nto w1, with subwindow set to w2.\\n\\nFYI, I'm using xnews/olvwm.\\n\\nAm I doing something fundamentally wrong here?\""
      ]
     },
     "execution_count": 50,
     "metadata": {},
     "output_type": "execute_result"
    }
   ],
   "source": [
    "df[\"text\"][3]\n",
    "#It confidently guesses 'office technology' and it is correct."
   ]
  },
  {
   "cell_type": "code",
   "execution_count": null,
   "id": "a71ad2ff",
   "metadata": {},
   "outputs": [
    {
     "data": {
      "text/plain": [
       "\"\\n\\n  This is the latest from UPI \\n\\n     Foreign Ministry spokesman Ferhat Ataman told journalists Turkey was\\n     closing its air space to all flights to and from Armenia and would\\n     prevent humanitarian aid from reaching the republic overland across\\n     Turkish territory.\\n\\n  \\n   Historically even the most uncivilized of peoples have exhibited \\n   signs of compassion by allowing humanitarian aid to reach civilian\\n   populations. Even the Nazis did this much.\\n\\n   It seems as though from now on Turkey will publicly pronounce \\n   themselves 'hypocrites' should they choose to continue their\\n   condemnation of the Serbians.\\n\\n\\n\\n--\""
      ]
     },
     "execution_count": 51,
     "metadata": {},
     "output_type": "execute_result"
    }
   ],
   "source": [
    "df[\"text\"][4]\n",
    "#It confidently guesses 'politics or geopolitics' and is correct here."
   ]
  },
  {
   "cell_type": "code",
   "execution_count": null,
   "id": "3b115818",
   "metadata": {},
   "outputs": [],
   "source": []
  },
  {
   "cell_type": "markdown",
   "id": "7355aea5",
   "metadata": {},
   "source": [
    "<!-- END QUESTION -->\n",
    "\n",
    "<br><br><br><br>"
   ]
  },
  {
   "cell_type": "markdown",
   "id": "bd2662d5",
   "metadata": {},
   "source": [
    "<div class=\"alert alert-warning\">\n",
    "\n",
    "hw7_sol (10).ipynb\n",
    "    \n",
    "</div>"
   ]
  },
  {
   "cell_type": "code",
   "execution_count": null,
   "id": "52c2f6ea",
   "metadata": {},
   "outputs": [
    {
     "name": "stdout",
     "output_type": "stream",
     "text": [
      "Document 1 Topic Assignment: 1\n",
      "Document 2 Topic Assignment: 2\n",
      "Document 3 Topic Assignment: 2\n",
      "Document 4 Topic Assignment: 0\n",
      "Document 5 Topic Assignment: 4\n"
     ]
    }
   ],
   "source": [
    "for i in range(5):\n",
    "    document_topics = lda.transform(X[i])\n",
    "    print(f\"Document {i+1} Topic Assignment: {document_topics.argmax()}\")"
   ]
  },
  {
   "cell_type": "markdown",
   "id": "32fee264",
   "metadata": {},
   "source": [
    "Document 1 is likely some sort of religious/thoughful piece of writing. Documents 2, 3 are likely about computer file formats or some sort of computer manual related text. Document 4 may also be some sort of computer manual related text but less emphasis on file types. Document 5 is likely about judaism. \n"
   ]
  },
  {
   "cell_type": "markdown",
   "id": "c4818e9c",
   "metadata": {},
   "source": [
    "<!-- END QUESTION -->\n",
    "\n",
    "<br><br><br><br>"
   ]
  },
  {
   "cell_type": "markdown",
   "id": "0cb450bd",
   "metadata": {},
   "source": [
    "<div class=\"alert alert-warning\">\n",
    "\n",
    "hw7_sol (49).ipynb\n",
    "    \n",
    "</div>"
   ]
  },
  {
   "cell_type": "code",
   "execution_count": null,
   "id": "2aa4b322",
   "metadata": {},
   "outputs": [
    {
     "name": "stdout",
     "output_type": "stream",
     "text": [
      "know read u.s.c. sence wonder help u.s.c. provide paragraph unlawful person transfer possess machinegun   get look law dictionary find person artificial entity create government right federal constitution understand statute enforce individual tell government tell possess pass law law know law constitional go court go court run mill guilty jail claim right possess tell supreme court right \n",
      "[0.00227465 0.00227449 0.00227711 0.00227704 0.03264882 0.62783092\n",
      " 0.32814355 0.00227341]\n",
      "\n",
      " bad question ref list algorithm think bit hard point find plane define circle lie algorithm find center circle line pass center perpendicular plane point pass center sphere repeat unused point original point give different line pass sphere origin interection center sphere radius easy compute distance center original point leave math workable algorithm  alternate method pair point plane form perpendicular bisector line segment pair contain center sphere pair form plane intersect point easy implement\n",
      "[0.69250835 0.23351356 0.0016915  0.00169008 0.00169222 0.00169194\n",
      " 0.06552098 0.00169137]\n",
      "\n",
      "actuallay hand support idea have newsgroup aspect graphic programming propose brian reply original posting suggest loose structure reason make group possible reason spilt posting day take time browse posting find interested understand agree want aspect graphic meeting agree extension news forum exchange idea help help think difficult achive different thing meeting good evening netters|-\n",
      "[0.29393865 0.00227469 0.12274208 0.00227355 0.00227602 0.00227615\n",
      " 0.57194443 0.00227443]\n",
      "\n",
      "follow problem bug appreciate help create window child root event_mask buttonpressmask|keypressmask child do_not_propagate_mask buttonpressmask|keypressmask  keypress event discard buttonpress event fall subwindow set fyi xnew olvwm wrong\n",
      "[0.00431446 0.96980755 0.00431349 0.00431102 0.00431203 0.00431301\n",
      " 0.00431725 0.0043112 ]\n",
      "\n",
      "   late upi       foreign ministry spokesman ferhat ataman tell journalist turkey       close air space flight armenia       prevent humanitarian aid reach republic overland       turkish territory       uncivilized people exhibit     sign compassion allow humanitarian aid reach civilian     population nazis     turkey pronounce     hypocrite choose continue     condemnation serbians \n",
      "[0.00291317 0.0029092  0.00290932 0.39637623 0.00290876 0.58616053\n",
      " 0.00291438 0.00290842]\n",
      "\n"
     ]
    }
   ],
   "source": [
    "for i in range(5):\n",
    "    print(df.iloc[i][\"text_pp\"])\n",
    "    print(document_topics[i])\n",
    "    print(\"\")"
   ]
  },
  {
   "cell_type": "markdown",
   "id": "677a7ac0",
   "metadata": {},
   "source": [
    "Overall, the document assignments were fairly accurate in picking the general topics. However, as each topic had a corresponding similar topic(Ex. Religion with Christianity and Atheism), the model wasn't completely confident in picking one of the two. For example, on the fourth example that appears to be about computers, it gets stuck between two options which makes sense as there are two topics related to computers. "
   ]
  },
  {
   "cell_type": "markdown",
   "id": "264bf812",
   "metadata": {},
   "source": [
    "<div class=\"alert alert-warning\">\n",
    "\n",
    "hw7_sol (34).ipynb\n",
    "    \n",
    "</div>"
   ]
  },
  {
   "cell_type": "code",
   "execution_count": null,
   "id": "f97e70da",
   "metadata": {},
   "outputs": [],
   "source": [
    "# Get the document-topic distribution for the entire dataset\n",
    "doc_topic_dist = lda.transform(X)\n",
    "\n",
    "# Show the document-topic assignment for the first five documents\n",
    "first_five_docs = doc_topic_dist[:5]\n",
    "\n",
    "# Display the distribution\n",
    "print(\"Document-Topic Distribution for the First Five Documents:\")\n",
    "for i, doc_distribution in enumerate(first_five_docs):\n",
    "    print(f\"Document {i+1}: {doc_distribution}\")\n",
    "\n",
    "# Comment on the document topic assignment\n",
    "for i, topic_mixture in enumerate(first_five_docs):\n",
    "    dominant_topic = np.argmax(topic_mixture)\n",
    "    print(f\"Document {i+1} is most associated with Topic {dominant_topic}, with a proportion of {topic_mixture[dominant_topic]:.4f}.\")\n"
   ]
  },
  {
   "cell_type": "markdown",
   "id": "ea846f07",
   "metadata": {},
   "source": [
    "Comments on Document Topic Assignment:\n",
    "\n",
    "Document 1: This document has a strong association with Topic 5, where approximately 75.8% of the document's content pertains to this topic. This suggests that the content of Document 1 is relatively focused on a single theme that Topic 5 represents.\n",
    "\n",
    "Document 2: Similarly to Document 1, Document 2 is predominantly associated with Topic 3, with a proportion of about 79.6%. This again indicates a strong focus on a single topic within this document.\n",
    "\n",
    "Document 3: This document has its content spread across multiple topics, but the dominant topic is Topic 0 with a 36.5% share. The presence of other topics with significant proportions could suggest that the document touches upon multiple themes.\n",
    "\n",
    "Document 4: Shows a very strong association with Topic 1 (87.1%). This indicates that the document is very likely to be discussing the subject matter of Topic 1 almost exclusively.\n",
    "\n",
    "Document 5: This document is most associated with Topic 2, but the proportion (47.1%) is not as overwhelming as in Documents 1, 2, and 4. This suggests that while Topic 2 is a significant theme, other topics also play a notable role in the content of this document."
   ]
  },
  {
   "cell_type": "markdown",
   "id": "8f9a34dd",
   "metadata": {},
   "source": [
    "<!-- END QUESTION -->\n",
    "\n",
    "<br><br><br><br>"
   ]
  },
  {
   "cell_type": "markdown",
   "id": "2d6bcddb",
   "metadata": {},
   "source": [
    "<div class=\"alert alert-warning\">\n",
    "\n",
    "hw7_sol (45).ipynb\n",
    "    \n",
    "</div>"
   ]
  },
  {
   "cell_type": "code",
   "execution_count": null,
   "id": "078caa7b",
   "metadata": {},
   "outputs": [
    {
     "data": {
      "text/html": [
       "<div>\n",
       "<style scoped>\n",
       "    .dataframe tbody tr th:only-of-type {\n",
       "        vertical-align: middle;\n",
       "    }\n",
       "\n",
       "    .dataframe tbody tr th {\n",
       "        vertical-align: top;\n",
       "    }\n",
       "\n",
       "    .dataframe thead th {\n",
       "        text-align: right;\n",
       "    }\n",
       "</style>\n",
       "<table border=\"1\" class=\"dataframe\">\n",
       "  <thead>\n",
       "    <tr style=\"text-align: right;\">\n",
       "      <th></th>\n",
       "      <th>text</th>\n",
       "      <th>target</th>\n",
       "      <th>target_name</th>\n",
       "      <th>text_pp</th>\n",
       "    </tr>\n",
       "  </thead>\n",
       "  <tbody>\n",
       "    <tr>\n",
       "      <th>0</th>\n",
       "      <td>You know, I was reading 18 U.S.C. 922 and some...</td>\n",
       "      <td>6</td>\n",
       "      <td>talk.politics.guns</td>\n",
       "      <td>know read sence wonder help provide paragraph ...</td>\n",
       "    </tr>\n",
       "    <tr>\n",
       "      <th>1</th>\n",
       "      <td>\\n\\n\\nIt's not a bad question: I don't have an...</td>\n",
       "      <td>1</td>\n",
       "      <td>comp.graphics</td>\n",
       "      <td>bad question ref list algorithm think bit hard...</td>\n",
       "    </tr>\n",
       "    <tr>\n",
       "      <th>2</th>\n",
       "      <td>\\nActuallay I don't, but on the other hand I d...</td>\n",
       "      <td>1</td>\n",
       "      <td>comp.graphics</td>\n",
       "      <td>actuallay hand support idea have newsgroup asp...</td>\n",
       "    </tr>\n",
       "    <tr>\n",
       "      <th>3</th>\n",
       "      <td>The following problem is really bugging me,\\na...</td>\n",
       "      <td>2</td>\n",
       "      <td>comp.windows.x</td>\n",
       "      <td>follow problem bug appreciate help create wind...</td>\n",
       "    </tr>\n",
       "    <tr>\n",
       "      <th>4</th>\n",
       "      <td>\\n\\n  This is the latest from UPI \\n\\n     For...</td>\n",
       "      <td>7</td>\n",
       "      <td>talk.politics.mideast</td>\n",
       "      <td>late upi foreign ministry spokesman ferhat ata...</td>\n",
       "    </tr>\n",
       "  </tbody>\n",
       "</table>\n",
       "</div>"
      ],
      "text/plain": [
       "                                                text  target  \\\n",
       "0  You know, I was reading 18 U.S.C. 922 and some...       6   \n",
       "1  \\n\\n\\nIt's not a bad question: I don't have an...       1   \n",
       "2  \\nActuallay I don't, but on the other hand I d...       1   \n",
       "3  The following problem is really bugging me,\\na...       2   \n",
       "4  \\n\\n  This is the latest from UPI \\n\\n     For...       7   \n",
       "\n",
       "             target_name                                            text_pp  \n",
       "0     talk.politics.guns  know read sence wonder help provide paragraph ...  \n",
       "1          comp.graphics  bad question ref list algorithm think bit hard...  \n",
       "2          comp.graphics  actuallay hand support idea have newsgroup asp...  \n",
       "3         comp.windows.x  follow problem bug appreciate help create wind...  \n",
       "4  talk.politics.mideast  late upi foreign ministry spokesman ferhat ata...  "
      ]
     },
     "execution_count": 47,
     "metadata": {},
     "output_type": "execute_result"
    }
   ],
   "source": [
    "df.head(5)"
   ]
  },
  {
   "cell_type": "code",
   "execution_count": null,
   "id": "0b1d1dba",
   "metadata": {},
   "outputs": [
    {
     "data": {
      "text/plain": [
       "'You know, I was reading 18 U.S.C. 922 and something just did not make \\nsence and I was wondering if someone could help me out.\\n\\nSay U.S.C. 922 :\\n\\n(1) Except as provided in paragraph (2), it shall be unlawful for\\nany person to transfer or possess a machinegun.\\n\\n Well I got to looking in my law dictionary and I found that a \"person\" \\nmight also be an artificial entity that is created by government \\nand has no rights under the federal constitution. So, what I \\ndon\\'t understand is how a statute like 922 can be enforced on \\nan individual. So someone tell me how my government can tell\\nme what I can or cannot possess. Just passing a law \\ndoes not make it LAW. Everyone knows that laws are constitional\\nuntil it goes to court. So, has it ever gone to court, not\\njust your run of the mill \"Ok I had it I am guilty, put me in jail\"\\n\\nHas anyone ever claimed that they had a right to possess and was told\\nby the Supreme Court that they didn\\'t have that right?\\n\\n\\n'"
      ]
     },
     "execution_count": 48,
     "metadata": {},
     "output_type": "execute_result"
    }
   ],
   "source": [
    "df.iloc[0][\"text\"]"
   ]
  },
  {
   "cell_type": "code",
   "execution_count": null,
   "id": "8f751053",
   "metadata": {},
   "outputs": [
    {
     "name": "stdout",
     "output_type": "stream",
     "text": [
      "The document topic assignment for document 0 is: [0.00503981 0.00493475 0.00508405 0.98494138]\n",
      "The majority topic for document 0 is topic 3\n",
      "The document topic assignment for document 1 is: [0.84326901 0.00366354 0.14929961 0.00376784]\n",
      "The majority topic for document 1 is topic 0\n",
      "The document topic assignment for document 2 is: [0.00519156 0.00498815 0.3987506  0.59106968]\n",
      "The majority topic for document 2 is topic 3\n",
      "The document topic assignment for document 3 is: [0.00746733 0.00723032 0.9768585  0.00844385]\n",
      "The majority topic for document 3 is topic 2\n",
      "The document topic assignment for document 4 is: [0.16277004 0.00586893 0.00595576 0.82540527]\n",
      "The majority topic for document 4 is topic 3\n"
     ]
    }
   ],
   "source": [
    "for i in range(5):\n",
    "    print(\"The document topic assignment for document {} is: {}\".format(i, document_topics[i]))\n",
    "    print(\"The majority topic for document {} is topic {}\".format(i, np.argmax(document_topics[i])))"
   ]
  },
  {
   "cell_type": "markdown",
   "id": "9c35e882",
   "metadata": {},
   "source": [
    "The document topic assignment is not that accurate because for example document 2 which is about computer graphics is being assigned to religion which is not accurate. There are too many words in each document which may make it difficult to accurately determine the topic."
   ]
  },
  {
   "cell_type": "markdown",
   "id": "8b5fd15a",
   "metadata": {},
   "source": [
    "<!-- END QUESTION -->\n",
    "\n",
    "<br><br><br><br>"
   ]
  },
  {
   "cell_type": "markdown",
   "id": "95099712",
   "metadata": {},
   "source": [
    "<div class=\"alert alert-warning\">\n",
    "\n",
    "hw7_sol (38).ipynb\n",
    "    \n",
    "</div>"
   ]
  },
  {
   "cell_type": "code",
   "execution_count": null,
   "id": "dccd3371",
   "metadata": {},
   "outputs": [
    {
     "name": "stdout",
     "output_type": "stream",
     "text": [
      "[[0.00231616 0.9837875  0.00231683 0.00231511 0.00231525 0.00231707\n",
      "  0.00231688 0.00231521]\n",
      " [0.00176304 0.3774834  0.00176267 0.00176169 0.00176203 0.00176261\n",
      "  0.61194359 0.00176098]\n",
      " [0.00227449 0.64304147 0.00227515 0.00227301 0.00227515 0.00227499\n",
      "  0.34331193 0.0022738 ]\n",
      " [0.00431266 0.12266272 0.00431812 0.00431444 0.00431147 0.00431633\n",
      "  0.44986377 0.40590049]\n",
      " [0.00290994 0.00291422 0.00291041 0.00290714 0.00290885 0.97963205\n",
      "  0.00291009 0.0029073 ]]\n"
     ]
    }
   ],
   "source": [
    "document_topics = lda_model.transform(doc_term_matrix)\n",
    "print(document_topics[:5])"
   ]
  },
  {
   "cell_type": "markdown",
   "id": "1cdf89cf",
   "metadata": {},
   "source": [
    "1. **Document 1** is almost completely about one topic (about 98% on topic 2). This means it's really focused on just one subject.\n",
    "2. **Document 2** has a mix but leans heavily towards topic 7 (about 61%), with some parts about topic 2 (about 38%). It's like a cake with two main flavors, but one is stronger.\n",
    "3. **Document 3** is also a mix between topics 2 and 7, kind of like Document 2, showing it talks about two main things.\n",
    "4. **Document 4** is more evenly spread out over a few topics, especially topics 7 and 8. This one's like a blend of several flavors, not just one or two.\n",
    "5. **Document 5** is overwhelmingly about topic 6 (almost 98%). It's super focused, just like Document 1, but on a different topic."
   ]
  },
  {
   "cell_type": "markdown",
   "id": "d3a19099",
   "metadata": {},
   "source": [
    "<!-- END QUESTION -->\n",
    "\n",
    "<br><br><br><br>"
   ]
  },
  {
   "cell_type": "markdown",
   "id": "b328f7ff",
   "metadata": {},
   "source": [
    "<div class=\"alert alert-warning\">\n",
    "\n",
    "hw7_sol (26).ipynb\n",
    "    \n",
    "</div>"
   ]
  },
  {
   "cell_type": "code",
   "execution_count": null,
   "id": "f3dae123",
   "metadata": {},
   "outputs": [
    {
     "name": "stdout",
     "output_type": "stream",
     "text": [
      "Document 0:\n",
      "  Topic 0: 0.0426\n",
      "  Topic 1: 0.0025\n",
      "  Topic 2: 0.0025\n",
      "  Topic 3: 0.0260\n",
      "  Topic 4: 0.1616\n",
      "  Topic 5: 0.0025\n",
      "  Topic 6: 0.0025\n",
      "  Topic 7: 0.7599\n",
      "\n",
      "Document 1:\n",
      "  Topic 0: 0.0018\n",
      "  Topic 1: 0.0018\n",
      "  Topic 2: 0.0799\n",
      "  Topic 3: 0.0594\n",
      "  Topic 4: 0.0018\n",
      "  Topic 5: 0.0018\n",
      "  Topic 6: 0.8003\n",
      "  Topic 7: 0.0532\n",
      "\n",
      "Document 2:\n",
      "  Topic 0: 0.0026\n",
      "  Topic 1: 0.0026\n",
      "  Topic 2: 0.0026\n",
      "  Topic 3: 0.0026\n",
      "  Topic 4: 0.0026\n",
      "  Topic 5: 0.3509\n",
      "  Topic 6: 0.0026\n",
      "  Topic 7: 0.6338\n",
      "\n",
      "Document 3:\n",
      "  Topic 0: 0.0057\n",
      "  Topic 1: 0.0057\n",
      "  Topic 2: 0.9602\n",
      "  Topic 3: 0.0057\n",
      "  Topic 4: 0.0057\n",
      "  Topic 5: 0.0057\n",
      "  Topic 6: 0.0057\n",
      "  Topic 7: 0.0057\n",
      "\n",
      "Document 4:\n",
      "  Topic 0: 0.9398\n",
      "  Topic 1: 0.0031\n",
      "  Topic 2: 0.0031\n",
      "  Topic 3: 0.0031\n",
      "  Topic 4: 0.0031\n",
      "  Topic 5: 0.0031\n",
      "  Topic 6: 0.0419\n",
      "  Topic 7: 0.0031\n",
      "\n"
     ]
    }
   ],
   "source": [
    "doc_topic_dist = lda.transform(dtm)\n",
    "\n",
    "for doc_idx, doc_dist in enumerate(doc_topic_dist[:5]):\n",
    "    print(\"Document {}:\".format(doc_idx))\n",
    "    for topic_idx, topic_prob in enumerate(doc_dist):\n",
    "        print(\"  Topic {}: {:.4f}\".format(topic_idx, topic_prob))\n",
    "    print()"
   ]
  },
  {
   "cell_type": "markdown",
   "id": "ee8d60a5",
   "metadata": {},
   "source": [
    "- Document 0: This document shows a strong link to Topic 7.\n",
    "- Document 1: This document seems to be almost in Topics 6.\n",
    "- Document 2: This document seems to be almost split by Topics 5 and 7, suggesting it covers two subjects, but is less concentrated compared to Document 7.\n",
    "- Document 3: This document seems to be almost in topics 2 as well.\n",
    "- Document 4: Here we see a strong link towards Topic 0."
   ]
  },
  {
   "cell_type": "markdown",
   "id": "47f34b54",
   "metadata": {},
   "source": [
    "<div class=\"alert alert-warning\">\n",
    "\n",
    "hw7_sol.ipynb\n",
    "    \n",
    "</div>"
   ]
  },
  {
   "cell_type": "code",
   "execution_count": null,
   "id": "c3510a77",
   "metadata": {},
   "outputs": [
    {
     "name": "stdout",
     "output_type": "stream",
     "text": [
      "first 5 assignments:\n"
     ]
    },
    {
     "data": {
      "text/plain": [
       "array([[0.00515185, 0.00504452, 0.00520811, 0.98459553],\n",
       "       [0.88395404, 0.00385295, 0.00398239, 0.10821063],\n",
       "       [0.41628715, 0.08497786, 0.00451799, 0.494217  ],\n",
       "       [0.97318636, 0.0085905 , 0.00880172, 0.00942143],\n",
       "       [0.00629393, 0.00616323, 0.54640409, 0.44113875]])"
      ]
     },
     "execution_count": 46,
     "metadata": {},
     "output_type": "execute_result"
    }
   ],
   "source": [
    "res = document_topics[:5]\n",
    "print(\"first 5 assignments:\")\n",
    "res"
   ]
  },
  {
   "cell_type": "code",
   "execution_count": null,
   "id": "06cb35a5",
   "metadata": {},
   "outputs": [
    {
     "data": {
      "text/plain": [
       "0    You know, I was reading 18 U.S.C. 922 and some...\n",
       "1    \\n\\n\\nIt's not a bad question: I don't have an...\n",
       "2    \\nActuallay I don't, but on the other hand I d...\n",
       "3    The following problem is really bugging me,\\na...\n",
       "4    \\n\\n  This is the latest from UPI \\n\\n     For...\n",
       "Name: text, dtype: object"
      ]
     },
     "execution_count": 47,
     "metadata": {},
     "output_type": "execute_result"
    }
   ],
   "source": [
    "df[\"text\"][:5]"
   ]
  },
  {
   "cell_type": "markdown",
   "id": "cfb0c2d0",
   "metadata": {},
   "source": [
    "The model did a fairly good job, the 4 out of the first 5 were assigned to the corrct topic."
   ]
  },
  {
   "cell_type": "markdown",
   "id": "3849c59a",
   "metadata": {},
   "source": [
    "<!-- END QUESTION -->\n",
    "\n",
    "<br><br><br><br>"
   ]
  },
  {
   "cell_type": "markdown",
   "id": "c56b271d",
   "metadata": {},
   "source": [
    "<div class=\"alert alert-warning\">\n",
    "\n",
    "hw7_sol (2).ipynb\n",
    "    \n",
    "</div>"
   ]
  },
  {
   "cell_type": "code",
   "execution_count": null,
   "id": "1be4cbee",
   "metadata": {},
   "outputs": [],
   "source": [
    "doc_topic_dist = lda_model.transform(dtm[:5])\n",
    "\n",
    "# Display the document topic assignment\n",
    "for doc_idx, dist in enumerate(doc_topic_dist):\n",
    "    print(f\"Document #{doc_idx + 1} Topic Distribution:\")\n",
    "    for topic_idx, topic_prob in enumerate(dist):\n",
    "        print(f\"  Topic {topic_idx}: {topic_prob:.4f}\")\n",
    "    print()"
   ]
  },
  {
   "cell_type": "markdown",
   "id": "46aad484",
   "metadata": {},
   "source": [
    "Document #1:\n",
    "- Dominantly about Topic 2: This document is overwhelmingly associated with Topic 2 (98.49%). This indicates that the content of Document #1 is highly focused on the theme represented by Topic 2. The document likely contains specific language or terms that are characteristic of this topic.\n",
    "\n",
    "Document #2:\n",
    "- Mixed Topics with a Preference for Topic 0: Document #2 shows a notable distribution across Topics 0, 4, and 5, with Topic 0 being the most dominant. This suggests that the document covers multiple themes but leans towards the subject matter of Topic 0.\n",
    "\n",
    "Document #3:\n",
    "- Balance between Topics 0, 2, and 7: This document is somewhat evenly split among Topics 0, 2, and 7, with Topic 7 being slightly more dominant. It suggests a document touching upon various subjects, making it a multifaceted discussion.\n",
    "\n",
    "Document #4:\n",
    "- Predominantly Topics 0 and 2: With more than half of the document aligned with Topic 0 and a significant portion associated with Topic 2, Document #4 seems to primarily discuss these two themes. It shows a clear inclination towards the subjects of Topics 0 and 2.\n",
    "\n",
    "Document #5:\n",
    "- Mainly Topics 2 and 5: This document is mostly about Topic 2, with a notable mention of Topic 5. It seems to focus on the area represented by Topic 2 while also covering some aspects of Topic 5.\n"
   ]
  },
  {
   "cell_type": "markdown",
   "id": "1e6e225b",
   "metadata": {},
   "source": [
    "<!-- END QUESTION -->\n",
    "\n",
    "<br><br><br><br>"
   ]
  },
  {
   "cell_type": "markdown",
   "id": "bb7a7b24",
   "metadata": {},
   "source": [
    "<div class=\"alert alert-warning\">\n",
    "\n",
    "hw7_sol (12).ipynb\n",
    "    \n",
    "</div>\n",
    "\n",
    "_Points:_ 5"
   ]
  },
  {
   "cell_type": "code",
   "execution_count": null,
   "id": "e102fd84",
   "metadata": {},
   "outputs": [
    {
     "data": {
      "text/plain": [
       "array([[4.32647905e-03, 4.51260822e-03, 9.86813686e-01, 4.34722643e-03],\n",
       "       [3.58147661e-03, 3.48588922e-03, 5.45224686e-01, 4.47707948e-01],\n",
       "       [4.44541747e-03, 4.40141943e-03, 6.94225979e-01, 2.96927184e-01],\n",
       "       ...,\n",
       "       [5.21860351e-03, 2.56609152e-01, 7.32936621e-01, 5.23562416e-03],\n",
       "       [6.92985279e-03, 6.48792974e-03, 6.59336302e-03, 9.79988854e-01],\n",
       "       [7.91038698e-04, 4.39497665e-01, 5.58911465e-01, 7.99830672e-04]])"
      ]
     },
     "execution_count": 38,
     "metadata": {},
     "output_type": "execute_result"
    }
   ],
   "source": [
    "document_topics"
   ]
  },
  {
   "cell_type": "code",
   "execution_count": null,
   "id": "9a3b2fb4",
   "metadata": {},
   "outputs": [
    {
     "name": "stdout",
     "output_type": "stream",
     "text": [
      "Document 1 :\n",
      " know read u.s.c. 922 sence wonder help u.s.c. 922 provide paragraph shall unlawful person transfer possess machinegun get look law dictionary find person artificial entity create government right federal constitution understand statute 922 enforce individual tell government tell possess pass law law know law constitional go court go court run mill guilty jail claim right possess tell supreme court right\n",
      "Document 1 topic assignment:\n",
      " [0.00432648 0.00451261 0.98681369 0.00434723]\n",
      "\n",
      "\n",
      "Document 2 :\n",
      " bad question ref list algorithm think bit hard point find plane define circle lie algorithm find center circle line pass center perpendicular plane point pass center sphere repeat unused point original point give different line pass sphere origin interection center sphere radius easy compute distance center original point leave math workable algorithm alternate method pair point plane form perpendicular bisector line segment pair contain center sphere pair form plane intersect point easy implement\n",
      "Document 2 topic assignment:\n",
      " [0.00358148 0.00348589 0.54522469 0.44770795]\n",
      "\n",
      "\n",
      "Document 3 :\n",
      " actuallay hand support idea have newsgroup aspect graphic programming propose brian reply original posting suggest loose structure comp.graphics.programmer reason make group possible reason spilt posting day take time browse posting find interested understand agree want aspect graphic meeting agree extension news forum exchange idea help help think difficult achive different thing meeting good evening netters|-\n",
      "Document 3 topic assignment:\n",
      " [0.00444542 0.00440142 0.69422598 0.29692718]\n",
      "\n",
      "\n",
      "Document 4 :\n",
      " follow problem bug appreciate help create window child root event_mask buttonpressmask|keypressmask child do_not_propagate_mask buttonpressmask|keypressmask keypress event discard buttonpress event fall subwindow set fyi xnews wrong\n",
      "Document 4 topic assignment:\n",
      " [0.00909844 0.00926667 0.10761802 0.87401688]\n",
      "\n",
      "\n",
      "Document 5 :\n",
      " late upi foreign ministry spokesman ferhat ataman tell journalist turkey close air space flight armenia prevent humanitarian aid reach republic turkish territory uncivilized people exhibit sign compassion allow humanitarian aid reach civilian population nazis turkey pronounce hypocrite choose continue condemnation serbians\n",
      "Document 5 topic assignment:\n",
      " [0.00615739 0.98103765 0.00644086 0.0063641 ]\n",
      "\n",
      "\n"
     ]
    }
   ],
   "source": [
    "for i in range(5):\n",
    "    print(\"Document\", i + 1, \":\\n\", df.iloc[i]['text_pp'])\n",
    "    print(\"Document\", i + 1, \"topic assignment:\\n\", document_topics[i])\n",
    "    print(\"\\n\")"
   ]
  },
  {
   "cell_type": "markdown",
   "id": "ae5b378d",
   "metadata": {},
   "source": [
    "1. Document 1 seems to be assigned to the right topic (religion).\n",
    "2. Document 2 doesn't seem to align heavily with any of the topics, but the closest assignment is for religion. However, we expected it to be more closely aligned with computers (which the model does have it as a close second).\n",
    "3. Document 3 should've been assigned to topic 3 (computers), but the model incorrectly assigned it to religion.\n",
    "4. Document 4 seems to be assigned to the right topic (computers).\n",
    "5. Document 5 seems to be assigned to the right topic (middle eastern politics)."
   ]
  },
  {
   "cell_type": "markdown",
   "id": "d9e7b5cd",
   "metadata": {},
   "source": [
    "<!-- END QUESTION -->\n",
    "\n",
    "<br><br><br><br>"
   ]
  },
  {
   "cell_type": "markdown",
   "id": "4785193c",
   "metadata": {},
   "source": [
    "<div class=\"alert alert-warning\">\n",
    "\n",
    "hw7_sol (24).ipynb\n",
    "    \n",
    "</div>"
   ]
  },
  {
   "cell_type": "code",
   "execution_count": null,
   "id": "82b6f7f5",
   "metadata": {},
   "outputs": [],
   "source": [
    "res = document_topics[:5]\n",
    "print(\"first 5 assignments:\")\n",
    "res"
   ]
  },
  {
   "cell_type": "code",
   "execution_count": null,
   "id": "5a1d3639",
   "metadata": {},
   "outputs": [],
   "source": [
    "df[\"text\"][:5]"
   ]
  },
  {
   "cell_type": "markdown",
   "id": "8fd22a2f",
   "metadata": {},
   "source": [
    "The model did a fairly good job, the 4 out of the first 5 were assigned to the corrct topic."
   ]
  },
  {
   "cell_type": "markdown",
   "id": "79faa7c1",
   "metadata": {},
   "source": [
    "<!-- END QUESTION -->\n",
    "\n",
    "<br><br><br><br>"
   ]
  },
  {
   "cell_type": "markdown",
   "id": "35481472",
   "metadata": {},
   "source": [
    "<div class=\"alert alert-warning\">\n",
    "\n",
    "hw7_sol (47).ipynb\n",
    "    \n",
    "</div>"
   ]
  },
  {
   "cell_type": "code",
   "execution_count": null,
   "id": "e1520c3a",
   "metadata": {},
   "outputs": [
    {
     "name": "stdout",
     "output_type": "stream",
     "text": [
      "You know, I was reading 18 U.S.C. 922 and something just did not make  sence and I was wondering if someone could help me out.  Say U.S.C. 922 :  (1) Except as provided in paragraph (2), it shall be unlawful for any person to transfer or possess a machinegun.   Well I got to looking in my law dictionary and I found that a \"person\"  might also be an artificial entity that is created by government  and has no rights under the federal constitution. So, what I  don't understand is how a statute like 922 can be enforced on  an individual. So someone tell me how my government can tell me what I can or cannot possess. Just passing a law  does not make it LAW. Everyone knows that laws are constitional until it goes to court. So, has it ever gone to court, not just your run of the mill \"Ok I had it I am guilty, put me in jail\"  Has anyone ever claimed that they had a right to possess and was told by the Supreme Court that they didn't have that right?   \n",
      "[0.0047665  0.73705124 0.00474329 0.25343897]\n"
     ]
    }
   ],
   "source": [
    "print(df.iloc[0][\"text\"])\n",
    "print(document_topics[0])"
   ]
  },
  {
   "cell_type": "code",
   "execution_count": null,
   "id": "031e80c2",
   "metadata": {},
   "outputs": [
    {
     "name": "stdout",
     "output_type": "stream",
     "text": [
      "   It's not a bad question: I don't have any refs that list this algorithm either. But thinking about it a bit, it shouldn't be too hard.  1) Take three of the points and find the plane they define as well as the circle that they lie on (you say you have this algorithm already)  2) Find the center  of this circle. The line passing through this center perpendicular to the plane of the three points passes through the center of the sphere.  3) Repeat with the unused point and two of the original points. This gives you two different lines that both pass through the sphere's origin. Their interection is the center of the sphere.  4) the radius is easy to compute, it's just the distance from the center to any of the original points.  I'll leave the math to you, but this is a workable algorithm. :-)   An alternate method would be to take pairs of points: the plane formed by the perpendicular bisector of each line segment pair also contains the center of the sphere. Three pairs will form three planes, intersecting at a point. This might be easier to implement.\n",
      "[0.31053927 0.15609465 0.52964285 0.00372323]\n"
     ]
    }
   ],
   "source": [
    "print(df.iloc[1][\"text\"])\n",
    "print(document_topics[1])"
   ]
  },
  {
   "cell_type": "code",
   "execution_count": null,
   "id": "a47aadbc",
   "metadata": {},
   "outputs": [
    {
     "name": "stdout",
     "output_type": "stream",
     "text": [
      " Actuallay I don't, but on the other hand I don't support the idea of having one newsgroup for every aspect of graphics programming as proposed by Brian, in his reply to my original posting. I would suggest a looser structure more like a comp.graphics.programmer, comp.graphics.hw_and_sw The reason for making as few groups as possible is for the same reason you say we shouldn't spilt up, not to get to few postings every day. I takes to much time to browse through all postings just to find two or  three I'm interested in.  I understand and agree when you say you want all aspects of graphics in one meeting. I agree to some extension. I see news as a forum to exchange ideas, help others or to be helped. I think this is difficult to achive if there are so many different things in one meeting.  Good evening netters -)\n",
      "[0.40386252 0.58689191 0.00458155 0.00466402]\n"
     ]
    }
   ],
   "source": [
    "print(df.iloc[2][\"text\"])\n",
    "print(document_topics[2])"
   ]
  },
  {
   "cell_type": "code",
   "execution_count": null,
   "id": "758d08bf",
   "metadata": {},
   "outputs": [
    {
     "name": "stdout",
     "output_type": "stream",
     "text": [
      "The following problem is really bugging me, and I would appreciate any help.  I create two windows:  w1 (child to root) with event_mask   ButtonPressMask KeyPressMask; w2 (child to w1) with do_not_propagate_mask   ButtonPressMask KeyPressMask;   Keypress events in w2 are discarded, but ButtonPress events fall through to w1, with subwindow set to w2.  FYI, I'm using xnews olvwm.  Am I doing something fundamentally wrong here?\n",
      "[0.89574104 0.08604298 0.00906574 0.00915025]\n"
     ]
    }
   ],
   "source": [
    "print(df.iloc[3][\"text\"])\n",
    "print(document_topics[3])"
   ]
  },
  {
   "cell_type": "code",
   "execution_count": null,
   "id": "2be8a7e9",
   "metadata": {},
   "outputs": [
    {
     "name": "stdout",
     "output_type": "stream",
     "text": [
      "    This is the latest from UPI        Foreign Ministry spokesman Ferhat Ataman told journalists Turkey was      closing its air space to all flights to and from Armenia and would      prevent humanitarian aid from reaching the republic overland across      Turkish territory.        Historically even the most uncivilized of peoples have exhibited     signs of compassion by allowing humanitarian aid to reach civilian    populations. Even the Nazis did this much.     It seems as though from now on Turkey will publicly pronounce     themselves 'hypocrites' should they choose to continue their    condemnation of the Serbians.    --\n",
      "[0.00602719 0.4190131  0.00582867 0.56913104]\n"
     ]
    }
   ],
   "source": [
    "print(df.iloc[4][\"text\"])\n",
    "print(document_topics[4])"
   ]
  },
  {
   "cell_type": "markdown",
   "id": "c94cf15e",
   "metadata": {},
   "source": [
    "We can see that each text would have a higher probability of one kind of topic and this would help us know the kind of the text and do the split of topic."
   ]
  },
  {
   "cell_type": "markdown",
   "id": "f5a88c0a",
   "metadata": {},
   "source": [
    "<!-- END QUESTION -->\n",
    "\n",
    "<br><br><br><br>"
   ]
  },
  {
   "cell_type": "markdown",
   "id": "2e3439c6",
   "metadata": {},
   "source": [
    "<div class=\"alert alert-warning\">\n",
    "\n",
    "hw7_sol (36).ipynb\n",
    "    \n",
    "</div>"
   ]
  },
  {
   "cell_type": "code",
   "execution_count": null,
   "id": "75d768a4",
   "metadata": {},
   "outputs": [],
   "source": [
    "document_topics_five = lda.fit_transform(X[0:5])\n",
    "sorting = np.argsort(lda.components_, axis=1)[:, ::-1]\n",
    "feature_names = np.array(vec.get_feature_names_out())"
   ]
  },
  {
   "cell_type": "code",
   "execution_count": null,
   "id": "c543e27f",
   "metadata": {},
   "outputs": [
    {
     "name": "stdout",
     "output_type": "stream",
     "text": [
      "topic 0       topic 1       topic 2       topic 3       topic 4       \n",
      "--------      --------      --------      --------      --------      \n",
      "create        create        w2            law           point         \n",
      "help          help          w1            help          center        \n",
      "tell          tell          keypressmask  tell          plane         \n",
      "different     different     child         posting       sphere        \n",
      "think         think         event         possess       pass          \n",
      "pass          pass          buttonpressmaskright         pair          \n",
      "original      original      keypress      court         line          \n",
      "subwindow     subwindow     xnew          idea          algorithm     \n",
      "problem       problem       bug           reason        original      \n",
      "fundamentally fundamentally fall          aspect        circle        \n",
      "\n",
      "\n"
     ]
    }
   ],
   "source": [
    "import mglearn\n",
    "\n",
    "mglearn.tools.print_topics(\n",
    "    topics=range(5),\n",
    "    feature_names=feature_names,\n",
    "    sorting=sorting,\n",
    "    topics_per_chunk=5,\n",
    "    n_words=10,\n",
    ")"
   ]
  },
  {
   "cell_type": "markdown",
   "id": "6806a383",
   "metadata": {},
   "source": [
    "<span style=\"color:blue\"> \n",
    "\n",
    "The document topic assignment for the five topics is very different compared to the five topics I identified above based on the whole data frame. The first 2 topics are practically the same, topic 2 is a mix of different words, topic 3 may be more related to weapons and the government, and topic 4 is related to geometry it seems. Therefore, observing the 5 topics based on the first five lines of `df` does not provide a good overview of the general topics found in `df`. \n",
    "\n",
    "</span> "
   ]
  },
  {
   "cell_type": "markdown",
   "id": "cfd274f6",
   "metadata": {},
   "source": [
    "<!-- END QUESTION -->\n",
    "\n",
    "<br><br><br><br>"
   ]
  },
  {
   "cell_type": "markdown",
   "id": "38cbadc9",
   "metadata": {},
   "source": [
    "<div class=\"alert alert-warning\">\n",
    "\n",
    "hw7_sol (28).ipynb\n",
    "    \n",
    "</div>"
   ]
  },
  {
   "cell_type": "code",
   "execution_count": null,
   "id": "9a59bd77",
   "metadata": {},
   "outputs": [
    {
     "name": "stdout",
     "output_type": "stream",
     "text": [
      "[0.96523291 0.0049314  0.02491887 0.00491681]\n",
      "[0.21425712 0.48351845 0.00371562 0.29850881]\n",
      "[0.00509117 0.26003577 0.00498279 0.72989028]\n",
      "[0.0089665  0.66815072 0.0086817  0.31420109]\n",
      "[0.98221024 0.0059695  0.00590799 0.00591228]\n"
     ]
    }
   ],
   "source": [
    "print(document_topics[0]) \n",
    "# it is very confident (0.965) to be topic 0 (about politics), and it's correct when compared to original target name\n",
    "print(document_topics[1]) \n",
    "# it is likely (0.483) to be topic 1 (about computer),and it's correct when compared to original target name\n",
    "print(document_topics[2]) \n",
    "# it is very likely (0.729) to be topic 4 (about religion), but actually the orginal target name is in the computer category, the model predicted 0.26 (second possible) for topic 1 (computer)\n",
    "print(document_topics[3])\n",
    "# it is very likely (0.668) to be topic 1 (about computer),and it's correct when compared to original target name\n",
    "print(document_topics[4]) \n",
    "# it is very confident (0.965) to be topic 0 (about politics), and it's correct when compared to original target name"
   ]
  },
  {
   "cell_type": "markdown",
   "id": "53c141ce",
   "metadata": {},
   "source": [
    "<!-- END QUESTION -->\n",
    "\n",
    "<br><br><br><br>"
   ]
  },
  {
   "cell_type": "markdown",
   "id": "2ac28f2b",
   "metadata": {},
   "source": [
    "<div class=\"alert alert-warning\">\n",
    "\n",
    "hw7_sol (17).ipynb\n",
    "    \n",
    "</div>"
   ]
  },
  {
   "cell_type": "code",
   "execution_count": null,
   "id": "424678d9",
   "metadata": {},
   "outputs": [
    {
     "data": {
      "text/html": [
       "<div>\n",
       "<style scoped>\n",
       "    .dataframe tbody tr th:only-of-type {\n",
       "        vertical-align: middle;\n",
       "    }\n",
       "\n",
       "    .dataframe tbody tr th {\n",
       "        vertical-align: top;\n",
       "    }\n",
       "\n",
       "    .dataframe thead th {\n",
       "        text-align: right;\n",
       "    }\n",
       "</style>\n",
       "<table border=\"1\" class=\"dataframe\">\n",
       "  <thead>\n",
       "    <tr style=\"text-align: right;\">\n",
       "      <th></th>\n",
       "      <th>topic_0</th>\n",
       "      <th>topic_1</th>\n",
       "      <th>topic_2</th>\n",
       "      <th>topic_3</th>\n",
       "      <th>topic_4</th>\n",
       "      <th>topic_5</th>\n",
       "      <th>text</th>\n",
       "    </tr>\n",
       "  </thead>\n",
       "  <tbody>\n",
       "    <tr>\n",
       "      <th>0</th>\n",
       "      <td>0.003369</td>\n",
       "      <td>0.003361</td>\n",
       "      <td>0.003357</td>\n",
       "      <td>0.003346</td>\n",
       "      <td>0.003350</td>\n",
       "      <td>0.983217</td>\n",
       "      <td>[know, read, u.s.c., sence, wonder, help, u.s.c., provide, paragraph, shall, unlawful, forany, person, transfer, possess, machinegun, look, dictionary, find, person, artificial, entity, create, government, right, federal, constitution, understand, statute, like, enforce, individual, tell, government, tellme, possess, pass, know, law, constitionaluntil, go, court, go, court, notjust, mill, guilty, jail\"has, claim, right, possess, toldby, supreme, court, right]</td>\n",
       "    </tr>\n",
       "    <tr>\n",
       "      <th>1</th>\n",
       "      <td>0.002332</td>\n",
       "      <td>0.503667</td>\n",
       "      <td>0.002324</td>\n",
       "      <td>0.002332</td>\n",
       "      <td>0.002326</td>\n",
       "      <td>0.487019</td>\n",
       "      <td>[question, refs, list, algorithmeither, thinking, hard.1, point, find, plane, define, asthe, circle, algorithm, already)2, find, center, circle, line, pass, centerperpendicular, plane, point, pass, center, ofthe, sphere.3, repeat, unused, point, original, point, thisgive, different, line, pass, sphere'sorigin, interection, center, sphere.4, radius, easy, compute, distance, center, toany, original, point, i'll, leave, math, workable, algorithm, -)an, alternate, method, pair, point, plane, formedby, perpendicular, bisector, line, segment, pair, contain, thecenter, sphere, pair, form, plane, intersectingat, point, easier, implement]</td>\n",
       "    </tr>\n",
       "    <tr>\n",
       "      <th>2</th>\n",
       "      <td>0.002755</td>\n",
       "      <td>0.691161</td>\n",
       "      <td>0.002739</td>\n",
       "      <td>0.002758</td>\n",
       "      <td>0.002743</td>\n",
       "      <td>0.297842</td>\n",
       "      <td>[actuallay, hand, support, idea, havingone, newsgroup, aspect, graphic, programming, propose, brian, reply, original, posting, suggest, loose, structure, like, comp.graphics.programmer, comp.graphics.hw_and_swthe, reason, make, group, possible, reason, yousay, spill, posting, take, time, browse, posting, find, interested, understand, agree, want, aspect, graphic, onemeeting, agree, extension, news, forum, exchange, idea, help, help, think, difficult, achive, thereare, different, thing, meeting, good, evening, netters|-]</td>\n",
       "    </tr>\n",
       "    <tr>\n",
       "      <th>3</th>\n",
       "      <td>0.812753</td>\n",
       "      <td>0.005251</td>\n",
       "      <td>0.005216</td>\n",
       "      <td>0.166328</td>\n",
       "      <td>0.005218</td>\n",
       "      <td>0.005236</td>\n",
       "      <td>[follow, problem, bug, appreciate, help, create, window, child, root, event_mask, buttonpressmask|keypressmask;w2, child, do_not_propagate_mask, buttonpressmask|keypressmask;keypress, event, discard, buttonpress, event, fall, throughto, subwindow, w2.fyi, xnew, olvwm, fundamentally, wrong]</td>\n",
       "    </tr>\n",
       "  </tbody>\n",
       "</table>\n",
       "</div>"
      ],
      "text/plain": [
       "    topic_0   topic_1   topic_2   topic_3   topic_4   topic_5  \\\n",
       "0  0.003369  0.003361  0.003357  0.003346  0.003350  0.983217   \n",
       "1  0.002332  0.503667  0.002324  0.002332  0.002326  0.487019   \n",
       "2  0.002755  0.691161  0.002739  0.002758  0.002743  0.297842   \n",
       "3  0.812753  0.005251  0.005216  0.166328  0.005218  0.005236   \n",
       "\n",
       "                                                                                                                                                                                                                                                                                                                                                                                                                                                                                                                                                                                                                                                            text  \n",
       "0  [know, read, u.s.c., sence, wonder, help, u.s.c., provide, paragraph, shall, unlawful, forany, person, transfer, possess, machinegun, look, dictionary, find, person, artificial, entity, create, government, right, federal, constitution, understand, statute, like, enforce, individual, tell, government, tellme, possess, pass, know, law, constitionaluntil, go, court, go, court, notjust, mill, guilty, jail\"has, claim, right, possess, toldby, supreme, court, right]                                                                                                                                                                                \n",
       "1  [question, refs, list, algorithmeither, thinking, hard.1, point, find, plane, define, asthe, circle, algorithm, already)2, find, center, circle, line, pass, centerperpendicular, plane, point, pass, center, ofthe, sphere.3, repeat, unused, point, original, point, thisgive, different, line, pass, sphere'sorigin, interection, center, sphere.4, radius, easy, compute, distance, center, toany, original, point, i'll, leave, math, workable, algorithm, -)an, alternate, method, pair, point, plane, formedby, perpendicular, bisector, line, segment, pair, contain, thecenter, sphere, pair, form, plane, intersectingat, point, easier, implement]  \n",
       "2  [actuallay, hand, support, idea, havingone, newsgroup, aspect, graphic, programming, propose, brian, reply, original, posting, suggest, loose, structure, like, comp.graphics.programmer, comp.graphics.hw_and_swthe, reason, make, group, possible, reason, yousay, spill, posting, take, time, browse, posting, find, interested, understand, agree, want, aspect, graphic, onemeeting, agree, extension, news, forum, exchange, idea, help, help, think, difficult, achive, thereare, different, thing, meeting, good, evening, netters|-]                                                                                                                  \n",
       "3  [follow, problem, bug, appreciate, help, create, window, child, root, event_mask, buttonpressmask|keypressmask;w2, child, do_not_propagate_mask, buttonpressmask|keypressmask;keypress, event, discard, buttonpress, event, fall, throughto, subwindow, w2.fyi, xnew, olvwm, fundamentally, wrong]                                                                                                                                                                                                                                                                                                                                                             "
      ]
     },
     "execution_count": 51,
     "metadata": {},
     "output_type": "execute_result"
    }
   ],
   "source": [
    "pd.set_option('display.max_colwidth', 0)\n",
    "\n",
    "temp=pd.DataFrame(document_topics[0:4],columns=[\"topic_0\", \"topic_1\", \"topic_2\", \"topic_3\",\"topic_4\",\"topic_5\"])\n",
    "temp[\"text\"] = df[0:4][\"text_pp\"]\n",
    "temp"
   ]
  },
  {
   "cell_type": "markdown",
   "id": "fd135266",
   "metadata": {},
   "source": [
    "While some documents are assigned with high confidence to a particular topic (ex. the first document is assigned 98% to topic 5), other documents are much more ambiguous and share almost equal belonging to multiple groups (ex. the second document which is almost evenly divided between topic_1 and topic_5). Low confidence assignments tend to be associated with texts that make excessive use of ambiguous and technical language (not very frequent in other texts)."
   ]
  },
  {
   "cell_type": "markdown",
   "id": "fe480f50",
   "metadata": {},
   "source": [
    "<!-- END QUESTION -->\n",
    "\n",
    "<br><br><br><br>"
   ]
  },
  {
   "cell_type": "markdown",
   "id": "3c6714a2",
   "metadata": {},
   "source": [
    "<div class=\"alert alert-warning\">\n",
    "\n",
    "hw7_sol (50).ipynb\n",
    "    \n",
    "</div>"
   ]
  },
  {
   "cell_type": "code",
   "execution_count": null,
   "id": "60e870c3",
   "metadata": {},
   "outputs": [
    {
     "name": "stdout",
     "output_type": "stream",
     "text": [
      "know read 922 sence wonder help 922 provide paragraph shall unlawful person transfer possess machinegun get look law dictionary find person artificial entity create government right federal constitution understand statute 922 enforce individual tell government tell possess pass law law know law constitional go court go court run mill guilty jail claim right possess tell supreme court right\n",
      "[0.72263598 0.2661032  0.00377531 0.00374306 0.00374245]\n",
      "\n",
      "\n",
      "bad question ref list algorithm think bit hard point find plane define circle lie algorithm find center circle line pass center perpendicular plane point pass center sphere repeat unused point original point give different line pass sphere origin interection center sphere radius easy compute distance center original point leave math workable algorithm alternate method pair point plane form perpendicular bisector line segment pair contain center sphere pair form plane intersect point easy implement\n",
      "[0.00287243 0.00288958 0.98850707 0.00285242 0.0028785 ]\n",
      "\n",
      "\n",
      "actuallay hand support idea have newsgroup aspect graphic programming propose brian reply original posting suggest loose structure reason make group possible reason spilt posting day take time browse posting find interested understand agree want aspect graphic meeting agree extension news forum exchange idea help help think difficult achive different thing meeting good evening\n",
      "[0.00399158 0.72337915 0.26458885 0.00405581 0.00398461]\n",
      "\n",
      "\n",
      "follow problem bug appreciate help create window child root buttonpressmask|keypressmask child buttonpressmask|keypressmask keypress event discard buttonpress event fall subwindow set fyi xnew olvwm wrong\n",
      "[0.00751522 0.00772784 0.96955173 0.00773935 0.00746586]\n",
      "\n",
      "\n",
      "late upi foreign ministry spokesman ferhat ataman tell journalist turkey close air space flight armenia prevent humanitarian aid reach republic overland turkish territory uncivilized people exhibit sign compassion allow humanitarian aid reach civilian population nazis turkey pronounce hypocrite choose continue condemnation serbians\n",
      "[0.00474864 0.00489105 0.00475533 0.98087171 0.00473328]\n",
      "\n",
      "\n"
     ]
    }
   ],
   "source": [
    "for i in range(5):\n",
    "    print(df['text_pp'].iloc[i])\n",
    "    print(doc_topics[i])\n",
    "    print(\"\\n\")"
   ]
  },
  {
   "cell_type": "markdown",
   "id": "56ca6471",
   "metadata": {},
   "source": [
    "The topic assignment of this model seems generally correct. The model is very confident that the second example and fourth example is assigned to the 'Computers' topic, and the fifth example is assigned to the 'Middle East' topic, which we would agree with. For the first example, the model is mainly confident it belongs to the 'Gun Crime' topic, but is also slightly considering the 'Christian Religion' topic. We think it shouldn't be considering the 'Christian Religion' topic as the words in example 1 are all mainly related to crime. However, the model is mainly confident that the third example belongs in the 'Christian Religion' topic, but also slightly considering the 'Computers' topic. We think the model is wrong with this example as the words in example 3 are mainly related to programming and corporate workspaces, which aren't really related to religion at all. "
   ]
  },
  {
   "cell_type": "markdown",
   "id": "320de8c1",
   "metadata": {},
   "source": [
    "<!-- END QUESTION -->\n",
    "\n",
    "<br><br><br><br>"
   ]
  },
  {
   "cell_type": "markdown",
   "id": "fc810a83",
   "metadata": {},
   "source": [
    "<div class=\"alert alert-warning\">\n",
    "\n",
    "hw7_sol (33).ipynb\n",
    "    \n",
    "</div>"
   ]
  },
  {
   "cell_type": "code",
   "execution_count": null,
   "id": "a78a0bbb",
   "metadata": {},
   "outputs": [
    {
     "data": {
      "text/html": [
       "<div>\n",
       "<style scoped>\n",
       "    .dataframe tbody tr th:only-of-type {\n",
       "        vertical-align: middle;\n",
       "    }\n",
       "\n",
       "    .dataframe tbody tr th {\n",
       "        vertical-align: top;\n",
       "    }\n",
       "\n",
       "    .dataframe thead th {\n",
       "        text-align: right;\n",
       "    }\n",
       "</style>\n",
       "<table border=\"1\" class=\"dataframe\">\n",
       "  <thead>\n",
       "    <tr style=\"text-align: right;\">\n",
       "      <th></th>\n",
       "      <th>text</th>\n",
       "      <th>target</th>\n",
       "      <th>target_name</th>\n",
       "      <th>text_pp</th>\n",
       "    </tr>\n",
       "  </thead>\n",
       "  <tbody>\n",
       "    <tr>\n",
       "      <th>0</th>\n",
       "      <td>You know, I was reading 18 U.S.C. 922 and some...</td>\n",
       "      <td>6</td>\n",
       "      <td>talk.politics.guns</td>\n",
       "      <td>u.s.c. 922 sence u.s.c. 922 paragraph shall un...</td>\n",
       "    </tr>\n",
       "    <tr>\n",
       "      <th>1</th>\n",
       "      <td>\\n\\n\\nIt's not a bad question: I don't have an...</td>\n",
       "      <td>1</td>\n",
       "      <td>comp.graphics</td>\n",
       "      <td>bad question ref algorithm bit hard point plan...</td>\n",
       "    </tr>\n",
       "    <tr>\n",
       "      <th>2</th>\n",
       "      <td>\\nActuallay I don't, but on the other hand I d...</td>\n",
       "      <td>1</td>\n",
       "      <td>comp.graphics</td>\n",
       "      <td>actuallay hand idea newsgroup aspect graphic p...</td>\n",
       "    </tr>\n",
       "    <tr>\n",
       "      <th>3</th>\n",
       "      <td>The following problem is really bugging me,\\na...</td>\n",
       "      <td>2</td>\n",
       "      <td>comp.windows.x</td>\n",
       "      <td>problem help window child event_mask buttonpre...</td>\n",
       "    </tr>\n",
       "    <tr>\n",
       "      <th>4</th>\n",
       "      <td>\\n\\n  This is the latest from UPI \\n\\n     For...</td>\n",
       "      <td>7</td>\n",
       "      <td>talk.politics.mideast</td>\n",
       "      <td>late upi foreign ministry spokesman ferhat ata...</td>\n",
       "    </tr>\n",
       "  </tbody>\n",
       "</table>\n",
       "</div>"
      ],
      "text/plain": [
       "                                                text  target  \\\n",
       "0  You know, I was reading 18 U.S.C. 922 and some...       6   \n",
       "1  \\n\\n\\nIt's not a bad question: I don't have an...       1   \n",
       "2  \\nActuallay I don't, but on the other hand I d...       1   \n",
       "3  The following problem is really bugging me,\\na...       2   \n",
       "4  \\n\\n  This is the latest from UPI \\n\\n     For...       7   \n",
       "\n",
       "             target_name                                            text_pp  \n",
       "0     talk.politics.guns  u.s.c. 922 sence u.s.c. 922 paragraph shall un...  \n",
       "1          comp.graphics  bad question ref algorithm bit hard point plan...  \n",
       "2          comp.graphics  actuallay hand idea newsgroup aspect graphic p...  \n",
       "3         comp.windows.x  problem help window child event_mask buttonpre...  \n",
       "4  talk.politics.mideast  late upi foreign ministry spokesman ferhat ata...  "
      ]
     },
     "execution_count": 36,
     "metadata": {},
     "output_type": "execute_result"
    }
   ],
   "source": [
    "df.head()"
   ]
  },
  {
   "cell_type": "code",
   "execution_count": null,
   "id": "f6738bbf",
   "metadata": {},
   "outputs": [
    {
     "data": {
      "text/html": [
       "<div>\n",
       "<style scoped>\n",
       "    .dataframe tbody tr th:only-of-type {\n",
       "        vertical-align: middle;\n",
       "    }\n",
       "\n",
       "    .dataframe tbody tr th {\n",
       "        vertical-align: top;\n",
       "    }\n",
       "\n",
       "    .dataframe thead th {\n",
       "        text-align: right;\n",
       "    }\n",
       "</style>\n",
       "<table border=\"1\" class=\"dataframe\">\n",
       "  <thead>\n",
       "    <tr style=\"text-align: right;\">\n",
       "      <th></th>\n",
       "      <th>0</th>\n",
       "      <th>1</th>\n",
       "      <th>2</th>\n",
       "      <th>3</th>\n",
       "      <th>4</th>\n",
       "      <th>5</th>\n",
       "      <th>6</th>\n",
       "    </tr>\n",
       "  </thead>\n",
       "  <tbody>\n",
       "    <tr>\n",
       "      <th>0</th>\n",
       "      <td>0.004212</td>\n",
       "      <td>0.004212</td>\n",
       "      <td>0.004247</td>\n",
       "      <td>0.974691</td>\n",
       "      <td>0.004223</td>\n",
       "      <td>0.004208</td>\n",
       "      <td>0.004206</td>\n",
       "    </tr>\n",
       "    <tr>\n",
       "      <th>1</th>\n",
       "      <td>0.067709</td>\n",
       "      <td>0.002555</td>\n",
       "      <td>0.702251</td>\n",
       "      <td>0.002556</td>\n",
       "      <td>0.219809</td>\n",
       "      <td>0.002558</td>\n",
       "      <td>0.002562</td>\n",
       "    </tr>\n",
       "    <tr>\n",
       "      <th>2</th>\n",
       "      <td>0.003880</td>\n",
       "      <td>0.003869</td>\n",
       "      <td>0.003873</td>\n",
       "      <td>0.003869</td>\n",
       "      <td>0.577855</td>\n",
       "      <td>0.003870</td>\n",
       "      <td>0.402783</td>\n",
       "    </tr>\n",
       "    <tr>\n",
       "      <th>3</th>\n",
       "      <td>0.006826</td>\n",
       "      <td>0.196190</td>\n",
       "      <td>0.165033</td>\n",
       "      <td>0.283086</td>\n",
       "      <td>0.006828</td>\n",
       "      <td>0.006814</td>\n",
       "      <td>0.335222</td>\n",
       "    </tr>\n",
       "    <tr>\n",
       "      <th>4</th>\n",
       "      <td>0.004340</td>\n",
       "      <td>0.805683</td>\n",
       "      <td>0.004332</td>\n",
       "      <td>0.004352</td>\n",
       "      <td>0.004345</td>\n",
       "      <td>0.172613</td>\n",
       "      <td>0.004336</td>\n",
       "    </tr>\n",
       "  </tbody>\n",
       "</table>\n",
       "</div>"
      ],
      "text/plain": [
       "          0         1         2         3         4         5         6\n",
       "0  0.004212  0.004212  0.004247  0.974691  0.004223  0.004208  0.004206\n",
       "1  0.067709  0.002555  0.702251  0.002556  0.219809  0.002558  0.002562\n",
       "2  0.003880  0.003869  0.003873  0.003869  0.577855  0.003870  0.402783\n",
       "3  0.006826  0.196190  0.165033  0.283086  0.006828  0.006814  0.335222\n",
       "4  0.004340  0.805683  0.004332  0.004352  0.004345  0.172613  0.004336"
      ]
     },
     "execution_count": 37,
     "metadata": {},
     "output_type": "execute_result"
    }
   ],
   "source": [
    "pd.DataFrame(document_topics).head()"
   ]
  },
  {
   "cell_type": "markdown",
   "id": "c8cbf3bf",
   "metadata": {},
   "source": [
    "1. the first document is mainly related to topic 3 (0.975) (being less than 1% of each of the other topics), which is about weapon(gun) politics, which matches the df.\n",
    "2. second document is made up of 70% topic 2, 22% topic 4, and 7% topic 0 (and less than 1% of each of the other topics). Topic 2 is about baseball which does not match too well since it's labeled as computer graphics topic.\n",
    "3. third document is made up of 58% topic 4, 40% topic 6, and < 1% the others, which is slightly on point when compared to the labeled topic since it's computer graphics, but topic 4 is christianity while topic 6 is about computers.\n",
    "4. the fourth document is made up of 34% topic 6, 28% topic 3, and 20% topic 1, and 16% topic 2 (and < 1% of the other topics). It's labelled as a computer topic, which is topic 6 and is the largest proportion of the topics.\n",
    "5. fifth document is 81% topic 1, 17% topic 5, and less than 1% of each of the other topics. It's labeled as middle east politics talk, which is topic 1, which is a good match making the majority of the topic assignment."
   ]
  },
  {
   "cell_type": "markdown",
   "id": "a39bb5de",
   "metadata": {},
   "source": [
    "<!-- END QUESTION -->\n",
    "\n",
    "<br><br><br><br>"
   ]
  },
  {
   "cell_type": "markdown",
   "id": "344a7db6",
   "metadata": {},
   "source": [
    "<div class=\"alert alert-warning\">\n",
    "\n",
    "hw7_sol (42).ipynb\n",
    "    \n",
    "</div>"
   ]
  },
  {
   "cell_type": "code",
   "execution_count": null,
   "id": "269c9f73",
   "metadata": {},
   "outputs": [
    {
     "name": "stdout",
     "output_type": "stream",
     "text": [
      "Document 0:\n",
      "[0.00231614 0.56182299 0.00231675 0.0023184  0.00231566 0.0023181\n",
      " 0.4242764  0.00231556]\n",
      "Document 1:\n",
      "[0.00176259 0.00176298 0.00176341 0.05465663 0.00176216 0.00176439\n",
      " 0.12865503 0.80787281]\n",
      "Document 2:\n",
      "[0.00227312 0.00227643 0.00227456 0.9840704  0.0022752  0.00227783\n",
      " 0.0022778  0.00227466]\n",
      "Document 3:\n",
      "[0.00431086 0.00431894 0.00431333 0.61939602 0.00431239 0.00431645\n",
      " 0.06137983 0.29765217]\n",
      "Document 4:\n",
      "[0.00291089 0.0029114  0.0029118  0.00291009 0.26750605 0.00291291\n",
      " 0.71502586 0.00291099]\n"
     ]
    }
   ],
   "source": [
    "for i in range(5):\n",
    "    print(f\"Document {i}:\")\n",
    "    print(document_topics[i])"
   ]
  },
  {
   "cell_type": "markdown",
   "id": "81b6fa9b",
   "metadata": {},
   "source": [
    "2.\n",
    "- Document 0: made up of 0.23% topic 0, 56% topic 1, 0.23% topic 2, 0.23% topic 3, 0.23% topic 4, 0.23% topic 5, 42% topic 6, and 0.23% topic 7\n",
    "- Document 1: made up of 0.17% topics 0, 1, 2, 4, and 5, 5.5% topic 3, 12.9% topic 6, and 80.8% topic 7\n",
    "- Document 2: made up of 0.22% topics 0, 1, 2, 4, 5, 6, 7, and 98.4% topic 3\n",
    "- Document 3: made up of 0.43% topics 0, 1, 2, 4, and 5, 61.9% topic 3, 6.1% topic 6 and 29.8% topic 7\n",
    "- Document 4: made up of 0.29% topics 0, 1, 2, 3, 5, and 7, 26.8% topic 4, and 71.5% topic 6\n",
    "\n",
    "Looking at the documents, there is a common patterns that topics 0, 1, 2, and 5 do not make up the majority of the documents, while topics 3, 4, 6, and 7 vary. It's interesting because topics 3, 4, and 7 share a common theme of computer and software things, but topic 6 seems related to religious actions. "
   ]
  },
  {
   "cell_type": "markdown",
   "id": "c37c1c0f",
   "metadata": {},
   "source": [
    "<!-- END QUESTION -->\n",
    "\n",
    "<br><br><br><br>"
   ]
  },
  {
   "cell_type": "markdown",
   "id": "20df5893",
   "metadata": {},
   "source": [
    "<div class=\"alert alert-warning\">\n",
    "\n",
    "hw7_sol (21).ipynb\n",
    "    \n",
    "</div>"
   ]
  },
  {
   "cell_type": "code",
   "execution_count": null,
   "id": "fb8270ed",
   "metadata": {},
   "outputs": [
    {
     "name": "stdout",
     "output_type": "stream",
     "text": [
      "[[0.00509842 0.26070902 0.72919543 0.00499713]\n",
      " [0.98876845 0.0037893  0.00372346 0.00371879]\n",
      " [0.24286817 0.74692191 0.00511761 0.00509231]\n",
      " [0.8930821  0.08391634 0.01195835 0.01104321]\n",
      " [0.00603852 0.00613337 0.98191356 0.00591455]]\n"
     ]
    }
   ],
   "source": [
    "#topic association for the first five documents from df\n",
    "topic_association = topics[:5]\n",
    "print(topic_association)"
   ]
  },
  {
   "cell_type": "markdown",
   "id": "740efd2d",
   "metadata": {},
   "source": [
    "the tipic assigment is quite clear for the documents. Both document 1 and 5 has high probability of being in topic 3 out of the 4 topics. both doc 2 and 4 have a high probability of being in topic 1, while doc 3 have a decently high prob of topic 2. The probability is reasonably high for 1 topic for each document, which shows that the split is quite clear."
   ]
  },
  {
   "cell_type": "markdown",
   "id": "26978369",
   "metadata": {},
   "source": [
    "<div class=\"alert alert-warning\">\n",
    "\n",
    "hw7_sol (7).ipynb\n",
    "    \n",
    "</div>"
   ]
  },
  {
   "cell_type": "code",
   "execution_count": null,
   "id": "3785fc0e",
   "metadata": {},
   "outputs": [
    {
     "name": "stdout",
     "output_type": "stream",
     "text": [
      "Document 0:\n",
      " - Topic 0: 0.002179349074471226\n",
      " - Topic 1: 0.3844420169555887\n",
      " - Topic 2: 0.0021813219950709887\n",
      " - Topic 3: 0.6003001590335817\n",
      " - Topic 4: 0.002178844740465059\n",
      " - Topic 5: 0.0021799520294579285\n",
      " - Topic 6: 0.0021793443136947695\n",
      " - Topic 7: 0.002179431348997037\n",
      " - Topic 8: 0.00217958050867259\n",
      "\n",
      "\n",
      "Document 1:\n",
      " - Topic 0: 0.0015659277659796826\n",
      " - Topic 1: 0.17403324368302808\n",
      " - Topic 2: 0.0015658366254873027\n",
      " - Topic 3: 0.16735046378411494\n",
      " - Topic 4: 0.0015654757555075458\n",
      " - Topic 5: 0.0015661760768474148\n",
      " - Topic 6: 0.0015654799748789782\n",
      " - Topic 7: 0.44687449710111865\n",
      " - Topic 8: 0.2039128992330373\n",
      "\n",
      "\n",
      "Document 2:\n",
      " - Topic 0: 0.102706490637526\n",
      " - Topic 1: 0.604038984991021\n",
      " - Topic 2: 0.002021568271752213\n",
      " - Topic 3: 0.0020217451346012123\n",
      " - Topic 4: 0.002020668714078451\n",
      " - Topic 5: 0.0020215041789265844\n",
      " - Topic 6: 0.0020212913223235274\n",
      " - Topic 7: 0.0020209956586205845\n",
      " - Topic 8: 0.28112675109115054\n",
      "\n",
      "\n",
      "Document 3:\n",
      " - Topic 0: 0.24300665941788274\n",
      " - Topic 1: 0.003835610060939967\n",
      " - Topic 2: 0.0038363128173496803\n",
      " - Topic 3: 0.0038332987713761437\n",
      " - Topic 4: 0.003832256642560003\n",
      " - Topic 5: 0.6250073668373419\n",
      " - Topic 6: 0.0038352886906811707\n",
      " - Topic 7: 0.10897895628923557\n",
      " - Topic 8: 0.003834250472632816\n",
      "\n",
      "\n",
      "Document 4:\n",
      " - Topic 0: 0.0025844393173050325\n",
      " - Topic 1: 0.002585030639236261\n",
      " - Topic 2: 0.22565114255751778\n",
      " - Topic 3: 0.7562565836924522\n",
      " - Topic 4: 0.0025840608912560178\n",
      " - Topic 5: 0.0025845932845703786\n",
      " - Topic 6: 0.002584191217850062\n",
      " - Topic 7: 0.002584730168399683\n",
      " - Topic 8: 0.0025852282314124918\n",
      "\n",
      "\n"
     ]
    }
   ],
   "source": [
    "for i in range(5):\n",
    "    doc_topics = document_topics[i]\n",
    "    print(f\"Document {i}:\")\n",
    "    for topic_idx, topic_prob in enumerate(doc_topics):\n",
    "        print(f\" - Topic {topic_idx}: {topic_prob}\")\n",
    "    print(\"\\n\")"
   ]
  },
  {
   "cell_type": "markdown",
   "id": "5fcf8180",
   "metadata": {},
   "source": [
    "Although we did indeed train on 8 categories and created 9 topics, we would then expect to see that our documents line up with its original labelled category and indeed we do see that, so that's pretty good.Each of the five documents clearly has a topic that has dominant weight. Although we must note that Document 1 has less of a dominant weight (only 0.4) which indicates this document may contain content that is easily present or spreaded out to different topics. We note the consistency between topics and its' associating original category and document nonetheless.  "
   ]
  },
  {
   "cell_type": "markdown",
   "id": "f4808276",
   "metadata": {},
   "source": [
    "<!-- END QUESTION -->\n",
    "\n",
    "<br><br><br><br>"
   ]
  },
  {
   "cell_type": "markdown",
   "id": "cea8b5af",
   "metadata": {},
   "source": [
    "<div class=\"alert alert-warning\">\n",
    "\n",
    "hw7_sol (5).ipynb\n",
    "    \n",
    "</div>"
   ]
  },
  {
   "cell_type": "code",
   "execution_count": null,
   "id": "42f34b06",
   "metadata": {},
   "outputs": [
    {
     "name": "stdout",
     "output_type": "stream",
     "text": [
      "topic assignment 0:  [0.28540936 0.70442289 0.00507633 0.00509143]\n",
      "document 0  \n",
      " You know, I was reading 18 U.S.C. 922 and something just did not make \n",
      "sence and I was wondering if someone could help me out.\n",
      "\n",
      "Say U.S.C. 922 :\n",
      "\n",
      "(1) Except as provided in paragraph (2), it shall be unlawful for\n",
      "any person to transfer or possess a machinegun.\n",
      "\n",
      " Well I got to looking in my law dictionary and I found that a \"person\" \n",
      "might also be an artificial entity that is created by government \n",
      "and has no rights under the federal constitution. So, what I \n",
      "don't understand is how a statute like 922 can be enforced on \n",
      "an individual. So someone tell me how my government can tell\n",
      "me what I can or cannot possess. Just passing a law \n",
      "does not make it LAW. Everyone knows that laws are constitional\n",
      "until it goes to court. So, has it ever gone to court, not\n",
      "just your run of the mill \"Ok I had it I am guilty, put me in jail\"\n",
      "\n",
      "Has anyone ever claimed that they had a right to possess and was told\n",
      "by the Supreme Court that they didn't have that right?\n",
      "\n",
      "\n",
      "\n",
      "topic assignment 1:  [0.00388052 0.33697497 0.65539417 0.00375033]\n",
      "document 1  \n",
      " \n",
      "\n",
      "\n",
      "It's not a bad question: I don't have any refs that list this algorithm\n",
      "either. But thinking about it a bit, it shouldn't be too hard.\n",
      "\n",
      "1) Take three of the points and find the plane they define as well as\n",
      "the circle that they lie on (you say you have this algorithm already)\n",
      "\n",
      "2) Find the center  of this circle. The line passing through this center\n",
      "perpendicular to the plane of the three points passes through the center of\n",
      "the sphere.\n",
      "\n",
      "3) Repeat with the unused point and two of the original points. This\n",
      "gives you two different lines that both pass through the sphere's\n",
      "origin. Their interection is the center of the sphere.\n",
      "\n",
      "4) the radius is easy to compute, it's just the distance from the center to\n",
      "any of the original points.\n",
      "\n",
      "I'll leave the math to you, but this is a workable algorithm. :-)\n",
      "\n",
      "\n",
      "An alternate method would be to take pairs of points: the plane formed\n",
      "by the perpendicular bisector of each line segment pair also contains the\n",
      "center of the sphere. Three pairs will form three planes, intersecting\n",
      "at a point. This might be easier to implement.\n",
      "topic assignment 2:  [0.78187633 0.00511009 0.20788375 0.00512983]\n",
      "document 2  \n",
      " \n",
      "Actuallay I don't, but on the other hand I don't support the idea of having\n",
      "one newsgroup for every aspect of graphics programming as proposed by Brian,\n",
      "in his reply to my original posting.\n",
      "I would suggest a looser structure more like a comp.graphics.programmer,\n",
      "comp.graphics.hw_and_sw\n",
      "The reason for making as few groups as possible is for the same reason you\n",
      "say we shouldn't spilt up, not to get to few postings every day.\n",
      "I takes to much time to browse through all postings just to find two or \n",
      "three I'm interested in.\n",
      "\n",
      "I understand and agree when you say you want all aspects of graphics in one\n",
      "meeting. I agree to some extension. I see news as a forum to exchange ideas,\n",
      "help others or to be helped. I think this is difficult to achive if there\n",
      "are so many different things in one meeting.\n",
      "\n",
      "Good evening netters|-)\n",
      "topic assignment 3:  [0.01175092 0.2565034  0.72062706 0.01111862]\n",
      "document 3  \n",
      " The following problem is really bugging me,\n",
      "and I would appreciate any help.\n",
      "\n",
      "I create two windows:\n",
      "\n",
      "w1 (child to root) with event_mask = ButtonPressMask|KeyPressMask;\n",
      "w2 (child to w1) with do_not_propagate_mask = ButtonPressMask|KeyPressMask;\n",
      "\n",
      "\n",
      "Keypress events in w2 are discarded, but ButtonPress events fall through\n",
      "to w1, with subwindow set to w2.\n",
      "\n",
      "FYI, I'm using xnews/olvwm.\n",
      "\n",
      "Am I doing something fundamentally wrong here?\n",
      "topic assignment 4:  [0.00606646 0.9819947  0.00601256 0.00592628]\n",
      "document 4  \n",
      " \n",
      "\n",
      "  This is the latest from UPI \n",
      "\n",
      "     Foreign Ministry spokesman Ferhat Ataman told journalists Turkey was\n",
      "     closing its air space to all flights to and from Armenia and would\n",
      "     prevent humanitarian aid from reaching the republic overland across\n",
      "     Turkish territory.\n",
      "\n",
      "  \n",
      "   Historically even the most uncivilized of peoples have exhibited \n",
      "   signs of compassion by allowing humanitarian aid to reach civilian\n",
      "   populations. Even the Nazis did this much.\n",
      "\n",
      "   It seems as though from now on Turkey will publicly pronounce \n",
      "   themselves 'hypocrites' should they choose to continue their\n",
      "   condemnation of the Serbians.\n",
      "\n",
      "\n",
      "\n",
      "--\n"
     ]
    }
   ],
   "source": [
    "for i in range(5):\n",
    "    print(f\"topic assignment {i}: \", document_topics[i])\n",
    "    print(f'document {i}  \\n' ,df.iloc[i]['text'])"
   ]
  },
  {
   "cell_type": "markdown",
   "id": "d0a0425a",
   "metadata": {},
   "source": [
    "The topic assignment is mostly correct. It correctly identified politics and gave the second highest assignment value to religion which makes sense because politics and religions are often talked about in a similar manner. When the topic was computers, the topic assignment succeeded and gave the computer topic a considerably higher score except for the third document. It strongly labeled the third document as religion when the topic is computers. Some misinterpretations are to be expected from our model but we are surprised because the document mostly uses computer vocabulary. However, the last and first paragraph could somehow also be misinterpreted as if it was talking about a religious meeting."
   ]
  },
  {
   "cell_type": "markdown",
   "id": "b3fbcbd3",
   "metadata": {},
   "source": [
    "<!-- END QUESTION -->\n",
    "\n",
    "<br><br><br><br>"
   ]
  },
  {
   "cell_type": "markdown",
   "id": "faf03a4c",
   "metadata": {},
   "source": [
    "<div class=\"alert alert-warning\">\n",
    "\n",
    "hw7_sol (9).ipynb\n",
    "    \n",
    "</div>"
   ]
  },
  {
   "cell_type": "code",
   "execution_count": null,
   "id": "994648bd",
   "metadata": {},
   "outputs": [
    {
     "data": {
      "text/html": [
       "<div>\n",
       "<style scoped>\n",
       "    .dataframe tbody tr th:only-of-type {\n",
       "        vertical-align: middle;\n",
       "    }\n",
       "\n",
       "    .dataframe tbody tr th {\n",
       "        vertical-align: top;\n",
       "    }\n",
       "\n",
       "    .dataframe thead th {\n",
       "        text-align: right;\n",
       "    }\n",
       "</style>\n",
       "<table border=\"1\" class=\"dataframe\">\n",
       "  <thead>\n",
       "    <tr style=\"text-align: right;\">\n",
       "      <th></th>\n",
       "      <th>text</th>\n",
       "      <th>target</th>\n",
       "      <th>target_name</th>\n",
       "      <th>text_pp</th>\n",
       "      <th>Topic 0</th>\n",
       "      <th>Topic 1</th>\n",
       "      <th>Topic 2</th>\n",
       "      <th>Topic 3</th>\n",
       "      <th>Topic 4</th>\n",
       "      <th>Topic 5</th>\n",
       "      <th>Topic 6</th>\n",
       "      <th>Topic 7</th>\n",
       "    </tr>\n",
       "  </thead>\n",
       "  <tbody>\n",
       "    <tr>\n",
       "      <th>0</th>\n",
       "      <td>You know, I was reading 18 U.S.C. 922 and some...</td>\n",
       "      <td>6</td>\n",
       "      <td>talk.politics.guns</td>\n",
       "      <td>know read u.s.c. sence wonder help u.s.c. prov...</td>\n",
       "      <td>0.002504</td>\n",
       "      <td>0.982479</td>\n",
       "      <td>0.002503</td>\n",
       "      <td>0.002501</td>\n",
       "      <td>0.002501</td>\n",
       "      <td>0.002505</td>\n",
       "      <td>0.002503</td>\n",
       "      <td>0.002503</td>\n",
       "    </tr>\n",
       "    <tr>\n",
       "      <th>1</th>\n",
       "      <td>\\n\\n\\nIt's not a bad question: I don't have an...</td>\n",
       "      <td>1</td>\n",
       "      <td>comp.graphics</td>\n",
       "      <td>bad question ref list algorithm think bit hard...</td>\n",
       "      <td>0.001788</td>\n",
       "      <td>0.001787</td>\n",
       "      <td>0.001787</td>\n",
       "      <td>0.001787</td>\n",
       "      <td>0.001787</td>\n",
       "      <td>0.001787</td>\n",
       "      <td>0.001789</td>\n",
       "      <td>0.987488</td>\n",
       "    </tr>\n",
       "    <tr>\n",
       "      <th>2</th>\n",
       "      <td>\\nActuallay I don't, but on the other hand I d...</td>\n",
       "      <td>1</td>\n",
       "      <td>comp.graphics</td>\n",
       "      <td>hand support idea have newsgroup aspect graphi...</td>\n",
       "      <td>0.184790</td>\n",
       "      <td>0.395797</td>\n",
       "      <td>0.002503</td>\n",
       "      <td>0.002502</td>\n",
       "      <td>0.002502</td>\n",
       "      <td>0.002504</td>\n",
       "      <td>0.311811</td>\n",
       "      <td>0.097590</td>\n",
       "    </tr>\n",
       "    <tr>\n",
       "      <th>3</th>\n",
       "      <td>The following problem is really bugging me,\\na...</td>\n",
       "      <td>2</td>\n",
       "      <td>comp.windows.x</td>\n",
       "      <td>follow problem bug appreciate help create wind...</td>\n",
       "      <td>0.006591</td>\n",
       "      <td>0.006588</td>\n",
       "      <td>0.006589</td>\n",
       "      <td>0.006580</td>\n",
       "      <td>0.006580</td>\n",
       "      <td>0.359079</td>\n",
       "      <td>0.601410</td>\n",
       "      <td>0.006584</td>\n",
       "    </tr>\n",
       "    <tr>\n",
       "      <th>4</th>\n",
       "      <td>\\n\\n  This is the latest from UPI \\n\\n     For...</td>\n",
       "      <td>7</td>\n",
       "      <td>talk.politics.mideast</td>\n",
       "      <td>late upi foreign ministry spokesman ferhat ata...</td>\n",
       "      <td>0.002780</td>\n",
       "      <td>0.002780</td>\n",
       "      <td>0.980542</td>\n",
       "      <td>0.002779</td>\n",
       "      <td>0.002778</td>\n",
       "      <td>0.002781</td>\n",
       "      <td>0.002780</td>\n",
       "      <td>0.002779</td>\n",
       "    </tr>\n",
       "  </tbody>\n",
       "</table>\n",
       "</div>"
      ],
      "text/plain": [
       "                                                text  target  \\\n",
       "0  You know, I was reading 18 U.S.C. 922 and some...       6   \n",
       "1  \\n\\n\\nIt's not a bad question: I don't have an...       1   \n",
       "2  \\nActuallay I don't, but on the other hand I d...       1   \n",
       "3  The following problem is really bugging me,\\na...       2   \n",
       "4  \\n\\n  This is the latest from UPI \\n\\n     For...       7   \n",
       "\n",
       "             target_name                                            text_pp  \\\n",
       "0     talk.politics.guns  know read u.s.c. sence wonder help u.s.c. prov...   \n",
       "1          comp.graphics  bad question ref list algorithm think bit hard...   \n",
       "2          comp.graphics  hand support idea have newsgroup aspect graphi...   \n",
       "3         comp.windows.x  follow problem bug appreciate help create wind...   \n",
       "4  talk.politics.mideast  late upi foreign ministry spokesman ferhat ata...   \n",
       "\n",
       "    Topic 0   Topic 1   Topic 2   Topic 3   Topic 4   Topic 5   Topic 6  \\\n",
       "0  0.002504  0.982479  0.002503  0.002501  0.002501  0.002505  0.002503   \n",
       "1  0.001788  0.001787  0.001787  0.001787  0.001787  0.001787  0.001789   \n",
       "2  0.184790  0.395797  0.002503  0.002502  0.002502  0.002504  0.311811   \n",
       "3  0.006591  0.006588  0.006589  0.006580  0.006580  0.359079  0.601410   \n",
       "4  0.002780  0.002780  0.980542  0.002779  0.002778  0.002781  0.002780   \n",
       "\n",
       "    Topic 7  \n",
       "0  0.002503  \n",
       "1  0.987488  \n",
       "2  0.097590  \n",
       "3  0.006584  \n",
       "4  0.002779  "
      ]
     },
     "execution_count": 46,
     "metadata": {},
     "output_type": "execute_result"
    }
   ],
   "source": [
    "topic_df = pd.DataFrame(topics)\n",
    "topic_df.columns = ['Topic 0', 'Topic 1', 'Topic 2', 'Topic 3', 'Topic 4', 'Topic 5', 'Topic 6', 'Topic 7']\n",
    "topic_df\n",
    "first_five = df.head().join(topic_df)\n",
    "first_five"
   ]
  },
  {
   "cell_type": "markdown",
   "id": "3fc0f5d8",
   "metadata": {},
   "source": [
    "#### Response:\n",
    "\n",
    "Our model seems to have done a good job at classifying these! We show the texts of the first five examples below, so that we can interpret them as humans, view their provided labels, and compare the topic assignment.\n",
    "- 0 matches with Topic 1 at 0.98, which is correct (Guns -> Firearms)\n",
    "- 1 matches with Topic 7 at 0.99, which is not quite correct (Graphics -> Baseball). Examining the test, some of the terminology used (e.g. \"pass\", \"transfer\", \"possess\") are words that could appear in texts about Baseball, even though these words have slightly different meanings in computer graphics/algorithms, which could explain the confusion.\n",
    "- 2 matches with Topic 1 the most at 0.40, which is also quite incorrect (Graphics -> Atheism). Looking at the text, it looks like a forum post discussing the organization of the news platform the post was made in, and the \"Firearms\" category was most associated with news articles, which could explain the assignment. Also, Topic 6 (\"Computers\", which would be more correct) was the second-closest, with 0.31 of the text matching.\n",
    "- 3 matches with Topic 6 at 0.60, which is correct (Windows -> Computer)\n",
    "- 4 matches with Topic 2 at 0.98, which is correct (Middle East -> Middle East)\n",
    "\n",
    "Overall, the model seems to have learned topics like Guns, Middle East, and Computers quite well. However, it does seem to have struggled with differentiating computer graphics from the rest of the items."
   ]
  },
  {
   "cell_type": "code",
   "execution_count": null,
   "id": "2498af04",
   "metadata": {},
   "outputs": [
    {
     "data": {
      "text/plain": [
       "'You know, I was reading 18 U.S.C. 922 and something just did not make \\nsence and I was wondering if someone could help me out.\\n\\nSay U.S.C. 922 :\\n\\n(1) Except as provided in paragraph (2), it shall be unlawful for\\nany person to transfer or possess a machinegun.\\n\\n Well I got to looking in my law dictionary and I found that a \"person\" \\nmight also be an artificial entity that is created by government \\nand has no rights under the federal constitution. So, what I \\ndon\\'t understand is how a statute like 922 can be enforced on \\nan individual. So someone tell me how my government can tell\\nme what I can or cannot possess. Just passing a law \\ndoes not make it LAW. Everyone knows that laws are constitional\\nuntil it goes to court. So, has it ever gone to court, not\\njust your run of the mill \"Ok I had it I am guilty, put me in jail\"\\n\\nHas anyone ever claimed that they had a right to possess and was told\\nby the Supreme Court that they didn\\'t have that right?\\n\\n\\n'"
      ]
     },
     "execution_count": 47,
     "metadata": {},
     "output_type": "execute_result"
    }
   ],
   "source": [
    "first_five['text'][0]"
   ]
  },
  {
   "cell_type": "code",
   "execution_count": null,
   "id": "063a85fe",
   "metadata": {},
   "outputs": [
    {
     "data": {
      "text/plain": [
       "\"\\n\\n\\nIt's not a bad question: I don't have any refs that list this algorithm\\neither. But thinking about it a bit, it shouldn't be too hard.\\n\\n1) Take three of the points and find the plane they define as well as\\nthe circle that they lie on (you say you have this algorithm already)\\n\\n2) Find the center  of this circle. The line passing through this center\\nperpendicular to the plane of the three points passes through the center of\\nthe sphere.\\n\\n3) Repeat with the unused point and two of the original points. This\\ngives you two different lines that both pass through the sphere's\\norigin. Their interection is the center of the sphere.\\n\\n4) the radius is easy to compute, it's just the distance from the center to\\nany of the original points.\\n\\nI'll leave the math to you, but this is a workable algorithm. :-)\\n\\n\\nAn alternate method would be to take pairs of points: the plane formed\\nby the perpendicular bisector of each line segment pair also contains the\\ncenter of the sphere. Three pairs will form three planes, intersecting\\nat a point. This might be easier to implement.\""
      ]
     },
     "execution_count": 48,
     "metadata": {},
     "output_type": "execute_result"
    }
   ],
   "source": [
    "first_five['text'][1]"
   ]
  },
  {
   "cell_type": "code",
   "execution_count": null,
   "id": "12bbd540",
   "metadata": {},
   "outputs": [
    {
     "data": {
      "text/plain": [
       "\"\\nActuallay I don't, but on the other hand I don't support the idea of having\\none newsgroup for every aspect of graphics programming as proposed by Brian,\\nin his reply to my original posting.\\nI would suggest a looser structure more like a comp.graphics.programmer,\\ncomp.graphics.hw_and_sw\\nThe reason for making as few groups as possible is for the same reason you\\nsay we shouldn't spilt up, not to get to few postings every day.\\nI takes to much time to browse through all postings just to find two or \\nthree I'm interested in.\\n\\nI understand and agree when you say you want all aspects of graphics in one\\nmeeting. I agree to some extension. I see news as a forum to exchange ideas,\\nhelp others or to be helped. I think this is difficult to achive if there\\nare so many different things in one meeting.\\n\\nGood evening netters|-)\""
      ]
     },
     "execution_count": 49,
     "metadata": {},
     "output_type": "execute_result"
    }
   ],
   "source": [
    "first_five['text'][2]"
   ]
  },
  {
   "cell_type": "code",
   "execution_count": null,
   "id": "ce1dd7af",
   "metadata": {},
   "outputs": [
    {
     "data": {
      "text/plain": [
       "\"The following problem is really bugging me,\\nand I would appreciate any help.\\n\\nI create two windows:\\n\\nw1 (child to root) with event_mask = ButtonPressMask|KeyPressMask;\\nw2 (child to w1) with do_not_propagate_mask = ButtonPressMask|KeyPressMask;\\n\\n\\nKeypress events in w2 are discarded, but ButtonPress events fall through\\nto w1, with subwindow set to w2.\\n\\nFYI, I'm using xnews/olvwm.\\n\\nAm I doing something fundamentally wrong here?\""
      ]
     },
     "execution_count": 50,
     "metadata": {},
     "output_type": "execute_result"
    }
   ],
   "source": [
    "first_five['text'][3]"
   ]
  },
  {
   "cell_type": "code",
   "execution_count": null,
   "id": "f79e41e7",
   "metadata": {},
   "outputs": [
    {
     "data": {
      "text/plain": [
       "\"\\n\\n  This is the latest from UPI \\n\\n     Foreign Ministry spokesman Ferhat Ataman told journalists Turkey was\\n     closing its air space to all flights to and from Armenia and would\\n     prevent humanitarian aid from reaching the republic overland across\\n     Turkish territory.\\n\\n  \\n   Historically even the most uncivilized of peoples have exhibited \\n   signs of compassion by allowing humanitarian aid to reach civilian\\n   populations. Even the Nazis did this much.\\n\\n   It seems as though from now on Turkey will publicly pronounce \\n   themselves 'hypocrites' should they choose to continue their\\n   condemnation of the Serbians.\\n\\n\\n\\n--\""
      ]
     },
     "execution_count": 51,
     "metadata": {},
     "output_type": "execute_result"
    }
   ],
   "source": [
    "first_five['text'][4]"
   ]
  },
  {
   "cell_type": "markdown",
   "id": "84af0323",
   "metadata": {},
   "source": [
    "<!-- END QUESTION -->\n",
    "\n",
    "<br><br><br><br>"
   ]
  },
  {
   "cell_type": "markdown",
   "id": "8b52d277",
   "metadata": {},
   "source": [
    "<div class=\"alert alert-warning\">\n",
    "\n",
    "hw7_sol (19).ipynb\n",
    "    \n",
    "</div>"
   ]
  },
  {
   "cell_type": "code",
   "execution_count": null,
   "id": "5c21cbf8",
   "metadata": {},
   "outputs": [
    {
     "name": "stdout",
     "output_type": "stream",
     "text": [
      "-----\n",
      "Document 1 Topic Assignment: Topic 6\n",
      "\n",
      "You know, I was reading 18 U.S.C. 922 and something just did not make \n",
      "sence and I was wondering if someone could help me out.\n",
      "\n",
      "Say U.S.C. 922 :\n",
      "\n",
      "(1) Except as provided in paragraph (2), it shall be unlawful for\n",
      "any person to transfer or possess a machinegun.\n",
      "\n",
      " Well I got to looking in my law dictionary and I found that a \"person\" \n",
      "might also be an artificial entity that is created by government \n",
      "and has no rights under the federal constitution. So, what I \n",
      "don't understand is how a statute like 922 can be enforced on \n",
      "an individual. So someone tell me how my government can tell\n",
      "me what I can or cannot possess. Just passing a law \n",
      "does not make it LAW. Everyone knows that laws are constitional\n",
      "until it goes to court. So, has it ever gone to court, not\n",
      "just your run of the mill \"Ok I had it I am guilty, put me in jail\"\n",
      "\n",
      "Has anyone ever claimed that they had a right to possess and was told\n",
      "by the Supreme Court that they didn't have that right?\n",
      "\n",
      "\n",
      "\n",
      "-----\n",
      "Document 2 Topic Assignment: Topic 4\n",
      "\n",
      "\n",
      "\n",
      "\n",
      "It's not a bad question: I don't have any refs that list this algorithm\n",
      "either. But thinking about it a bit, it shouldn't be too hard.\n",
      "\n",
      "1) Take three of the points and find the plane they define as well as\n",
      "the circle that they lie on (you say you have this algorithm already)\n",
      "\n",
      "2) Find the center  of this circle. The line passing through this center\n",
      "perpendicular to the plane of the three points passes through the center of\n",
      "the sphere.\n",
      "\n",
      "3) Repeat with the unused point and two of the original points. This\n",
      "gives you two different lines that both pass through the sphere's\n",
      "origin. Their interection is the center of the sphere.\n",
      "\n",
      "4) the radius is easy to compute, it's just the distance from the center to\n",
      "any of the original points.\n",
      "\n",
      "I'll leave the math to you, but this is a workable algorithm. :-)\n",
      "\n",
      "\n",
      "An alternate method would be to take pairs of points: the plane formed\n",
      "by the perpendicular bisector of each line segment pair also contains the\n",
      "center of the sphere. Three pairs will form three planes, intersecting\n",
      "at a point. This might be easier to implement.\n",
      "-----\n",
      "Document 3 Topic Assignment: Topic 0\n",
      "\n",
      "\n",
      "Actuallay I don't, but on the other hand I don't support the idea of having\n",
      "one newsgroup for every aspect of graphics programming as proposed by Brian,\n",
      "in his reply to my original posting.\n",
      "I would suggest a looser structure more like a comp.graphics.programmer,\n",
      "comp.graphics.hw_and_sw\n",
      "The reason for making as few groups as possible is for the same reason you\n",
      "say we shouldn't spilt up, not to get to few postings every day.\n",
      "I takes to much time to browse through all postings just to find two or \n",
      "three I'm interested in.\n",
      "\n",
      "I understand and agree when you say you want all aspects of graphics in one\n",
      "meeting. I agree to some extension. I see news as a forum to exchange ideas,\n",
      "help others or to be helped. I think this is difficult to achive if there\n",
      "are so many different things in one meeting.\n",
      "\n",
      "Good evening netters|-)\n",
      "-----\n",
      "Document 4 Topic Assignment: Topic 4\n",
      "\n",
      "The following problem is really bugging me,\n",
      "and I would appreciate any help.\n",
      "\n",
      "I create two windows:\n",
      "\n",
      "w1 (child to root) with event_mask = ButtonPressMask|KeyPressMask;\n",
      "w2 (child to w1) with do_not_propagate_mask = ButtonPressMask|KeyPressMask;\n",
      "\n",
      "\n",
      "Keypress events in w2 are discarded, but ButtonPress events fall through\n",
      "to w1, with subwindow set to w2.\n",
      "\n",
      "FYI, I'm using xnews/olvwm.\n",
      "\n",
      "Am I doing something fundamentally wrong here?\n",
      "-----\n",
      "Document 5 Topic Assignment: Topic 1\n",
      "\n",
      "\n",
      "\n",
      "  This is the latest from UPI \n",
      "\n",
      "     Foreign Ministry spokesman Ferhat Ataman told journalists Turkey was\n",
      "     closing its air space to all flights to and from Armenia and would\n",
      "     prevent humanitarian aid from reaching the republic overland across\n",
      "     Turkish territory.\n",
      "\n",
      "  \n",
      "   Historically even the most uncivilized of peoples have exhibited \n",
      "   signs of compassion by allowing humanitarian aid to reach civilian\n",
      "   populations. Even the Nazis did this much.\n",
      "\n",
      "   It seems as though from now on Turkey will publicly pronounce \n",
      "   themselves 'hypocrites' should they choose to continue their\n",
      "   condemnation of the Serbians.\n",
      "\n",
      "\n",
      "\n",
      "--\n"
     ]
    }
   ],
   "source": [
    "document_topics = lda.transform(X)\n",
    "\n",
    "for i in range(5):\n",
    "    print(\"-----\")\n",
    "    dominant_topic_index = np.argmax(document_topics[i])\n",
    "    print(f\"Document {i+1} Topic Assignment: Topic {dominant_topic_index}\")\n",
    "    print()\n",
    "    print(df[\"text\"].iloc[i])\n",
    "    "
   ]
  },
  {
   "cell_type": "markdown",
   "id": "2a5ab489",
   "metadata": {},
   "source": [
    "Generally, our documents seem to be under the correct topics. Document 3's assignment to Topic 0 is a bit strange, since Topic 0 seems to revolve around religion. However, Document 3's content is a bit more abstract and does not seem to contain much talk of graphics anyways, so this is understandable. The other 4 documents seem to be under appropriate topics.   "
   ]
  },
  {
   "cell_type": "markdown",
   "id": "e01c4450",
   "metadata": {},
   "source": [
    "<!-- END QUESTION -->\n",
    "\n",
    "<br><br><br><br>"
   ]
  },
  {
   "cell_type": "markdown",
   "id": "544de551",
   "metadata": {},
   "source": [
    "<div class=\"alert alert-warning\">\n",
    "\n",
    "hw7_sol (15).ipynb\n",
    "    \n",
    "</div>"
   ]
  },
  {
   "cell_type": "code",
   "execution_count": null,
   "id": "357dcfdd",
   "metadata": {},
   "outputs": [
    {
     "name": "stdout",
     "output_type": "stream",
     "text": [
      "[0.91792255 0.0048727  0.07251588 0.00468886] [0.00368813 0.98887899 0.00376892 0.00366397] [0.00502992 0.00530702 0.83905815 0.15060491] [0.00928782 0.9717597  0.00996268 0.0089898 ] [0.98160245 0.00609432 0.00623438 0.00606885]\n"
     ]
    }
   ],
   "source": [
    "print(document_topics[0], document_topics[1], document_topics[2], \n",
    "      document_topics[3], document_topics[4])"
   ]
  },
  {
   "cell_type": "markdown",
   "id": "5b2aa811",
   "metadata": {},
   "source": [
    "<!-- END QUESTION -->\n",
    "\n",
    "<br><br><br><br>"
   ]
  },
  {
   "cell_type": "markdown",
   "id": "d9c54938",
   "metadata": {},
   "source": [
    "<div class=\"alert alert-warning\">\n",
    "\n",
    "hw7_sol (23).ipynb\n",
    "    \n",
    "</div>"
   ]
  },
  {
   "cell_type": "code",
   "execution_count": null,
   "id": "0749680f",
   "metadata": {},
   "outputs": [
    {
     "name": "stdout",
     "output_type": "stream",
     "text": [
      "Document 0 Topic Distribution: [0.0049736  0.00508882 0.98494165 0.00499593]\n",
      "Document 1 Topic Distribution: [0.20989649 0.24565277 0.00362345 0.54082728]\n",
      "Document 2 Topic Distribution: [0.00514927 0.66194901 0.0720806  0.26082112]\n",
      "Document 3 Topic Distribution: [0.01164391 0.01233411 0.09765885 0.87836313]\n",
      "Document 4 Topic Distribution: [0.00804408 0.00814161 0.97574605 0.00806826]\n"
     ]
    }
   ],
   "source": [
    "document_topics = lda_model.transform(X)\n",
    "\n",
    "for doc_idx, topic_dist in enumerate(document_topics[:5]):\n",
    "    print(f\"Document {doc_idx} Topic Distribution: {topic_dist}\")"
   ]
  },
  {
   "cell_type": "markdown",
   "id": "907c32ea",
   "metadata": {},
   "source": [
    "Document 0: This document relates to the second topic (politics) very heavily\n",
    "\n",
    "Document 1: Most likely related to topic 3 the most (Computing and Technology), however, it has a relatively weak probability for this categorization\n",
    "\n",
    "Document 2: This document relates to the first topic (philosophy and religion). It's probability is relatively weak compared to other documents but still higher than document 1\n",
    "\n",
    "Document 3: Related to topic 3 (computing and technology) very heavily\n",
    "\n",
    "Document 4: This document relates to the second topic (politics) very heavily"
   ]
  },
  {
   "cell_type": "markdown",
   "id": "df3ffa8d",
   "metadata": {},
   "source": [
    "<!-- END QUESTION -->\n",
    "\n",
    "<br><br><br><br>"
   ]
  },
  {
   "cell_type": "markdown",
   "id": "32653670",
   "metadata": {},
   "source": [
    "<div class=\"alert alert-warning\">\n",
    "\n",
    "hw7_sol (40).ipynb\n",
    "    \n",
    "</div>"
   ]
  },
  {
   "cell_type": "markdown",
   "id": "35c18313",
   "metadata": {},
   "source": [
    "citation: code from/reference to cpsc 330 lecture 17"
   ]
  },
  {
   "cell_type": "code",
   "execution_count": null,
   "id": "cb1896a6",
   "metadata": {},
   "outputs": [
    {
     "name": "stdout",
     "output_type": "stream",
     "text": [
      "[[0.00466079 0.79523864 0.00471635 0.19538421]\n",
      " [0.46949436 0.29534213 0.0037875  0.231376  ]\n",
      " [0.00479165 0.00483106 0.17724669 0.81313059]\n",
      " [0.00893626 0.35154545 0.29518598 0.34433231]\n",
      " [0.00589146 0.1444478  0.00593581 0.84372494]]\n",
      "0    know read u.s.c. 922 sence wonder help u.s.c. ...\n",
      "1    bad question ref list algorithm think bit hard...\n",
      "2    actuallay hand support idea have newsgroup asp...\n",
      "3    follow problem bug appreciate help create wind...\n",
      "4    late upi foreign ministry spokesman ferhat ata...\n",
      "Name: text_pp, dtype: object\n"
     ]
    }
   ],
   "source": [
    "print(document_topics[0:5])\n",
    "print(df[\"text_pp\"][0:5])"
   ]
  },
  {
   "cell_type": "markdown",
   "id": "17dbbf4e",
   "metadata": {},
   "source": [
    "The document topic assignments vary for the topic groups. Seems like our fourth topic is more ambiguous. "
   ]
  },
  {
   "cell_type": "markdown",
   "id": "365daa6b",
   "metadata": {},
   "source": [
    "<div class=\"alert alert-warning\">\n",
    "\n",
    "hw7_sol (31).ipynb\n",
    "    \n",
    "</div>"
   ]
  },
  {
   "cell_type": "code",
   "execution_count": null,
   "id": "3053b5d7",
   "metadata": {},
   "outputs": [
    {
     "name": "stdout",
     "output_type": "stream",
     "text": [
      "Document 1\n",
      "[0.00181855 0.00181864 0.00181854 0.70069978 0.00181836 0.28475231\n",
      " 0.00181836 0.00181852 0.00181824 0.0018187 ]\n",
      "Document 2\n",
      "[0.00140885 0.00140867 0.00140875 0.00140886 0.46708967 0.00140857\n",
      " 0.00140868 0.40253992 0.00140881 0.12050923]\n",
      "Document 3\n",
      "[0.27706948 0.00178616 0.00178608 0.00178622 0.00178587 0.0017858\n",
      " 0.00178593 0.001786   0.00178602 0.70864244]\n",
      "Document 4\n",
      "[0.00333409 0.00333394 0.62183542 0.00333422 0.0033337  0.00333347\n",
      " 0.0033334  0.00333356 0.00333357 0.35149464]\n",
      "Document 5\n",
      "[0.03495029 0.0022228  0.00222252 0.66844391 0.00222239 0.10681574\n",
      " 0.0022224  0.00222284 0.17645441 0.00222269]\n"
     ]
    }
   ],
   "source": [
    "document_topics = lda_model.transform(X)\n",
    "\n",
    "for i in range(5):\n",
    "    print(\"Document \" + str(i + 1))\n",
    "    print(document_topics[i])"
   ]
  },
  {
   "cell_type": "markdown",
   "id": "15408945",
   "metadata": {},
   "source": [
    "It seems that document 1 is most likely to belong in topic 4, document 2 in either topic 5 or 8, document 3 in topic 10, document 4 in topic 3, and document 5 in topic 4"
   ]
  },
  {
   "cell_type": "markdown",
   "id": "2925bf75",
   "metadata": {},
   "source": [
    "<!-- END QUESTION -->\n",
    "\n",
    "<br><br><br><br>"
   ]
  },
  {
   "cell_type": "markdown",
   "id": "94ca427a",
   "metadata": {},
   "source": [
    "<div class=\"alert alert-warning\">\n",
    "\n",
    "hw7_sol (1).ipynb\n",
    "    \n",
    "</div>"
   ]
  },
  {
   "cell_type": "code",
   "execution_count": null,
   "id": "0c38065c",
   "metadata": {},
   "outputs": [
    {
     "data": {
      "text/html": [
       "<div>\n",
       "<style scoped>\n",
       "    .dataframe tbody tr th:only-of-type {\n",
       "        vertical-align: middle;\n",
       "    }\n",
       "\n",
       "    .dataframe tbody tr th {\n",
       "        vertical-align: top;\n",
       "    }\n",
       "\n",
       "    .dataframe thead th {\n",
       "        text-align: right;\n",
       "    }\n",
       "</style>\n",
       "<table border=\"1\" class=\"dataframe\">\n",
       "  <thead>\n",
       "    <tr style=\"text-align: right;\">\n",
       "      <th></th>\n",
       "      <th>text</th>\n",
       "      <th>target</th>\n",
       "      <th>target_name</th>\n",
       "      <th>text_pp</th>\n",
       "      <th>topic_assignment</th>\n",
       "    </tr>\n",
       "  </thead>\n",
       "  <tbody>\n",
       "    <tr>\n",
       "      <th>0</th>\n",
       "      <td>You know, I was reading 18 U.S.C. 922 and some...</td>\n",
       "      <td>6</td>\n",
       "      <td>talk.politics.guns</td>\n",
       "      <td>know read u.s.c. sence wonder help u.s.c. prov...</td>\n",
       "      <td>Religion and Politics</td>\n",
       "    </tr>\n",
       "    <tr>\n",
       "      <th>1</th>\n",
       "      <td>\\n\\n\\nIt's not a bad question: I don't have an...</td>\n",
       "      <td>1</td>\n",
       "      <td>comp.graphics</td>\n",
       "      <td>bad question ref list algorithm think bit hard...</td>\n",
       "      <td>Computers</td>\n",
       "    </tr>\n",
       "    <tr>\n",
       "      <th>2</th>\n",
       "      <td>\\nActuallay I don't, but on the other hand I d...</td>\n",
       "      <td>1</td>\n",
       "      <td>comp.graphics</td>\n",
       "      <td>actuallay hand support idea have newsgroup asp...</td>\n",
       "      <td>Computers</td>\n",
       "    </tr>\n",
       "    <tr>\n",
       "      <th>3</th>\n",
       "      <td>The following problem is really bugging me,\\na...</td>\n",
       "      <td>2</td>\n",
       "      <td>comp.windows.x</td>\n",
       "      <td>follow problem bug appreciate help create wind...</td>\n",
       "      <td>Computers</td>\n",
       "    </tr>\n",
       "    <tr>\n",
       "      <th>4</th>\n",
       "      <td>\\n\\n  This is the latest from UPI \\n\\n     For...</td>\n",
       "      <td>7</td>\n",
       "      <td>talk.politics.mideast</td>\n",
       "      <td>late upi foreign ministry spokesman ferhat ata...</td>\n",
       "      <td>World News</td>\n",
       "    </tr>\n",
       "  </tbody>\n",
       "</table>\n",
       "</div>"
      ],
      "text/plain": [
       "                                                text  target  \\\n",
       "0  You know, I was reading 18 U.S.C. 922 and some...       6   \n",
       "1  \\n\\n\\nIt's not a bad question: I don't have an...       1   \n",
       "2  \\nActuallay I don't, but on the other hand I d...       1   \n",
       "3  The following problem is really bugging me,\\na...       2   \n",
       "4  \\n\\n  This is the latest from UPI \\n\\n     For...       7   \n",
       "\n",
       "             target_name                                            text_pp  \\\n",
       "0     talk.politics.guns  know read u.s.c. sence wonder help u.s.c. prov...   \n",
       "1          comp.graphics  bad question ref list algorithm think bit hard...   \n",
       "2          comp.graphics  actuallay hand support idea have newsgroup asp...   \n",
       "3         comp.windows.x  follow problem bug appreciate help create wind...   \n",
       "4  talk.politics.mideast  late upi foreign ministry spokesman ferhat ata...   \n",
       "\n",
       "        topic_assignment  \n",
       "0  Religion and Politics  \n",
       "1              Computers  \n",
       "2              Computers  \n",
       "3              Computers  \n",
       "4             World News  "
      ]
     },
     "execution_count": 39,
     "metadata": {},
     "output_type": "execute_result"
    }
   ],
   "source": [
    "topic_assignment = [topics[key] for key in dominant_topic]\n",
    "\n",
    "final_df = pd.concat([df, pd.DataFrame(topic_assignment, columns=[\"topic_assignment\"])], axis=1)\n",
    "\n",
    "final_df.head()"
   ]
  },
  {
   "cell_type": "markdown",
   "id": "76e97e60",
   "metadata": {},
   "source": [
    "2. The document assignment has seemed to work okay. It has grouped the comp.graphics and comp.windows.x targets into the computers topic. The relgion and politics topic as well as the world news topics also seem appropriate for df[0] and df[4]. This is quite similar to what I have predicted and the topic assignments seem to pair quite well with the original and preprocessed texts."
   ]
  },
  {
   "cell_type": "markdown",
   "id": "8dba9e54",
   "metadata": {},
   "source": [
    "<!-- END QUESTION -->\n",
    "\n",
    "<br><br><br><br>"
   ]
  },
  {
   "cell_type": "markdown",
   "id": "10348fcf",
   "metadata": {},
   "source": [
    "<div class=\"alert alert-warning\">\n",
    "\n",
    "hw7_sol (35).ipynb\n",
    "    \n",
    "</div>"
   ]
  },
  {
   "cell_type": "code",
   "execution_count": null,
   "id": "24e82285",
   "metadata": {},
   "outputs": [
    {
     "name": "stdout",
     "output_type": "stream",
     "text": [
      "the topic association for know read 18 U.S.C. 922 \n",
      " sence wonder help \n",
      "\n",
      " U.S.C. 922 \n",
      "\n",
      " 1 provide paragraph 2 shall unlawful \n",
      " person transfer possess machinegun \n",
      "\n",
      "  get look law dictionary find person \n",
      " artificial entity create government \n",
      " right federal constitution \n",
      " understand statute like 922 enforce \n",
      " individual tell government tell \n",
      " possess pass law \n",
      " law know law constitional \n",
      " go court go court \n",
      " run mill ok guilty jail \n",
      "\n",
      " claim right possess tell \n",
      " Supreme Court right \n",
      "\n",
      "\n",
      " is [0.26226783 0.61223871 0.11452105 0.00219616 0.00219299 0.00219299\n",
      " 0.00219686 0.00219343]\n",
      "the topic association for \n",
      "\n",
      "\n",
      " bad question ref list algorithm \n",
      " think bit hard \n",
      "\n",
      " 1 point find plane define \n",
      " circle lie algorithm \n",
      "\n",
      " 2 find center   circle line pass center \n",
      " perpendicular plane point pass center \n",
      " sphere \n",
      "\n",
      " 3 repeat unused point original point \n",
      " give different line pass sphere \n",
      " origin interection center sphere \n",
      "\n",
      " 4 radius easy compute distance center \n",
      " original point \n",
      "\n",
      " leave math workable algorithm \n",
      "\n",
      "\n",
      " alternate method pair point plane form \n",
      " perpendicular bisector line segment pair contain \n",
      " center sphere pair form plane intersect \n",
      " point easy implement is [0.25379757 0.00176323 0.73562495 0.00176069 0.00176219 0.00176056\n",
      " 0.00176555 0.00176526]\n",
      "the topic association for \n",
      " Actuallay hand support idea have \n",
      " newsgroup aspect graphic programming propose Brian \n",
      " reply original posting \n",
      " suggest loose structure like \n",
      " comp.graphics.hw_and_sw \n",
      " reason make group possible reason \n",
      " spilt posting day \n",
      " take time browse posting find \n",
      " interested \n",
      "\n",
      " understand agree want aspect graphic \n",
      " meeting agree extension news forum exchange idea \n",
      " help help think difficult achive \n",
      " different thing meeting \n",
      "\n",
      " good evening netters|- is [0.73248206 0.00223483 0.25411607 0.00223286 0.00223322 0.00223214\n",
      " 0.00223591 0.0022329 ]\n",
      "the topic association for follow problem bug \n",
      " appreciate help \n",
      "\n",
      " create window \n",
      "\n",
      " w1 child root event_mask = ButtonPressMask|KeyPressMask \n",
      " w2 child w1 do_not_propagate_mask = ButtonPressMask|KeyPressMask \n",
      "\n",
      "\n",
      " Keypress event w2 discard ButtonPress event fall \n",
      " w1 subwindow set w2 \n",
      "\n",
      " FYI xnew olvwm \n",
      "\n",
      " fundamentally wrong is [0.0034757  0.00347738 0.48392602 0.00347222 0.00347223 0.17024118\n",
      " 0.20959308 0.12234218]\n",
      "the topic association for \n",
      "\n",
      "   late UPI \n",
      "\n",
      "      Foreign Ministry spokesman Ferhat Ataman tell journalist Turkey \n",
      "      close air space flight Armenia \n",
      "      prevent humanitarian aid reach republic overland \n",
      "      turkish territory \n",
      "\n",
      "  \n",
      "    historically uncivilized people exhibit \n",
      "    sign compassion allow humanitarian aid reach civilian \n",
      "    population Nazis \n",
      "\n",
      "    Turkey publicly pronounce \n",
      "    hypocrite choose continue \n",
      "    condemnation Serbians \n",
      "\n",
      "\n",
      "\n",
      " is [0.00278007 0.98054683 0.00277976 0.00277778 0.00277778 0.00277778\n",
      " 0.00278116 0.00277885]\n"
     ]
    }
   ],
   "source": [
    "for i in range(0, 5):\n",
    "    print(f\"the topic association for {df['text_pp'][i]} is {topics[i]}\")"
   ]
  },
  {
   "cell_type": "markdown",
   "id": "66340be3",
   "metadata": {},
   "source": [
    "The topic assignment is not perfect as there is some overlap between some topics and there are some words that could be considered as two different topics. The vaguer categories have random words that could be included in any other category, which suggests that the topic association isn't great. "
   ]
  },
  {
   "cell_type": "markdown",
   "id": "9405263c",
   "metadata": {},
   "source": [
    "<!-- END QUESTION -->\n",
    "\n",
    "<br><br><br><br>"
   ]
  },
  {
   "cell_type": "markdown",
   "id": "4c85d38e",
   "metadata": {},
   "source": [
    "<div class=\"alert alert-warning\">\n",
    "\n",
    "hw7_sol (48).ipynb\n",
    "    \n",
    "</div>"
   ]
  },
  {
   "cell_type": "code",
   "execution_count": null,
   "id": "90b40a62",
   "metadata": {},
   "outputs": [
    {
     "name": "stdout",
     "output_type": "stream",
     "text": [
      "DOCUMENT 0: \n",
      "You know, I was reading 18 U.S.C. 922 and something just did not make \n",
      "sence and I was wondering if someone could help me out.\n",
      "\n",
      "Say U.S.C. 922 :\n",
      "\n",
      "(1) Except as provided in paragraph (2), it shall be unlawful for\n",
      "any person to transfer or possess a machinegun.\n",
      "\n",
      " Well I got to looking in my law dictionary and I found that a \"person\" \n",
      "might also be an artificial entity that is created by government \n",
      "and has no rights under the federal constitution. So, what I \n",
      "don't understand is how a statute like 922 can be enforced on \n",
      "an individual. So someone tell me how my government can tell\n",
      "me what I can or cannot possess. Just passing a law \n",
      "does not make it LAW. Everyone knows that laws are constitional\n",
      "until it goes to court. So, has it ever gone to court, not\n",
      "just your run of the mill \"Ok I had it I am guilty, put me in jail\"\n",
      "\n",
      "Has anyone ever claimed that they had a right to possess and was told\n",
      "by the Supreme Court that they didn't have that right?\n",
      "\n",
      "\n",
      "\n",
      "It has topics [0.77106703 0.21809467 0.00363359 0.00361824 0.00358646]\n",
      "\n",
      "DOCUMENT 1: \n",
      "\n",
      "\n",
      "\n",
      "It's not a bad question: I don't have any refs that list this algorithm\n",
      "either. But thinking about it a bit, it shouldn't be too hard.\n",
      "\n",
      "1) Take three of the points and find the plane they define as well as\n",
      "the circle that they lie on (you say you have this algorithm already)\n",
      "\n",
      "2) Find the center  of this circle. The line passing through this center\n",
      "perpendicular to the plane of the three points passes through the center of\n",
      "the sphere.\n",
      "\n",
      "3) Repeat with the unused point and two of the original points. This\n",
      "gives you two different lines that both pass through the sphere's\n",
      "origin. Their interection is the center of the sphere.\n",
      "\n",
      "4) the radius is easy to compute, it's just the distance from the center to\n",
      "any of the original points.\n",
      "\n",
      "I'll leave the math to you, but this is a workable algorithm. :-)\n",
      "\n",
      "\n",
      "An alternate method would be to take pairs of points: the plane formed\n",
      "by the perpendicular bisector of each line segment pair also contains the\n",
      "center of the sphere. Three pairs will form three planes, intersecting\n",
      "at a point. This might be easier to implement.\n",
      "It has topics [0.00286233 0.00288516 0.98853056 0.00285853 0.00286342]\n",
      "\n",
      "DOCUMENT 2: \n",
      "\n",
      "Actuallay I don't, but on the other hand I don't support the idea of having\n",
      "one newsgroup for every aspect of graphics programming as proposed by Brian,\n",
      "in his reply to my original posting.\n",
      "I would suggest a looser structure more like a comp.graphics.programmer,\n",
      "comp.graphics.hw_and_sw\n",
      "The reason for making as few groups as possible is for the same reason you\n",
      "say we shouldn't spilt up, not to get to few postings every day.\n",
      "I takes to much time to browse through all postings just to find two or \n",
      "three I'm interested in.\n",
      "\n",
      "I understand and agree when you say you want all aspects of graphics in one\n",
      "meeting. I agree to some extension. I see news as a forum to exchange ideas,\n",
      "help others or to be helped. I think this is difficult to achive if there\n",
      "are so many different things in one meeting.\n",
      "\n",
      "Good evening netters|-)\n",
      "It has topics [0.00391049 0.60824983 0.38005069 0.00390512 0.00388388]\n",
      "\n",
      "DOCUMENT 3: \n",
      "The following problem is really bugging me,\n",
      "and I would appreciate any help.\n",
      "\n",
      "I create two windows:\n",
      "\n",
      "w1 (child to root) with event_mask = ButtonPressMask|KeyPressMask;\n",
      "w2 (child to w1) with do_not_propagate_mask = ButtonPressMask|KeyPressMask;\n",
      "\n",
      "\n",
      "Keypress events in w2 are discarded, but ButtonPress events fall through\n",
      "to w1, with subwindow set to w2.\n",
      "\n",
      "FYI, I'm using xnews/olvwm.\n",
      "\n",
      "Am I doing something fundamentally wrong here?\n",
      "It has topics [0.00751348 0.19387245 0.0075115  0.58021637 0.2108862 ]\n",
      "\n",
      "DOCUMENT 4: \n",
      "\n",
      "\n",
      "  This is the latest from UPI \n",
      "\n",
      "     Foreign Ministry spokesman Ferhat Ataman told journalists Turkey was\n",
      "     closing its air space to all flights to and from Armenia and would\n",
      "     prevent humanitarian aid from reaching the republic overland across\n",
      "     Turkish territory.\n",
      "\n",
      "  \n",
      "   Historically even the most uncivilized of peoples have exhibited \n",
      "   signs of compassion by allowing humanitarian aid to reach civilian\n",
      "   populations. Even the Nazis did this much.\n",
      "\n",
      "   It seems as though from now on Turkey will publicly pronounce \n",
      "   themselves 'hypocrites' should they choose to continue their\n",
      "   condemnation of the Serbians.\n",
      "\n",
      "\n",
      "\n",
      "--\n",
      "It has topics [0.98107482 0.00477186 0.00474417 0.00472617 0.00468297]\n",
      "\n"
     ]
    }
   ],
   "source": [
    "for i in range(5):\n",
    "    print(f\"DOCUMENT {i}: \")\n",
    "    print(df.iloc[i][\"text\"])\n",
    "    print(f\"It has topics {document_topics[i]}\\n\")"
   ]
  },
  {
   "cell_type": "markdown",
   "id": "a2cb9e6f",
   "metadata": {},
   "source": [
    "2. \n",
    "\n",
    "Document 0 is said to be most related to topic 0, which we said is war. it lines up\n",
    "\n",
    "Document 1 is said to be most related to topic 2, which we said is computer basics. it lines up\n",
    "\n",
    "Document 2 is said to be related to topic 1 and topic 2, which we said is Faith and computer basics. it lines up more with computer basics\n",
    "\n",
    "Document 3 is said to be most related to topic 3, which we said is Software. it lines up\n",
    "\n",
    "Document 4 is said to be most related to topic 0, which we said is war. it lines up\n",
    "\n"
   ]
  },
  {
   "cell_type": "markdown",
   "id": "268046b7",
   "metadata": {},
   "source": [
    "<!-- END QUESTION -->\n",
    "\n",
    "<br><br><br><br>"
   ]
  },
  {
   "cell_type": "markdown",
   "id": "e8e7463e",
   "metadata": {},
   "source": [
    "<div class=\"alert alert-warning\">\n",
    "\n",
    "hw7_sol (27).ipynb\n",
    "    \n",
    "</div>"
   ]
  },
  {
   "cell_type": "code",
   "execution_count": null,
   "id": "c347c568",
   "metadata": {},
   "outputs": [
    {
     "name": "stdout",
     "output_type": "stream",
     "text": [
      "Text 1: [0.0060457  0.83948688 0.15446742]\n",
      "Text 2: [0.00526126 0.00538506 0.98935368]\n",
      "Text 3: [0.00609212 0.00615734 0.98775054]\n",
      "Text 4: [0.97698119 0.01229339 0.01072542]\n",
      "Text 5: [0.00822215 0.98331115 0.0084667 ]\n",
      "0    You know I was reading 18 U.S.C. 922 and somet...\n",
      "1    It's not a bad question I don't have any refs ...\n",
      "2    Actuallay I don't but on the other hand I don'...\n",
      "3    The following problem is really bugging meand ...\n",
      "4      This is the latest from UPI      Foreign Min...\n",
      "Name: text, dtype: object\n",
      "computers, sports, religion\n"
     ]
    }
   ],
   "source": [
    "for i in range(5):\n",
    "    print(f\"Text {i + 1}: {topics[i]}\")\n",
    "\n",
    "print(df[\"text\"].iloc[:5])\n",
    "\n",
    "print(topic_names)\n"
   ]
  },
  {
   "cell_type": "markdown",
   "id": "be3dc603",
   "metadata": {},
   "source": [
    "Text 1 was assigned to religion. \n",
    "Text 2 was assigned to computers. \n",
    "Text 3 was assigned to computers. \n",
    "Text 4 was assigned to computers. \n",
    "Text 5 was assigned to religion. \n"
   ]
  },
  {
   "cell_type": "markdown",
   "id": "01775adb",
   "metadata": {},
   "source": [
    "<!-- END QUESTION -->\n",
    "\n",
    "<br><br><br><br>"
   ]
  },
  {
   "cell_type": "markdown",
   "id": "66097015",
   "metadata": {},
   "source": [
    "<div class=\"alert alert-warning\">\n",
    "\n",
    "hw7_sol (39).ipynb\n",
    "    \n",
    "</div>"
   ]
  },
  {
   "cell_type": "code",
   "execution_count": null,
   "id": "51f4734d",
   "metadata": {},
   "outputs": [],
   "source": [
    "doc_vect = vect.transform(df['text_pp'])\n",
    "topic_dist = lda.transform(doc_vect)"
   ]
  },
  {
   "cell_type": "code",
   "execution_count": null,
   "id": "c89c7928",
   "metadata": {},
   "outputs": [],
   "source": [
    "for i in range(5):\n",
    "    text = df.iloc[i]['text']\n",
    "    i=i+1\n",
    "    print(\"Document\", i)\n",
    "    print(text)\n",
    "\n",
    "    print(\"Topic Distribution\")\n",
    "    for j, prob in enumerate(topic_dist[i]):\n",
    "        print(f\"~{prob * 100:.2f}% topic {j}\")\n",
    "    print()"
   ]
  },
  {
   "cell_type": "markdown",
   "id": "9869cdd4",
   "metadata": {},
   "source": [
    "_Document 1 is most associated with topics 5 and 8 with less contributions of topic 4. Document 2 is most associated with topic 1 and some contributions of topic 8. Document 3 is most associated with topics 4 and 8 and some contributions of topic 7. Document 4 is only mainly associated with topic 4. Document 5 is most associated with topic 8 and some contributions of topics 1 and 7.  "
   ]
  },
  {
   "cell_type": "markdown",
   "id": "372203a2",
   "metadata": {},
   "source": [
    "<!-- END QUESTION -->\n",
    "\n",
    "<br><br><br><br>"
   ]
  },
  {
   "cell_type": "markdown",
   "id": "4b950fc1",
   "metadata": {},
   "source": [
    "<div class=\"alert alert-warning\">\n",
    "\n",
    "hw7_sol (44).ipynb\n",
    "    \n",
    "</div>"
   ]
  },
  {
   "cell_type": "code",
   "execution_count": null,
   "id": "8b10e0a2",
   "metadata": {},
   "outputs": [
    {
     "name": "stdout",
     "output_type": "stream",
     "text": [
      "Document 0 Topic distribution: [0.13646702 0.46711131 0.00265059 0.38581842 0.0026508  0.00265383\n",
      " 0.00264804]\n",
      "know read u.s.c. 922 sence wonder help u.s.c. 922 provide paragraph shall unlawful person transfer possess machinegun get look law dictionary find person artificial entity create government right federal constitution understand statute 922 enforce individual tell government tell possess pass law law know law constitional go court go court run mill guilty jail claim right possess tell supreme court right\n",
      "\n",
      "Document 1 Topic distribution: [0.00201471 0.00201766 0.00201511 0.98790013 0.00201929 0.00201613\n",
      " 0.00201697]\n",
      "bad question ref list algorithm think bit hard point find plane define circle lie algorithm find center circle line pass center perpendicular plane point pass center sphere repeat unused point original point give different line pass sphere origin interection center sphere radius easy compute distance center original point leave math workable algorithm alternate method pair point plane form perpendicular bisector line segment pair contain center sphere pair form plane intersect point easy implement\n",
      "\n",
      "Document 2 Topic distribution: [0.0027493  0.30803689 0.00275238 0.53763222 0.14332366 0.00275185\n",
      " 0.00275371]\n",
      "actuallay hand support idea have newsgroup aspect graphic programming propose brian reply original posting suggest loose structure reason make group possible reason spilt posting day take time browse posting find interested understand agree want aspect graphic meeting agree extension news forum exchange idea help help think difficult achive different thing meeting good evening netter\n",
      "\n",
      "Document 3 Topic distribution: [0.15149818 0.00494263 0.0049366  0.00495603 0.47107632 0.35765998\n",
      " 0.00493025]\n",
      "follow problem bug appreciate help create window child root event_mask buttonpressmask|keypressmask child do_not_propagate_mask buttonpressmask|keypressmask keypress event discard buttonpress event fall subwindow set fyi xnew olvwm wrong\n",
      "\n",
      "Document 4 Topic distribution: [0.00332487 0.00333917 0.00335736 0.00335298 0.1738728  0.80942674\n",
      " 0.00332609]\n",
      "late upi foreign ministry spokesman ferhat ataman tell journalist turkey close air space flight armenia prevent humanitarian aid reach republic overland turkish territory uncivilized people exhibit sign compassion allow humanitarian aid reach civilian population nazis turkey pronounce hypocrite choose continue condemnation serbians\n",
      "\n"
     ]
    }
   ],
   "source": [
    "doc_topic_distributions = lda.transform(X)\n",
    "\n",
    "first_five_docs = doc_topic_distributions[:5]\n",
    "\n",
    "# chatgpt 4.0 for for loop\n",
    "for i in range(5):\n",
    "    distribution = first_five_docs[i]\n",
    "    print(f\"Document {i} Topic distribution: {distribution}\")\n",
    "    print(f\"{df.loc[i, 'text_pp']}\\n\")"
   ]
  },
  {
   "cell_type": "markdown",
   "id": "79c959d0",
   "metadata": {},
   "source": [
    "Given the topics:\n",
    "- Topic 0: Firearms\n",
    "- Topic 1: General Discussion\n",
    "- Topic 2: Religion\n",
    "- Topic 3: Atheism/Questioning\n",
    "- Topic 4: Computer Science\n",
    "- Topic 5: Middle Eastern Discussion\n",
    "- Topic 6: Sports\n",
    "\n",
    "\n",
    "**Document 0:**\n",
    "Topic distribution: [0.13646702 0.46711131 0.00265059 0.38581842 0.0026508  0.00265383  0.00264804] \n",
    "\n",
    "The topic distribution mainly concerns 14% Firearms, 47% General Discussion and 38% Questioning words. This seems pretty representative under a BoW interpretation as the word distribution seems to follow a similar magnitude.\n",
    "\n",
    "\n",
    "**Document 1:**\n",
    "Topic distribution: [0.00201471 0.00201766 0.00201511 0.98790013 0.00201929 0.00201613 0.00201697]\n",
    "\n",
    "The topic distribution mainly concerns 98% Computer Science. This seems pretty representative given its content.\n",
    "\n",
    "\n",
    "**Document 2:**\n",
    "Topic distribution: [0.0027493  0.30803689 0.00275238 0.53763222 0.14332366 0.00275185 0.00275371]\n",
    "\n",
    "The topic distribution mainly concerns 30% General Discussion, 53% Questioning Language, and 14% Computer Science. This seems pretty representative given its content as it seems like an email discussion.\n",
    "\n",
    "\n",
    "**Document 3:**\n",
    "Topic distribution: [0.15149818 0.00494263 0.0049366  0.00495603 0.47107632 0.35765998 0.00493025]\n",
    "\n",
    "The topic distribution mainly concerns 15% General Discussion, 47% Computer Science, and 35% Middle Eastern Discussion. I don’t see where the middle eastern comes in as this seems to be almost purely computer science. \n",
    "\n",
    "\n",
    "**Document 4:**\n",
    "Topic distribution:[0.00332487 0.00333917 0.00335736 0.00335298 0.1738728 0.80942674 0.00332609]\n",
    "\n",
    "The topic distribution mainly concerns 17% Computer Science and 80% Middle Eastern Discussion. I do not see where Computer Science comes in however it correctly identified the Middle Eastern discussion.\n",
    "\n",
    "Overall the model did a fairly good job identifying categories, however it seemed to mix middle eastern with computer science towards the end. \n"
   ]
  },
  {
   "cell_type": "markdown",
   "id": "9267144d",
   "metadata": {},
   "source": [
    "<!-- END QUESTION -->\n",
    "\n",
    "<br><br><br><br>"
   ]
  },
  {
   "cell_type": "markdown",
   "id": "5f4b692b",
   "metadata": {},
   "source": [
    "<div class=\"alert alert-warning\">\n",
    "\n",
    "hw7_sol (11).ipynb\n",
    "    \n",
    "</div>"
   ]
  },
  {
   "cell_type": "code",
   "execution_count": null,
   "id": "e8b6ff99",
   "metadata": {},
   "outputs": [
    {
     "data": {
      "text/plain": [
       "[2, 1, 2, 1, 0]"
      ]
     },
     "execution_count": 50,
     "metadata": {},
     "output_type": "execute_result"
    }
   ],
   "source": [
    "topic_assignments = [np.argmax(topic) for topic in document_topics[:5]]\n",
    "topic_assignments"
   ]
  },
  {
   "cell_type": "code",
   "execution_count": null,
   "id": "de845008",
   "metadata": {},
   "outputs": [
    {
     "data": {
      "text/html": [
       "<div>\n",
       "<style scoped>\n",
       "    .dataframe tbody tr th:only-of-type {\n",
       "        vertical-align: middle;\n",
       "    }\n",
       "\n",
       "    .dataframe tbody tr th {\n",
       "        vertical-align: top;\n",
       "    }\n",
       "\n",
       "    .dataframe thead th {\n",
       "        text-align: right;\n",
       "    }\n",
       "</style>\n",
       "<table border=\"1\" class=\"dataframe\">\n",
       "  <thead>\n",
       "    <tr style=\"text-align: right;\">\n",
       "      <th></th>\n",
       "      <th>target_name</th>\n",
       "    </tr>\n",
       "  </thead>\n",
       "  <tbody>\n",
       "    <tr>\n",
       "      <th>0</th>\n",
       "      <td>talk.politics.guns</td>\n",
       "    </tr>\n",
       "    <tr>\n",
       "      <th>1</th>\n",
       "      <td>comp.graphics</td>\n",
       "    </tr>\n",
       "    <tr>\n",
       "      <th>2</th>\n",
       "      <td>comp.graphics</td>\n",
       "    </tr>\n",
       "    <tr>\n",
       "      <th>3</th>\n",
       "      <td>comp.windows.x</td>\n",
       "    </tr>\n",
       "    <tr>\n",
       "      <th>4</th>\n",
       "      <td>talk.politics.mideast</td>\n",
       "    </tr>\n",
       "  </tbody>\n",
       "</table>\n",
       "</div>"
      ],
      "text/plain": [
       "             target_name\n",
       "0     talk.politics.guns\n",
       "1          comp.graphics\n",
       "2          comp.graphics\n",
       "3         comp.windows.x\n",
       "4  talk.politics.mideast"
      ]
     },
     "execution_count": 51,
     "metadata": {},
     "output_type": "execute_result"
    }
   ],
   "source": [
    "df[[\"target_name\"]].head(5)"
   ]
  },
  {
   "cell_type": "markdown",
   "id": "b7114ebd",
   "metadata": {},
   "source": [
    "The model incorrectly assigns topic `religion` to document 0.\\\n",
    "The model correctly assigns topic `computers` to document 1.\\\n",
    "The model incorrectly assigns topic `religion` to document 2.\\\n",
    "The model correctly assigns topic `computers` to document 3.\\\n",
    "The model correctly assigns topic `politics` to document 4."
   ]
  },
  {
   "cell_type": "markdown",
   "id": "b32f4d2b",
   "metadata": {},
   "source": [
    "<!-- END QUESTION -->\n",
    "\n",
    "<br><br><br><br>"
   ]
  },
  {
   "cell_type": "markdown",
   "id": "152e3699",
   "metadata": {},
   "source": [
    "<div class=\"alert alert-warning\">\n",
    "\n",
    "hw7_sol (46).ipynb\n",
    "    \n",
    "</div>"
   ]
  },
  {
   "cell_type": "code",
   "execution_count": null,
   "id": "26b285d9",
   "metadata": {},
   "outputs": [
    {
     "name": "stdout",
     "output_type": "stream",
     "text": [
      "[0.00501964 0.00498656 0.98492757 0.00506624]\n",
      "[0.00366609 0.00369407 0.1559993  0.83664054]\n",
      "[0.00487997 0.00497126 0.69445644 0.29569233]\n",
      "[0.00897028 0.00876083 0.05805558 0.92421331]\n",
      "[0.7663498  0.00596384 0.22153447 0.00615189]\n"
     ]
    }
   ],
   "source": [
    "for i in range(5):\n",
    "    print(document_topics[i])"
   ]
  },
  {
   "cell_type": "markdown",
   "id": "1511eaae",
   "metadata": {},
   "source": [
    "The array shows how likely a document is to be about a topic. Document 1 is most likely about topic 2 (98%, religion), doc 2 is likely about topic 3 (83%, computer), doc 3 about topic 2 (69%, religion), doc 4 about topic 3 (92%, computer), and doc 5 about topic 0 (76%, armanian genocide/war)."
   ]
  },
  {
   "cell_type": "markdown",
   "id": "ee48a0a2",
   "metadata": {},
   "source": [
    "<!-- END QUESTION -->\n",
    "\n",
    "<br><br><br><br>"
   ]
  },
  {
   "cell_type": "markdown",
   "id": "743e7d05",
   "metadata": {},
   "source": [
    "<div class=\"alert alert-warning\">\n",
    "\n",
    "hw7_sol (25).ipynb\n",
    "    \n",
    "</div>"
   ]
  },
  {
   "cell_type": "code",
   "execution_count": null,
   "id": "ed7b3159",
   "metadata": {},
   "outputs": [
    {
     "name": "stdout",
     "output_type": "stream",
     "text": [
      "The topic association for \"document 0\" is: topic 2 - comp.windows.x\n",
      "The topic association for \"document 1\" is: topic 0 - alt.atheism\n",
      "The topic association for \"document 2\" is: topic 2 - comp.windows.x\n",
      "The topic association for \"document 3\" is: topic 2 - comp.windows.x\n",
      "The topic association for \"document 4\" is: topic 7 - talk.politics.mideast\n"
     ]
    }
   ],
   "source": [
    "topics = [\n",
    "    'alt.atheism',\n",
    "    'comp.graphics',\n",
    "    'comp.windows.x',\n",
    "    'rec.sport.baseball',\n",
    "    'rec.sport.hockey',\n",
    "    'soc.religion.christian',\n",
    "    'talk.politics.guns',\n",
    "    'talk.politics.mideast'\n",
    "]\n",
    "# Create a dictionary mapping each index to the corresponding topic\n",
    "topic_dict = {i: topic for i, topic in enumerate(topics)}\n",
    "query_n = 5\n",
    "\n",
    "for n in range(query_n):\n",
    "    topic = np.argmax(document_topics[n])\n",
    "    print(\"The topic association for \\\"document %d\\\" is: topic %d - %s\" % (n, topic, topic_dict[topic]))\n"
   ]
  },
  {
   "cell_type": "markdown",
   "id": "2328268f",
   "metadata": {},
   "source": [
    "2. The model accurately identified the topics for documents 2, 3, and 4 but made errors with documents 0 and 1. Document 0 was incorrectly classified as 'comp.windows.x' instead of the correct 'talk.politics.guns', and document 1 was misclassified as 'alt.atheism' instead of 'comp.windows.x'. This indicates the model's strong performance in identifying computer-related topics but shows a need for improvement in accurately distinguishing between other non-technical topics."
   ]
  },
  {
   "cell_type": "markdown",
   "id": "b0c6e097",
   "metadata": {},
   "source": [
    "<!-- END QUESTION -->\n",
    "\n",
    "<br><br><br><br>"
   ]
  },
  {
   "cell_type": "markdown",
   "id": "a3ef2931",
   "metadata": {},
   "source": [
    "<div class=\"alert alert-warning\">\n",
    "\n",
    "hw7_sol (29).ipynb\n",
    "    \n",
    "</div>"
   ]
  },
  {
   "cell_type": "code",
   "execution_count": null,
   "id": "68dd0652",
   "metadata": {},
   "outputs": [],
   "source": [
    "topic_distributions = lda_model.transform(X_vectorized)\n",
    "\n",
    "most_likely_topics = topic_distributions.argmax(axis=1)[:5]\n",
    "\n",
    "df_first_five = df.head().copy()\n",
    "df_first_five['Most Likely Topic'] = most_likely_topics + 1  \n",
    "\n",
    "pd.set_option('display.max_colwidth', None)\n",
    "\n",
    "print(df_first_five[['text', 'Most Likely Topic']])"
   ]
  },
  {
   "cell_type": "markdown",
   "id": "b16f534b",
   "metadata": {},
   "source": [
    "### Analysis of Snippets to Topics\n",
    "\n",
    "1. **Snippet 1 (Topic 3: Religion and Society)**\n",
    "   - The discussion about laws and rights might seem better suited to a legal or political category, but it's placed here possibly due to the absence of a more fitting topic. The topic's focus on societal structures could loosely encompass legal debates.\n",
    "\n",
    "2. **Snippet 2 (Topic 6: Software Development)**\n",
    "   - Describes a technical procedure for finding a sphere's center, fitting well with topics related to programming or mathematical computations, aligning with \"Software Development\".\n",
    "\n",
    "3. **Snippet 3 (Topic 8: Philosophy and Belief Systems)**\n",
    "   - Discusses preferences for structuring discussion groups, which is somewhat related to personal beliefs and systems of organizing information, hence the philosophical aspect.\n",
    "\n",
    "4. **Snippet 4 (Topic 6: Software Development)**\n",
    "   - Talks about specific software behavior and event handling, clearly aligning with \"Software Development\".\n",
    "\n",
    "5. **Snippet 5 (Topic 10: Historical and Ethnic Conflicts)**\n",
    "   - Mentions Turkey's actions towards Armenia, touching on historical and geopolitical issues, making \"Historical and Ethnic Conflicts\" a relevant topic.\n"
   ]
  },
  {
   "cell_type": "markdown",
   "id": "8ee7580f",
   "metadata": {},
   "source": [
    "<!-- END QUESTION -->\n",
    "\n",
    "<br><br><br><br>"
   ]
  },
  {
   "cell_type": "markdown",
   "id": "a776faa4",
   "metadata": {},
   "source": [
    "<div class=\"alert alert-warning\">\n",
    "\n",
    "hw7_sol (37).ipynb\n",
    "    \n",
    "</div>"
   ]
  },
  {
   "cell_type": "code",
   "execution_count": null,
   "id": "d8311a9d",
   "metadata": {},
   "outputs": [
    {
     "name": "stdout",
     "output_type": "stream",
     "text": [
      "Document 1 Topic Distribution: [0.00350942 0.00350021 0.00350901 0.00351063 0.98597073]\n",
      "Document 1 Dominant Topic: 4 - Topic 4\n",
      "\n",
      "Document 2 Topic Distribution: [0.00287662 0.59370846 0.39766549 0.00284505 0.00290438]\n",
      "Document 2 Dominant Topic: 1 - Topic 1\n",
      "\n",
      "Document 3 Topic Distribution: [0.00392924 0.00391409 0.20054086 0.00386212 0.78775369]\n",
      "Document 3 Dominant Topic: 4 - Topic 4\n",
      "\n",
      "Document 4 Topic Distribution: [0.00749301 0.00744341 0.07970162 0.00742656 0.89793539]\n",
      "Document 4 Dominant Topic: 4 - Topic 4\n",
      "\n",
      "Document 5 Topic Distribution: [0.00474522 0.00470917 0.00471451 0.26615698 0.71967412]\n",
      "Document 5 Dominant Topic: 4 - Topic 4\n",
      "\n"
     ]
    }
   ],
   "source": [
    "\n",
    "topic_labels = [\"Topic 0\", \"Topic 1\", \"Topic 2\", \"Topic 3\", \"Topic 4\"]\n",
    "topic_assignments = lda.transform(X[:5])\n",
    "for i, topic_probs in enumerate(topic_assignments):\n",
    "    print(f\"Document {i + 1} Topic Distribution:\", topic_probs)\n",
    "    dominant_topic = topic_probs.argmax()\n",
    "    if dominant_topic < len(topic_labels):  # Ensure dominant_topic is within range\n",
    "        print(f\"Document {i + 1} Dominant Topic:\", dominant_topic, \"-\", topic_labels[dominant_topic])\n",
    "    else:\n",
    "        print(f\"Document {i + 1} Dominant Topic:\", dominant_topic, \"- No label available\")\n",
    "    print()\n",
    "\n",
    "\n"
   ]
  },
  {
   "cell_type": "markdown",
   "id": "702b80b5",
   "metadata": {},
   "source": [
    "<!-- END QUESTION -->\n",
    "we'll analyze the document topic assignments and assess whether they align with our expectations or provide meaningful insights into the content of the documents. If the topic assignments appear coherent and relevant to the content of the documents, it indicates that the LDA model has successfully captured the underlying topics in the corpus. However, if the assignments seem random or unrelated to the document content, it suggests that the model may not be effectively capturing the latent topics\n",
    "<br><br><br><br>"
   ]
  },
  {
   "cell_type": "markdown",
   "id": "cdbdb6c5",
   "metadata": {},
   "source": [
    "<div class=\"alert alert-warning\">\n",
    "\n",
    "hw7_sol (13).ipynb\n",
    "    \n",
    "</div>"
   ]
  },
  {
   "cell_type": "code",
   "execution_count": null,
   "id": "c42cc590",
   "metadata": {},
   "outputs": [
    {
     "name": "stdout",
     "output_type": "stream",
     "text": [
      "Document 0: know read sence wonder help provide paragraph shall unlawful person transfer possess machinegun get look law dictionary find person artificial entity create government right federal constitution understand statute like enforce individual tell government tell possess pass law law know law constitional go court go court run mill ok guilty jail claim right possess tell Supreme Court right\n",
      "Document 0 assignment: 2\n",
      "Document 1: bad question ref list algorithm think bit hard point find plane define circle lie algorithm find center circle line pass center perpendicular plane point pass center sphere repeat unused point original point give different line pass sphere origin interection center sphere radius easy compute distance center original point leave math workable algorithm alternate method pair point plane form perpendicular bisector line segment pair contain center sphere pair form plane intersect point easy implement\n",
      "Document 1 assignment: 0\n",
      "Document 2: Actuallay hand support idea have newsgroup aspect graphic programming propose Brian reply original posting suggest loose structure like reason make group possible reason spilt posting day take time browse posting find interested understand agree want aspect graphic meeting agree extension news forum exchange idea help help think difficult achive different thing meeting good evening\n",
      "Document 2 assignment: 7\n",
      "Document 3: follow problem bug appreciate help create window child root child Keypress event discard ButtonPress event fall subwindow set FYI xnew olvwm fundamentally wrong\n",
      "Document 3 assignment: 0\n",
      "Document 4: late UPI Foreign Ministry spokesman Ferhat Ataman tell journalist Turkey close air space flight Armenia prevent humanitarian aid reach republic overland turkish territory historically uncivilized people exhibit sign compassion allow humanitarian aid reach civilian population Nazis Turkey publicly pronounce hypocrite choose continue condemnation Serbians\n",
      "Document 4 assignment: 4\n"
     ]
    }
   ],
   "source": [
    "for i in range(5):\n",
    "    print(f\"Document {i}: {df['text_pp'][i]}\")\n",
    "    print(f\"Document {i} assignment: {document_topics[i].argmax()}\")"
   ]
  },
  {
   "cell_type": "markdown",
   "id": "338c7f3d",
   "metadata": {},
   "source": [
    "The document topic assignment of the model seems to be quite accurate. The topics assigned to the documents are relevant to the content of the documents."
   ]
  },
  {
   "cell_type": "markdown",
   "id": "0ad5c60b",
   "metadata": {},
   "source": [
    "<!-- END QUESTION -->\n",
    "\n",
    "<br><br><br><br>"
   ]
  },
  {
   "cell_type": "markdown",
   "id": "d5dc489b",
   "metadata": {},
   "source": [
    "<div class=\"alert alert-warning\">\n",
    "\n",
    "hw7_sol (3).ipynb\n",
    "    \n",
    "</div>"
   ]
  },
  {
   "cell_type": "code",
   "execution_count": null,
   "id": "ac2425c2",
   "metadata": {},
   "outputs": [],
   "source": [
    "# sorting = np.argsort(lda.components_, axis=1)[:, ::-1]\n",
    "feature_names = newsgroups_train.target_names"
   ]
  },
  {
   "cell_type": "code",
   "execution_count": null,
   "id": "41d7725f",
   "metadata": {},
   "outputs": [],
   "source": [
    "import mglearn\n",
    "\n",
    "mglearn.tools.print_topics(\n",
    "    topics=range(3),\n",
    "    feature_names=feature_names,\n",
    "    sorting=sorting,\n",
    "    topics_per_chunk=5,\n",
    "    n_words=10,\n",
    ")"
   ]
  },
  {
   "cell_type": "markdown",
   "id": "3b7bc3e4",
   "metadata": {},
   "source": [
    "<!-- END QUESTION -->\n",
    "\n",
    "<br><br><br><br>"
   ]
  }
 ],
 "metadata": {},
 "nbformat": 4,
 "nbformat_minor": 5
}
